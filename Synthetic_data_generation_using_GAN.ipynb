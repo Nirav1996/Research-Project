{
  "nbformat": 4,
  "nbformat_minor": 0,
  "metadata": {
    "colab": {
      "provenance": []
    },
    "kernelspec": {
      "name": "python3",
      "display_name": "Python 3"
    },
    "language_info": {
      "name": "python"
    },
    "widgets": {
      "application/vnd.jupyter.widget-state+json": {
        "80f7567e893c48d7863bf097efbfdfb2": {
          "model_module": "@jupyter-widgets/controls",
          "model_name": "HBoxModel",
          "model_module_version": "1.5.0",
          "state": {
            "_dom_classes": [],
            "_model_module": "@jupyter-widgets/controls",
            "_model_module_version": "1.5.0",
            "_model_name": "HBoxModel",
            "_view_count": null,
            "_view_module": "@jupyter-widgets/controls",
            "_view_module_version": "1.5.0",
            "_view_name": "HBoxView",
            "box_style": "",
            "children": [
              "IPY_MODEL_b8e49e017e2e44de893b2b2b199afdc6",
              "IPY_MODEL_18fd72a6ff8b47639c7be9c8990b1b47",
              "IPY_MODEL_59dbd0d7900f408dbce554d2ebf82673"
            ],
            "layout": "IPY_MODEL_365ead34dccb46bd9133143fb2f8f664"
          }
        },
        "b8e49e017e2e44de893b2b2b199afdc6": {
          "model_module": "@jupyter-widgets/controls",
          "model_name": "HTMLModel",
          "model_module_version": "1.5.0",
          "state": {
            "_dom_classes": [],
            "_model_module": "@jupyter-widgets/controls",
            "_model_module_version": "1.5.0",
            "_model_name": "HTMLModel",
            "_view_count": null,
            "_view_module": "@jupyter-widgets/controls",
            "_view_module_version": "1.5.0",
            "_view_name": "HTMLView",
            "description": "",
            "description_tooltip": null,
            "layout": "IPY_MODEL_cf0ad2e378974702bd48c82a756a4ae7",
            "placeholder": "​",
            "style": "IPY_MODEL_473aaf1c4ffe4a4c950c93f858049dbe",
            "value": "Fitting CTGAN transformers for each column: 100%"
          }
        },
        "18fd72a6ff8b47639c7be9c8990b1b47": {
          "model_module": "@jupyter-widgets/controls",
          "model_name": "FloatProgressModel",
          "model_module_version": "1.5.0",
          "state": {
            "_dom_classes": [],
            "_model_module": "@jupyter-widgets/controls",
            "_model_module_version": "1.5.0",
            "_model_name": "FloatProgressModel",
            "_view_count": null,
            "_view_module": "@jupyter-widgets/controls",
            "_view_module_version": "1.5.0",
            "_view_name": "ProgressView",
            "bar_style": "success",
            "description": "",
            "description_tooltip": null,
            "layout": "IPY_MODEL_4453132bd3b6498b88e700cbdb57575d",
            "max": 16,
            "min": 0,
            "orientation": "horizontal",
            "style": "IPY_MODEL_a3e9db1e4df841bda569b1b1569bb02b",
            "value": 16
          }
        },
        "59dbd0d7900f408dbce554d2ebf82673": {
          "model_module": "@jupyter-widgets/controls",
          "model_name": "HTMLModel",
          "model_module_version": "1.5.0",
          "state": {
            "_dom_classes": [],
            "_model_module": "@jupyter-widgets/controls",
            "_model_module_version": "1.5.0",
            "_model_name": "HTMLModel",
            "_view_count": null,
            "_view_module": "@jupyter-widgets/controls",
            "_view_module_version": "1.5.0",
            "_view_name": "HTMLView",
            "description": "",
            "description_tooltip": null,
            "layout": "IPY_MODEL_842d0f73b62b46fa88ff7111c50fae8a",
            "placeholder": "​",
            "style": "IPY_MODEL_b00947f50d9b4dce994742103a98eabc",
            "value": " 16/16 [01:57&lt;00:00,  5.34s/it]"
          }
        },
        "365ead34dccb46bd9133143fb2f8f664": {
          "model_module": "@jupyter-widgets/base",
          "model_name": "LayoutModel",
          "model_module_version": "1.2.0",
          "state": {
            "_model_module": "@jupyter-widgets/base",
            "_model_module_version": "1.2.0",
            "_model_name": "LayoutModel",
            "_view_count": null,
            "_view_module": "@jupyter-widgets/base",
            "_view_module_version": "1.2.0",
            "_view_name": "LayoutView",
            "align_content": null,
            "align_items": null,
            "align_self": null,
            "border": null,
            "bottom": null,
            "display": null,
            "flex": null,
            "flex_flow": null,
            "grid_area": null,
            "grid_auto_columns": null,
            "grid_auto_flow": null,
            "grid_auto_rows": null,
            "grid_column": null,
            "grid_gap": null,
            "grid_row": null,
            "grid_template_areas": null,
            "grid_template_columns": null,
            "grid_template_rows": null,
            "height": null,
            "justify_content": null,
            "justify_items": null,
            "left": null,
            "margin": null,
            "max_height": null,
            "max_width": null,
            "min_height": null,
            "min_width": null,
            "object_fit": null,
            "object_position": null,
            "order": null,
            "overflow": null,
            "overflow_x": null,
            "overflow_y": null,
            "padding": null,
            "right": null,
            "top": null,
            "visibility": null,
            "width": null
          }
        },
        "cf0ad2e378974702bd48c82a756a4ae7": {
          "model_module": "@jupyter-widgets/base",
          "model_name": "LayoutModel",
          "model_module_version": "1.2.0",
          "state": {
            "_model_module": "@jupyter-widgets/base",
            "_model_module_version": "1.2.0",
            "_model_name": "LayoutModel",
            "_view_count": null,
            "_view_module": "@jupyter-widgets/base",
            "_view_module_version": "1.2.0",
            "_view_name": "LayoutView",
            "align_content": null,
            "align_items": null,
            "align_self": null,
            "border": null,
            "bottom": null,
            "display": null,
            "flex": null,
            "flex_flow": null,
            "grid_area": null,
            "grid_auto_columns": null,
            "grid_auto_flow": null,
            "grid_auto_rows": null,
            "grid_column": null,
            "grid_gap": null,
            "grid_row": null,
            "grid_template_areas": null,
            "grid_template_columns": null,
            "grid_template_rows": null,
            "height": null,
            "justify_content": null,
            "justify_items": null,
            "left": null,
            "margin": null,
            "max_height": null,
            "max_width": null,
            "min_height": null,
            "min_width": null,
            "object_fit": null,
            "object_position": null,
            "order": null,
            "overflow": null,
            "overflow_x": null,
            "overflow_y": null,
            "padding": null,
            "right": null,
            "top": null,
            "visibility": null,
            "width": null
          }
        },
        "473aaf1c4ffe4a4c950c93f858049dbe": {
          "model_module": "@jupyter-widgets/controls",
          "model_name": "DescriptionStyleModel",
          "model_module_version": "1.5.0",
          "state": {
            "_model_module": "@jupyter-widgets/controls",
            "_model_module_version": "1.5.0",
            "_model_name": "DescriptionStyleModel",
            "_view_count": null,
            "_view_module": "@jupyter-widgets/base",
            "_view_module_version": "1.2.0",
            "_view_name": "StyleView",
            "description_width": ""
          }
        },
        "4453132bd3b6498b88e700cbdb57575d": {
          "model_module": "@jupyter-widgets/base",
          "model_name": "LayoutModel",
          "model_module_version": "1.2.0",
          "state": {
            "_model_module": "@jupyter-widgets/base",
            "_model_module_version": "1.2.0",
            "_model_name": "LayoutModel",
            "_view_count": null,
            "_view_module": "@jupyter-widgets/base",
            "_view_module_version": "1.2.0",
            "_view_name": "LayoutView",
            "align_content": null,
            "align_items": null,
            "align_self": null,
            "border": null,
            "bottom": null,
            "display": null,
            "flex": null,
            "flex_flow": null,
            "grid_area": null,
            "grid_auto_columns": null,
            "grid_auto_flow": null,
            "grid_auto_rows": null,
            "grid_column": null,
            "grid_gap": null,
            "grid_row": null,
            "grid_template_areas": null,
            "grid_template_columns": null,
            "grid_template_rows": null,
            "height": null,
            "justify_content": null,
            "justify_items": null,
            "left": null,
            "margin": null,
            "max_height": null,
            "max_width": null,
            "min_height": null,
            "min_width": null,
            "object_fit": null,
            "object_position": null,
            "order": null,
            "overflow": null,
            "overflow_x": null,
            "overflow_y": null,
            "padding": null,
            "right": null,
            "top": null,
            "visibility": null,
            "width": null
          }
        },
        "a3e9db1e4df841bda569b1b1569bb02b": {
          "model_module": "@jupyter-widgets/controls",
          "model_name": "ProgressStyleModel",
          "model_module_version": "1.5.0",
          "state": {
            "_model_module": "@jupyter-widgets/controls",
            "_model_module_version": "1.5.0",
            "_model_name": "ProgressStyleModel",
            "_view_count": null,
            "_view_module": "@jupyter-widgets/base",
            "_view_module_version": "1.2.0",
            "_view_name": "StyleView",
            "bar_color": null,
            "description_width": ""
          }
        },
        "842d0f73b62b46fa88ff7111c50fae8a": {
          "model_module": "@jupyter-widgets/base",
          "model_name": "LayoutModel",
          "model_module_version": "1.2.0",
          "state": {
            "_model_module": "@jupyter-widgets/base",
            "_model_module_version": "1.2.0",
            "_model_name": "LayoutModel",
            "_view_count": null,
            "_view_module": "@jupyter-widgets/base",
            "_view_module_version": "1.2.0",
            "_view_name": "LayoutView",
            "align_content": null,
            "align_items": null,
            "align_self": null,
            "border": null,
            "bottom": null,
            "display": null,
            "flex": null,
            "flex_flow": null,
            "grid_area": null,
            "grid_auto_columns": null,
            "grid_auto_flow": null,
            "grid_auto_rows": null,
            "grid_column": null,
            "grid_gap": null,
            "grid_row": null,
            "grid_template_areas": null,
            "grid_template_columns": null,
            "grid_template_rows": null,
            "height": null,
            "justify_content": null,
            "justify_items": null,
            "left": null,
            "margin": null,
            "max_height": null,
            "max_width": null,
            "min_height": null,
            "min_width": null,
            "object_fit": null,
            "object_position": null,
            "order": null,
            "overflow": null,
            "overflow_x": null,
            "overflow_y": null,
            "padding": null,
            "right": null,
            "top": null,
            "visibility": null,
            "width": null
          }
        },
        "b00947f50d9b4dce994742103a98eabc": {
          "model_module": "@jupyter-widgets/controls",
          "model_name": "DescriptionStyleModel",
          "model_module_version": "1.5.0",
          "state": {
            "_model_module": "@jupyter-widgets/controls",
            "_model_module_version": "1.5.0",
            "_model_name": "DescriptionStyleModel",
            "_view_count": null,
            "_view_module": "@jupyter-widgets/base",
            "_view_module_version": "1.2.0",
            "_view_name": "StyleView",
            "description_width": ""
          }
        },
        "a34c2dc205d247f08b20155b27b64c14": {
          "model_module": "@jupyter-widgets/controls",
          "model_name": "HBoxModel",
          "model_module_version": "1.5.0",
          "state": {
            "_dom_classes": [],
            "_model_module": "@jupyter-widgets/controls",
            "_model_module_version": "1.5.0",
            "_model_name": "HBoxModel",
            "_view_count": null,
            "_view_module": "@jupyter-widgets/controls",
            "_view_module_version": "1.5.0",
            "_view_name": "HBoxView",
            "box_style": "",
            "children": [
              "IPY_MODEL_5f0837f4d98748f1926619cccd63020c",
              "IPY_MODEL_a8886d5af66e4135bdfc53776ff917d5",
              "IPY_MODEL_78fdab0231ff4856a1553a539543adfb"
            ],
            "layout": "IPY_MODEL_5d750db285664ac991f2da1a07c40001"
          }
        },
        "5f0837f4d98748f1926619cccd63020c": {
          "model_module": "@jupyter-widgets/controls",
          "model_name": "HTMLModel",
          "model_module_version": "1.5.0",
          "state": {
            "_dom_classes": [],
            "_model_module": "@jupyter-widgets/controls",
            "_model_module_version": "1.5.0",
            "_model_name": "HTMLModel",
            "_view_count": null,
            "_view_module": "@jupyter-widgets/controls",
            "_view_module_version": "1.5.0",
            "_view_name": "HTMLView",
            "description": "",
            "description_tooltip": null,
            "layout": "IPY_MODEL_abb04467e99b408dbe4dead89222a1d3",
            "placeholder": "​",
            "style": "IPY_MODEL_4b3987871dc8406fbd88abb57d511d4b",
            "value": "Training CTGAN, epochs::  36%"
          }
        },
        "a8886d5af66e4135bdfc53776ff917d5": {
          "model_module": "@jupyter-widgets/controls",
          "model_name": "FloatProgressModel",
          "model_module_version": "1.5.0",
          "state": {
            "_dom_classes": [],
            "_model_module": "@jupyter-widgets/controls",
            "_model_module_version": "1.5.0",
            "_model_name": "FloatProgressModel",
            "_view_count": null,
            "_view_module": "@jupyter-widgets/controls",
            "_view_module_version": "1.5.0",
            "_view_name": "ProgressView",
            "bar_style": "danger",
            "description": "",
            "description_tooltip": null,
            "layout": "IPY_MODEL_26cd463e762c4c84b9e2065c7b043f78",
            "max": 500,
            "min": 0,
            "orientation": "horizontal",
            "style": "IPY_MODEL_10e5479233b0484f817a4b3a57c29a32",
            "value": 181
          }
        },
        "78fdab0231ff4856a1553a539543adfb": {
          "model_module": "@jupyter-widgets/controls",
          "model_name": "HTMLModel",
          "model_module_version": "1.5.0",
          "state": {
            "_dom_classes": [],
            "_model_module": "@jupyter-widgets/controls",
            "_model_module_version": "1.5.0",
            "_model_name": "HTMLModel",
            "_view_count": null,
            "_view_module": "@jupyter-widgets/controls",
            "_view_module_version": "1.5.0",
            "_view_name": "HTMLView",
            "description": "",
            "description_tooltip": null,
            "layout": "IPY_MODEL_47eb07c5e5a244bdade06d4b0be0e6d4",
            "placeholder": "​",
            "style": "IPY_MODEL_1104e1a9379c49dcb645f65e55ec3371",
            "value": " 181/500 [46:58&lt;1:20:28, 15.14s/it]"
          }
        },
        "5d750db285664ac991f2da1a07c40001": {
          "model_module": "@jupyter-widgets/base",
          "model_name": "LayoutModel",
          "model_module_version": "1.2.0",
          "state": {
            "_model_module": "@jupyter-widgets/base",
            "_model_module_version": "1.2.0",
            "_model_name": "LayoutModel",
            "_view_count": null,
            "_view_module": "@jupyter-widgets/base",
            "_view_module_version": "1.2.0",
            "_view_name": "LayoutView",
            "align_content": null,
            "align_items": null,
            "align_self": null,
            "border": null,
            "bottom": null,
            "display": null,
            "flex": null,
            "flex_flow": null,
            "grid_area": null,
            "grid_auto_columns": null,
            "grid_auto_flow": null,
            "grid_auto_rows": null,
            "grid_column": null,
            "grid_gap": null,
            "grid_row": null,
            "grid_template_areas": null,
            "grid_template_columns": null,
            "grid_template_rows": null,
            "height": null,
            "justify_content": null,
            "justify_items": null,
            "left": null,
            "margin": null,
            "max_height": null,
            "max_width": null,
            "min_height": null,
            "min_width": null,
            "object_fit": null,
            "object_position": null,
            "order": null,
            "overflow": null,
            "overflow_x": null,
            "overflow_y": null,
            "padding": null,
            "right": null,
            "top": null,
            "visibility": null,
            "width": null
          }
        },
        "abb04467e99b408dbe4dead89222a1d3": {
          "model_module": "@jupyter-widgets/base",
          "model_name": "LayoutModel",
          "model_module_version": "1.2.0",
          "state": {
            "_model_module": "@jupyter-widgets/base",
            "_model_module_version": "1.2.0",
            "_model_name": "LayoutModel",
            "_view_count": null,
            "_view_module": "@jupyter-widgets/base",
            "_view_module_version": "1.2.0",
            "_view_name": "LayoutView",
            "align_content": null,
            "align_items": null,
            "align_self": null,
            "border": null,
            "bottom": null,
            "display": null,
            "flex": null,
            "flex_flow": null,
            "grid_area": null,
            "grid_auto_columns": null,
            "grid_auto_flow": null,
            "grid_auto_rows": null,
            "grid_column": null,
            "grid_gap": null,
            "grid_row": null,
            "grid_template_areas": null,
            "grid_template_columns": null,
            "grid_template_rows": null,
            "height": null,
            "justify_content": null,
            "justify_items": null,
            "left": null,
            "margin": null,
            "max_height": null,
            "max_width": null,
            "min_height": null,
            "min_width": null,
            "object_fit": null,
            "object_position": null,
            "order": null,
            "overflow": null,
            "overflow_x": null,
            "overflow_y": null,
            "padding": null,
            "right": null,
            "top": null,
            "visibility": null,
            "width": null
          }
        },
        "4b3987871dc8406fbd88abb57d511d4b": {
          "model_module": "@jupyter-widgets/controls",
          "model_name": "DescriptionStyleModel",
          "model_module_version": "1.5.0",
          "state": {
            "_model_module": "@jupyter-widgets/controls",
            "_model_module_version": "1.5.0",
            "_model_name": "DescriptionStyleModel",
            "_view_count": null,
            "_view_module": "@jupyter-widgets/base",
            "_view_module_version": "1.2.0",
            "_view_name": "StyleView",
            "description_width": ""
          }
        },
        "26cd463e762c4c84b9e2065c7b043f78": {
          "model_module": "@jupyter-widgets/base",
          "model_name": "LayoutModel",
          "model_module_version": "1.2.0",
          "state": {
            "_model_module": "@jupyter-widgets/base",
            "_model_module_version": "1.2.0",
            "_model_name": "LayoutModel",
            "_view_count": null,
            "_view_module": "@jupyter-widgets/base",
            "_view_module_version": "1.2.0",
            "_view_name": "LayoutView",
            "align_content": null,
            "align_items": null,
            "align_self": null,
            "border": null,
            "bottom": null,
            "display": null,
            "flex": null,
            "flex_flow": null,
            "grid_area": null,
            "grid_auto_columns": null,
            "grid_auto_flow": null,
            "grid_auto_rows": null,
            "grid_column": null,
            "grid_gap": null,
            "grid_row": null,
            "grid_template_areas": null,
            "grid_template_columns": null,
            "grid_template_rows": null,
            "height": null,
            "justify_content": null,
            "justify_items": null,
            "left": null,
            "margin": null,
            "max_height": null,
            "max_width": null,
            "min_height": null,
            "min_width": null,
            "object_fit": null,
            "object_position": null,
            "order": null,
            "overflow": null,
            "overflow_x": null,
            "overflow_y": null,
            "padding": null,
            "right": null,
            "top": null,
            "visibility": null,
            "width": null
          }
        },
        "10e5479233b0484f817a4b3a57c29a32": {
          "model_module": "@jupyter-widgets/controls",
          "model_name": "ProgressStyleModel",
          "model_module_version": "1.5.0",
          "state": {
            "_model_module": "@jupyter-widgets/controls",
            "_model_module_version": "1.5.0",
            "_model_name": "ProgressStyleModel",
            "_view_count": null,
            "_view_module": "@jupyter-widgets/base",
            "_view_module_version": "1.2.0",
            "_view_name": "StyleView",
            "bar_color": null,
            "description_width": ""
          }
        },
        "47eb07c5e5a244bdade06d4b0be0e6d4": {
          "model_module": "@jupyter-widgets/base",
          "model_name": "LayoutModel",
          "model_module_version": "1.2.0",
          "state": {
            "_model_module": "@jupyter-widgets/base",
            "_model_module_version": "1.2.0",
            "_model_name": "LayoutModel",
            "_view_count": null,
            "_view_module": "@jupyter-widgets/base",
            "_view_module_version": "1.2.0",
            "_view_name": "LayoutView",
            "align_content": null,
            "align_items": null,
            "align_self": null,
            "border": null,
            "bottom": null,
            "display": null,
            "flex": null,
            "flex_flow": null,
            "grid_area": null,
            "grid_auto_columns": null,
            "grid_auto_flow": null,
            "grid_auto_rows": null,
            "grid_column": null,
            "grid_gap": null,
            "grid_row": null,
            "grid_template_areas": null,
            "grid_template_columns": null,
            "grid_template_rows": null,
            "height": null,
            "justify_content": null,
            "justify_items": null,
            "left": null,
            "margin": null,
            "max_height": null,
            "max_width": null,
            "min_height": null,
            "min_width": null,
            "object_fit": null,
            "object_position": null,
            "order": null,
            "overflow": null,
            "overflow_x": null,
            "overflow_y": null,
            "padding": null,
            "right": null,
            "top": null,
            "visibility": null,
            "width": null
          }
        },
        "1104e1a9379c49dcb645f65e55ec3371": {
          "model_module": "@jupyter-widgets/controls",
          "model_name": "DescriptionStyleModel",
          "model_module_version": "1.5.0",
          "state": {
            "_model_module": "@jupyter-widgets/controls",
            "_model_module_version": "1.5.0",
            "_model_name": "DescriptionStyleModel",
            "_view_count": null,
            "_view_module": "@jupyter-widgets/base",
            "_view_module_version": "1.2.0",
            "_view_name": "StyleView",
            "description_width": ""
          }
        }
      }
    }
  },
  "cells": [
    {
      "cell_type": "code",
      "execution_count": null,
      "metadata": {
        "colab": {
          "base_uri": "https://localhost:8080/",
          "height": 1000
        },
        "id": "4XzvtjtxZs5j",
        "outputId": "962723fa-aa16-477a-8437-9f3a0db6d780"
      },
      "outputs": [
        {
          "output_type": "stream",
          "name": "stdout",
          "text": [
            "--2022-12-08 00:22:36--  https://raw.githubusercontent.com/Diyago/GAN-for-tabular-data/master/requirements.txt\n",
            "Resolving raw.githubusercontent.com (raw.githubusercontent.com)... 185.199.110.133, 185.199.111.133, 185.199.108.133, ...\n",
            "Connecting to raw.githubusercontent.com (raw.githubusercontent.com)|185.199.110.133|:443... connected.\n",
            "HTTP request sent, awaiting response... 200 OK\n",
            "Length: 184 [text/plain]\n",
            "Saving to: ‘requirements.txt’\n",
            "\n",
            "requirements.txt    100%[===================>]     184  --.-KB/s    in 0s      \n",
            "\n",
            "2022-12-08 00:22:36 (5.76 MB/s) - ‘requirements.txt’ saved [184/184]\n",
            "\n",
            "Looking in indexes: https://pypi.org/simple, https://us-python.pkg.dev/colab-wheels/public/simple/\n",
            "Collecting scipy==1.4.1\n",
            "  Downloading scipy-1.4.1-cp38-cp38-manylinux1_x86_64.whl (26.0 MB)\n",
            "\u001b[K     |████████████████████████████████| 26.0 MB 2.6 MB/s \n",
            "\u001b[?25hCollecting category_encoders==2.1.0\n",
            "  Downloading category_encoders-2.1.0-py2.py3-none-any.whl (100 kB)\n",
            "\u001b[K     |████████████████████████████████| 100 kB 8.5 MB/s \n",
            "\u001b[?25hCollecting numpy==1.22.0\n",
            "  Downloading numpy-1.22.0-cp38-cp38-manylinux_2_17_x86_64.manylinux2014_x86_64.whl (16.8 MB)\n",
            "\u001b[K     |████████████████████████████████| 16.8 MB 17.9 MB/s \n",
            "\u001b[?25hCollecting torch==1.6.0\n",
            "  Downloading torch-1.6.0-cp38-cp38-manylinux1_x86_64.whl (748.8 MB)\n",
            "\u001b[K     |████████████████████████████████| 748.8 MB 15 kB/s \n",
            "\u001b[?25hCollecting pandas==1.2.2\n",
            "  Downloading pandas-1.2.2-cp38-cp38-manylinux1_x86_64.whl (9.7 MB)\n",
            "\u001b[K     |████████████████████████████████| 9.7 MB 62.2 MB/s \n",
            "\u001b[?25hCollecting lightgbm==2.3.1\n",
            "  Downloading lightgbm-2.3.1-py2.py3-none-manylinux1_x86_64.whl (1.2 MB)\n",
            "\u001b[K     |████████████████████████████████| 1.2 MB 51.5 MB/s \n",
            "\u001b[?25hCollecting scikit_learn==0.23.2\n",
            "  Downloading scikit_learn-0.23.2-cp38-cp38-manylinux1_x86_64.whl (6.8 MB)\n",
            "\u001b[K     |████████████████████████████████| 6.8 MB 24.4 MB/s \n",
            "\u001b[?25hRequirement already satisfied: torchvision>=0.4.2 in /usr/local/lib/python3.8/dist-packages (from -r requirements.txt (line 8)) (0.14.0+cu116)\n",
            "Collecting python-dateutil==2.8.1\n",
            "  Downloading python_dateutil-2.8.1-py2.py3-none-any.whl (227 kB)\n",
            "\u001b[K     |████████████████████████████████| 227 kB 61.9 MB/s \n",
            "\u001b[?25hCollecting tqdm==4.61.1\n",
            "  Downloading tqdm-4.61.1-py2.py3-none-any.whl (75 kB)\n",
            "\u001b[K     |████████████████████████████████| 75 kB 3.8 MB/s \n",
            "\u001b[?25hRequirement already satisfied: statsmodels>=0.6.1 in /usr/local/lib/python3.8/dist-packages (from category_encoders==2.1.0->-r requirements.txt (line 2)) (0.12.2)\n",
            "Requirement already satisfied: patsy>=0.4.1 in /usr/local/lib/python3.8/dist-packages (from category_encoders==2.1.0->-r requirements.txt (line 2)) (0.5.3)\n",
            "Requirement already satisfied: future in /usr/local/lib/python3.8/dist-packages (from torch==1.6.0->-r requirements.txt (line 4)) (0.16.0)\n",
            "Requirement already satisfied: pytz>=2017.3 in /usr/local/lib/python3.8/dist-packages (from pandas==1.2.2->-r requirements.txt (line 5)) (2022.6)\n",
            "Requirement already satisfied: joblib>=0.11 in /usr/local/lib/python3.8/dist-packages (from scikit_learn==0.23.2->-r requirements.txt (line 7)) (1.2.0)\n",
            "Requirement already satisfied: threadpoolctl>=2.0.0 in /usr/local/lib/python3.8/dist-packages (from scikit_learn==0.23.2->-r requirements.txt (line 7)) (3.1.0)\n",
            "Requirement already satisfied: six>=1.5 in /usr/local/lib/python3.8/dist-packages (from python-dateutil==2.8.1->-r requirements.txt (line 10)) (1.15.0)\n",
            "Collecting torchvision>=0.4.2\n",
            "  Downloading torchvision-0.14.0-cp38-cp38-manylinux1_x86_64.whl (24.3 MB)\n",
            "\u001b[K     |████████████████████████████████| 24.3 MB 1.3 MB/s \n",
            "\u001b[?25h  Downloading torchvision-0.13.1-cp38-cp38-manylinux1_x86_64.whl (19.1 MB)\n",
            "\u001b[K     |████████████████████████████████| 19.1 MB 15 kB/s \n",
            "\u001b[?25hRequirement already satisfied: typing-extensions in /usr/local/lib/python3.8/dist-packages (from torchvision>=0.4.2->-r requirements.txt (line 8)) (4.4.0)\n",
            "Requirement already satisfied: requests in /usr/local/lib/python3.8/dist-packages (from torchvision>=0.4.2->-r requirements.txt (line 8)) (2.23.0)\n",
            "Requirement already satisfied: pillow!=8.3.*,>=5.3.0 in /usr/local/lib/python3.8/dist-packages (from torchvision>=0.4.2->-r requirements.txt (line 8)) (7.1.2)\n",
            "  Downloading torchvision-0.13.0-cp38-cp38-manylinux1_x86_64.whl (19.1 MB)\n",
            "\u001b[K     |████████████████████████████████| 19.1 MB 1.2 MB/s \n",
            "\u001b[?25h  Downloading torchvision-0.12.0-cp38-cp38-manylinux1_x86_64.whl (21.0 MB)\n",
            "\u001b[K     |████████████████████████████████| 21.0 MB 1.2 MB/s \n",
            "\u001b[?25h  Downloading torchvision-0.11.3-cp38-cp38-manylinux1_x86_64.whl (23.2 MB)\n",
            "\u001b[K     |████████████████████████████████| 23.2 MB 1.3 MB/s \n",
            "\u001b[?25h  Downloading torchvision-0.11.2-cp38-cp38-manylinux1_x86_64.whl (23.3 MB)\n",
            "\u001b[K     |████████████████████████████████| 23.3 MB 1.4 MB/s \n",
            "\u001b[?25h  Downloading torchvision-0.11.1-cp38-cp38-manylinux1_x86_64.whl (23.3 MB)\n",
            "\u001b[K     |████████████████████████████████| 23.3 MB 1.5 MB/s \n",
            "\u001b[?25h  Downloading torchvision-0.10.1-cp38-cp38-manylinux1_x86_64.whl (22.1 MB)\n",
            "\u001b[K     |████████████████████████████████| 22.1 MB 1.3 MB/s \n",
            "\u001b[?25h  Downloading torchvision-0.10.0-cp38-cp38-manylinux1_x86_64.whl (22.1 MB)\n",
            "\u001b[K     |████████████████████████████████| 22.1 MB 1.3 MB/s \n",
            "\u001b[?25h  Downloading torchvision-0.9.1-cp38-cp38-manylinux1_x86_64.whl (17.4 MB)\n",
            "\u001b[K     |████████████████████████████████| 17.4 MB 105 kB/s \n",
            "\u001b[?25h  Downloading torchvision-0.9.0-cp38-cp38-manylinux1_x86_64.whl (17.3 MB)\n",
            "\u001b[K     |████████████████████████████████| 17.3 MB 735 kB/s \n",
            "\u001b[?25h  Downloading torchvision-0.8.2-cp38-cp38-manylinux1_x86_64.whl (12.8 MB)\n",
            "\u001b[K     |████████████████████████████████| 12.8 MB 33.3 MB/s \n",
            "\u001b[?25h  Downloading torchvision-0.8.1-cp38-cp38-manylinux1_x86_64.whl (12.8 MB)\n",
            "\u001b[K     |████████████████████████████████| 12.8 MB 24.3 MB/s \n",
            "\u001b[?25h  Downloading torchvision-0.8.0-cp38-cp38-manylinux1_x86_64.whl (11.9 MB)\n",
            "\u001b[K     |████████████████████████████████| 11.9 MB 39.0 MB/s \n",
            "\u001b[?25h  Downloading torchvision-0.7.0-cp38-cp38-manylinux1_x86_64.whl (5.9 MB)\n",
            "\u001b[K     |████████████████████████████████| 5.9 MB 49.5 MB/s \n",
            "\u001b[?25hInstalling collected packages: python-dateutil, numpy, scipy, pandas, torch, scikit-learn, tqdm, torchvision, lightgbm, category-encoders\n",
            "  Attempting uninstall: python-dateutil\n",
            "    Found existing installation: python-dateutil 2.8.2\n",
            "    Uninstalling python-dateutil-2.8.2:\n",
            "      Successfully uninstalled python-dateutil-2.8.2\n",
            "  Attempting uninstall: numpy\n",
            "    Found existing installation: numpy 1.21.6\n",
            "    Uninstalling numpy-1.21.6:\n",
            "      Successfully uninstalled numpy-1.21.6\n",
            "  Attempting uninstall: scipy\n",
            "    Found existing installation: scipy 1.7.3\n",
            "    Uninstalling scipy-1.7.3:\n",
            "      Successfully uninstalled scipy-1.7.3\n",
            "  Attempting uninstall: pandas\n",
            "    Found existing installation: pandas 1.3.5\n",
            "    Uninstalling pandas-1.3.5:\n",
            "      Successfully uninstalled pandas-1.3.5\n",
            "  Attempting uninstall: torch\n",
            "    Found existing installation: torch 1.13.0+cu116\n",
            "    Uninstalling torch-1.13.0+cu116:\n",
            "      Successfully uninstalled torch-1.13.0+cu116\n",
            "  Attempting uninstall: scikit-learn\n",
            "    Found existing installation: scikit-learn 1.0.2\n",
            "    Uninstalling scikit-learn-1.0.2:\n",
            "      Successfully uninstalled scikit-learn-1.0.2\n",
            "  Attempting uninstall: tqdm\n",
            "    Found existing installation: tqdm 4.64.1\n",
            "    Uninstalling tqdm-4.64.1:\n",
            "      Successfully uninstalled tqdm-4.64.1\n",
            "  Attempting uninstall: torchvision\n",
            "    Found existing installation: torchvision 0.14.0+cu116\n",
            "    Uninstalling torchvision-0.14.0+cu116:\n",
            "      Successfully uninstalled torchvision-0.14.0+cu116\n",
            "  Attempting uninstall: lightgbm\n",
            "    Found existing installation: lightgbm 2.2.3\n",
            "    Uninstalling lightgbm-2.2.3:\n",
            "      Successfully uninstalled lightgbm-2.2.3\n",
            "\u001b[31mERROR: pip's dependency resolver does not currently take into account all the packages that are installed. This behaviour is the source of the following dependency conflicts.\n",
            "yellowbrick 1.5 requires scikit-learn>=1.0.0, but you have scikit-learn 0.23.2 which is incompatible.\n",
            "xarray-einstats 0.3.0 requires scipy>=1.5, but you have scipy 1.4.1 which is incompatible.\n",
            "torchtext 0.14.0 requires torch==1.13.0, but you have torch 1.6.0 which is incompatible.\n",
            "torchaudio 0.13.0+cu116 requires torch==1.13.0, but you have torch 1.6.0 which is incompatible.\n",
            "plotnine 0.8.0 requires scipy>=1.5.0, but you have scipy 1.4.1 which is incompatible.\n",
            "jaxlib 0.3.25+cuda11.cudnn805 requires scipy>=1.5, but you have scipy 1.4.1 which is incompatible.\n",
            "jax 0.3.25 requires scipy>=1.5, but you have scipy 1.4.1 which is incompatible.\n",
            "imbalanced-learn 0.8.1 requires scikit-learn>=0.24, but you have scikit-learn 0.23.2 which is incompatible.\n",
            "fastai 2.7.10 requires torch<1.14,>=1.7, but you have torch 1.6.0 which is incompatible.\n",
            "fastai 2.7.10 requires torchvision>=0.8.2, but you have torchvision 0.7.0 which is incompatible.\u001b[0m\n",
            "Successfully installed category-encoders-2.1.0 lightgbm-2.3.1 numpy-1.22.0 pandas-1.2.2 python-dateutil-2.8.1 scikit-learn-0.23.2 scipy-1.4.1 torch-1.6.0 torchvision-0.7.0 tqdm-4.61.1\n"
          ]
        },
        {
          "output_type": "display_data",
          "data": {
            "application/vnd.colab-display-data+json": {
              "pip_warning": {
                "packages": [
                  "dateutil",
                  "numpy",
                  "pandas",
                  "scipy",
                  "sklearn"
                ]
              }
            }
          },
          "metadata": {}
        },
        {
          "output_type": "stream",
          "name": "stdout",
          "text": [
            "Looking in indexes: https://pypi.org/simple, https://us-python.pkg.dev/colab-wheels/public/simple/\n",
            "Collecting tabgan\n",
            "  Downloading tabgan-1.2.1-py2.py3-none-any.whl (45 kB)\n",
            "\u001b[K     |████████████████████████████████| 45 kB 2.2 MB/s \n",
            "\u001b[?25hRequirement already satisfied: torch in /usr/local/lib/python3.8/dist-packages (from tabgan) (1.6.0)\n",
            "Requirement already satisfied: torchvision in /usr/local/lib/python3.8/dist-packages (from tabgan) (0.7.0)\n",
            "Requirement already satisfied: category-encoders in /usr/local/lib/python3.8/dist-packages (from tabgan) (2.1.0)\n",
            "Requirement already satisfied: lightgbm in /usr/local/lib/python3.8/dist-packages (from tabgan) (2.3.1)\n",
            "Requirement already satisfied: python-dateutil in /usr/local/lib/python3.8/dist-packages (from tabgan) (2.8.1)\n",
            "Requirement already satisfied: tqdm in /usr/local/lib/python3.8/dist-packages (from tabgan) (4.61.1)\n",
            "Requirement already satisfied: pandas in /usr/local/lib/python3.8/dist-packages (from tabgan) (1.2.2)\n",
            "Requirement already satisfied: scikit-learn==0.23.2 in /usr/local/lib/python3.8/dist-packages (from tabgan) (0.23.2)\n",
            "Requirement already satisfied: numpy in /usr/local/lib/python3.8/dist-packages (from tabgan) (1.22.0)\n",
            "Requirement already satisfied: threadpoolctl>=2.0.0 in /usr/local/lib/python3.8/dist-packages (from scikit-learn==0.23.2->tabgan) (3.1.0)\n",
            "Requirement already satisfied: joblib>=0.11 in /usr/local/lib/python3.8/dist-packages (from scikit-learn==0.23.2->tabgan) (1.2.0)\n",
            "Requirement already satisfied: scipy>=0.19.1 in /usr/local/lib/python3.8/dist-packages (from scikit-learn==0.23.2->tabgan) (1.4.1)\n",
            "Requirement already satisfied: statsmodels>=0.6.1 in /usr/local/lib/python3.8/dist-packages (from category-encoders->tabgan) (0.12.2)\n",
            "Requirement already satisfied: patsy>=0.4.1 in /usr/local/lib/python3.8/dist-packages (from category-encoders->tabgan) (0.5.3)\n",
            "Requirement already satisfied: pytz>=2017.3 in /usr/local/lib/python3.8/dist-packages (from pandas->tabgan) (2022.6)\n",
            "Requirement already satisfied: six in /usr/local/lib/python3.8/dist-packages (from patsy>=0.4.1->category-encoders->tabgan) (1.15.0)\n",
            "Requirement already satisfied: future in /usr/local/lib/python3.8/dist-packages (from torch->tabgan) (0.16.0)\n",
            "Requirement already satisfied: pillow>=4.1.1 in /usr/local/lib/python3.8/dist-packages (from torchvision->tabgan) (7.1.2)\n",
            "Installing collected packages: tabgan\n",
            "Successfully installed tabgan-1.2.1\n"
          ]
        }
      ],
      "source": [
        "# HIDE OUTPUT\n",
        "CMD = \"wget https://raw.githubusercontent.com/Diyago/\"\\\n",
        "  \"GAN-for-tabular-data/master/requirements.txt\"\n",
        "\n",
        "!{CMD}\n",
        "!pip install -r requirements.txt\n",
        "!pip install tabgan"
      ]
    },
    {
      "cell_type": "code",
      "source": [
        "import pandas as pd\n",
        "import numpy as np\n",
        "\n",
        "data=pd.read_excel(\"sample_data/Pre_processed_data_2.xlsx\")"
      ],
      "metadata": {
        "id": "XBoGmsxkax2E"
      },
      "execution_count": null,
      "outputs": []
    },
    {
      "cell_type": "code",
      "source": [
        "n = 1\n",
        "df2 = data.iloc[:,n:]"
      ],
      "metadata": {
        "id": "ud6OdMvUcJtl"
      },
      "execution_count": null,
      "outputs": []
    },
    {
      "cell_type": "code",
      "source": [
        "df2.head()"
      ],
      "metadata": {
        "colab": {
          "base_uri": "https://localhost:8080/",
          "height": 270
        },
        "id": "yVA4rYh0cQfU",
        "outputId": "a94c76e7-324b-4452-e7fe-8e96b63686d4"
      },
      "execution_count": null,
      "outputs": [
        {
          "output_type": "execute_result",
          "data": {
            "text/plain": [
              "   Term  Home_Ownership  Purpose  Loan_Status  Current_Loan_Amount  \\\n",
              "0     1               1        5            0               445412   \n",
              "1     1               1        3            0               262328   \n",
              "2     1               2        3            0             99999999   \n",
              "3     0               2        3            0               347666   \n",
              "4     1               3        3            0               176220   \n",
              "\n",
              "   Credit_Score  Annual_Income  Years_in_current_job  Monthly_Debt  \\\n",
              "0           709        1167493                     8       5214.74   \n",
              "1           725        1169773                    10      33295.98   \n",
              "2           741        2231892                     8      29200.53   \n",
              "3           721         806949                     3       8741.90   \n",
              "4           725        1169773                     5      20639.70   \n",
              "\n",
              "   Years_of_Credit_History  Number_of_Open_Accounts  \\\n",
              "0                     17.2                        6   \n",
              "1                     21.1                       35   \n",
              "2                     14.9                       18   \n",
              "3                     12.0                        9   \n",
              "4                      6.1                       15   \n",
              "\n",
              "   Number_of_Credit_Problems  Current_Credit_Balance  Maximum_Open_Credit  \\\n",
              "0                          1                  228190               416746   \n",
              "1                          0                  229976               850784   \n",
              "2                          1                  297996               750090   \n",
              "3                          0                  256329               386958   \n",
              "4                          0                  253460               427174   \n",
              "\n",
              "   Bankruptcies  Tax_Liens  \n",
              "0             1          0  \n",
              "1             0          0  \n",
              "2             0          0  \n",
              "3             0          0  \n",
              "4             0          0  "
            ],
            "text/html": [
              "\n",
              "  <div id=\"df-30f365d1-9368-4b02-bb59-916e39782967\">\n",
              "    <div class=\"colab-df-container\">\n",
              "      <div>\n",
              "<style scoped>\n",
              "    .dataframe tbody tr th:only-of-type {\n",
              "        vertical-align: middle;\n",
              "    }\n",
              "\n",
              "    .dataframe tbody tr th {\n",
              "        vertical-align: top;\n",
              "    }\n",
              "\n",
              "    .dataframe thead th {\n",
              "        text-align: right;\n",
              "    }\n",
              "</style>\n",
              "<table border=\"1\" class=\"dataframe\">\n",
              "  <thead>\n",
              "    <tr style=\"text-align: right;\">\n",
              "      <th></th>\n",
              "      <th>Term</th>\n",
              "      <th>Home_Ownership</th>\n",
              "      <th>Purpose</th>\n",
              "      <th>Loan_Status</th>\n",
              "      <th>Current_Loan_Amount</th>\n",
              "      <th>Credit_Score</th>\n",
              "      <th>Annual_Income</th>\n",
              "      <th>Years_in_current_job</th>\n",
              "      <th>Monthly_Debt</th>\n",
              "      <th>Years_of_Credit_History</th>\n",
              "      <th>Number_of_Open_Accounts</th>\n",
              "      <th>Number_of_Credit_Problems</th>\n",
              "      <th>Current_Credit_Balance</th>\n",
              "      <th>Maximum_Open_Credit</th>\n",
              "      <th>Bankruptcies</th>\n",
              "      <th>Tax_Liens</th>\n",
              "    </tr>\n",
              "  </thead>\n",
              "  <tbody>\n",
              "    <tr>\n",
              "      <th>0</th>\n",
              "      <td>1</td>\n",
              "      <td>1</td>\n",
              "      <td>5</td>\n",
              "      <td>0</td>\n",
              "      <td>445412</td>\n",
              "      <td>709</td>\n",
              "      <td>1167493</td>\n",
              "      <td>8</td>\n",
              "      <td>5214.74</td>\n",
              "      <td>17.2</td>\n",
              "      <td>6</td>\n",
              "      <td>1</td>\n",
              "      <td>228190</td>\n",
              "      <td>416746</td>\n",
              "      <td>1</td>\n",
              "      <td>0</td>\n",
              "    </tr>\n",
              "    <tr>\n",
              "      <th>1</th>\n",
              "      <td>1</td>\n",
              "      <td>1</td>\n",
              "      <td>3</td>\n",
              "      <td>0</td>\n",
              "      <td>262328</td>\n",
              "      <td>725</td>\n",
              "      <td>1169773</td>\n",
              "      <td>10</td>\n",
              "      <td>33295.98</td>\n",
              "      <td>21.1</td>\n",
              "      <td>35</td>\n",
              "      <td>0</td>\n",
              "      <td>229976</td>\n",
              "      <td>850784</td>\n",
              "      <td>0</td>\n",
              "      <td>0</td>\n",
              "    </tr>\n",
              "    <tr>\n",
              "      <th>2</th>\n",
              "      <td>1</td>\n",
              "      <td>2</td>\n",
              "      <td>3</td>\n",
              "      <td>0</td>\n",
              "      <td>99999999</td>\n",
              "      <td>741</td>\n",
              "      <td>2231892</td>\n",
              "      <td>8</td>\n",
              "      <td>29200.53</td>\n",
              "      <td>14.9</td>\n",
              "      <td>18</td>\n",
              "      <td>1</td>\n",
              "      <td>297996</td>\n",
              "      <td>750090</td>\n",
              "      <td>0</td>\n",
              "      <td>0</td>\n",
              "    </tr>\n",
              "    <tr>\n",
              "      <th>3</th>\n",
              "      <td>0</td>\n",
              "      <td>2</td>\n",
              "      <td>3</td>\n",
              "      <td>0</td>\n",
              "      <td>347666</td>\n",
              "      <td>721</td>\n",
              "      <td>806949</td>\n",
              "      <td>3</td>\n",
              "      <td>8741.90</td>\n",
              "      <td>12.0</td>\n",
              "      <td>9</td>\n",
              "      <td>0</td>\n",
              "      <td>256329</td>\n",
              "      <td>386958</td>\n",
              "      <td>0</td>\n",
              "      <td>0</td>\n",
              "    </tr>\n",
              "    <tr>\n",
              "      <th>4</th>\n",
              "      <td>1</td>\n",
              "      <td>3</td>\n",
              "      <td>3</td>\n",
              "      <td>0</td>\n",
              "      <td>176220</td>\n",
              "      <td>725</td>\n",
              "      <td>1169773</td>\n",
              "      <td>5</td>\n",
              "      <td>20639.70</td>\n",
              "      <td>6.1</td>\n",
              "      <td>15</td>\n",
              "      <td>0</td>\n",
              "      <td>253460</td>\n",
              "      <td>427174</td>\n",
              "      <td>0</td>\n",
              "      <td>0</td>\n",
              "    </tr>\n",
              "  </tbody>\n",
              "</table>\n",
              "</div>\n",
              "      <button class=\"colab-df-convert\" onclick=\"convertToInteractive('df-30f365d1-9368-4b02-bb59-916e39782967')\"\n",
              "              title=\"Convert this dataframe to an interactive table.\"\n",
              "              style=\"display:none;\">\n",
              "        \n",
              "  <svg xmlns=\"http://www.w3.org/2000/svg\" height=\"24px\"viewBox=\"0 0 24 24\"\n",
              "       width=\"24px\">\n",
              "    <path d=\"M0 0h24v24H0V0z\" fill=\"none\"/>\n",
              "    <path d=\"M18.56 5.44l.94 2.06.94-2.06 2.06-.94-2.06-.94-.94-2.06-.94 2.06-2.06.94zm-11 1L8.5 8.5l.94-2.06 2.06-.94-2.06-.94L8.5 2.5l-.94 2.06-2.06.94zm10 10l.94 2.06.94-2.06 2.06-.94-2.06-.94-.94-2.06-.94 2.06-2.06.94z\"/><path d=\"M17.41 7.96l-1.37-1.37c-.4-.4-.92-.59-1.43-.59-.52 0-1.04.2-1.43.59L10.3 9.45l-7.72 7.72c-.78.78-.78 2.05 0 2.83L4 21.41c.39.39.9.59 1.41.59.51 0 1.02-.2 1.41-.59l7.78-7.78 2.81-2.81c.8-.78.8-2.07 0-2.86zM5.41 20L4 18.59l7.72-7.72 1.47 1.35L5.41 20z\"/>\n",
              "  </svg>\n",
              "      </button>\n",
              "      \n",
              "  <style>\n",
              "    .colab-df-container {\n",
              "      display:flex;\n",
              "      flex-wrap:wrap;\n",
              "      gap: 12px;\n",
              "    }\n",
              "\n",
              "    .colab-df-convert {\n",
              "      background-color: #E8F0FE;\n",
              "      border: none;\n",
              "      border-radius: 50%;\n",
              "      cursor: pointer;\n",
              "      display: none;\n",
              "      fill: #1967D2;\n",
              "      height: 32px;\n",
              "      padding: 0 0 0 0;\n",
              "      width: 32px;\n",
              "    }\n",
              "\n",
              "    .colab-df-convert:hover {\n",
              "      background-color: #E2EBFA;\n",
              "      box-shadow: 0px 1px 2px rgba(60, 64, 67, 0.3), 0px 1px 3px 1px rgba(60, 64, 67, 0.15);\n",
              "      fill: #174EA6;\n",
              "    }\n",
              "\n",
              "    [theme=dark] .colab-df-convert {\n",
              "      background-color: #3B4455;\n",
              "      fill: #D2E3FC;\n",
              "    }\n",
              "\n",
              "    [theme=dark] .colab-df-convert:hover {\n",
              "      background-color: #434B5C;\n",
              "      box-shadow: 0px 1px 3px 1px rgba(0, 0, 0, 0.15);\n",
              "      filter: drop-shadow(0px 1px 2px rgba(0, 0, 0, 0.3));\n",
              "      fill: #FFFFFF;\n",
              "    }\n",
              "  </style>\n",
              "\n",
              "      <script>\n",
              "        const buttonEl =\n",
              "          document.querySelector('#df-30f365d1-9368-4b02-bb59-916e39782967 button.colab-df-convert');\n",
              "        buttonEl.style.display =\n",
              "          google.colab.kernel.accessAllowed ? 'block' : 'none';\n",
              "\n",
              "        async function convertToInteractive(key) {\n",
              "          const element = document.querySelector('#df-30f365d1-9368-4b02-bb59-916e39782967');\n",
              "          const dataTable =\n",
              "            await google.colab.kernel.invokeFunction('convertToInteractive',\n",
              "                                                     [key], {});\n",
              "          if (!dataTable) return;\n",
              "\n",
              "          const docLinkHtml = 'Like what you see? Visit the ' +\n",
              "            '<a target=\"_blank\" href=https://colab.research.google.com/notebooks/data_table.ipynb>data table notebook</a>'\n",
              "            + ' to learn more about interactive tables.';\n",
              "          element.innerHTML = '';\n",
              "          dataTable['output_type'] = 'display_data';\n",
              "          await google.colab.output.renderOutput(dataTable, element);\n",
              "          const docLink = document.createElement('div');\n",
              "          docLink.innerHTML = docLinkHtml;\n",
              "          element.appendChild(docLink);\n",
              "        }\n",
              "      </script>\n",
              "    </div>\n",
              "  </div>\n",
              "  "
            ]
          },
          "metadata": {},
          "execution_count": 3
        }
      ]
    },
    {
      "cell_type": "code",
      "source": [
        "df3=df2[df2.Loan_Status==0]"
      ],
      "metadata": {
        "id": "iiiVrJ8_cTWJ"
      },
      "execution_count": null,
      "outputs": []
    },
    {
      "cell_type": "code",
      "source": [
        "df2.Loan_Status.value_counts(normalize=True)"
      ],
      "metadata": {
        "colab": {
          "base_uri": "https://localhost:8080/"
        },
        "id": "dXqkp5eCcW7X",
        "outputId": "07c4adf5-006b-4118-98a1-150246444b91"
      },
      "execution_count": null,
      "outputs": [
        {
          "output_type": "execute_result",
          "data": {
            "text/plain": [
              "0    0.747893\n",
              "1    0.252107\n",
              "Name: Loan_Status, dtype: float64"
            ]
          },
          "metadata": {},
          "execution_count": 5
        }
      ]
    },
    {
      "cell_type": "code",
      "source": [
        "from sklearn.model_selection import train_test_split"
      ],
      "metadata": {
        "id": "35T32UCRcZwt"
      },
      "execution_count": null,
      "outputs": []
    },
    {
      "cell_type": "code",
      "source": [
        "df_x_train, df_x_test, df_y_train, df_y_test = train_test_split(\n",
        "    df2.drop(\"Loan_Status\", axis=1),\n",
        "    df2[\"Loan_Status\"],\n",
        "    test_size=0.2,\n",
        "    #shuffle=False,\n",
        "    random_state=42,\n",
        ")"
      ],
      "metadata": {
        "id": "Mf3Kd7Yvcibb"
      },
      "execution_count": null,
      "outputs": []
    },
    {
      "cell_type": "code",
      "source": [
        "df_x_test, df_y_test = df_x_test.reset_index(drop=True), \\\n",
        "  df_y_test.reset_index(drop=True)\n",
        "df_y_train = pd.DataFrame(df_y_train)\n",
        "df_y_test = pd.DataFrame(df_y_test)"
      ],
      "metadata": {
        "id": "m-Ph1I13ckSR"
      },
      "execution_count": null,
      "outputs": []
    },
    {
      "cell_type": "code",
      "source": [
        "df_y_test.value_counts(normalize=True)"
      ],
      "metadata": {
        "colab": {
          "base_uri": "https://localhost:8080/"
        },
        "id": "tGl6VsFaco9k",
        "outputId": "eaef4c47-6442-490a-f5ee-51bf1b856dac"
      },
      "execution_count": null,
      "outputs": [
        {
          "output_type": "execute_result",
          "data": {
            "text/plain": [
              "Loan_Status\n",
              "0              0.750488\n",
              "1              0.249512\n",
              "dtype: float64"
            ]
          },
          "metadata": {},
          "execution_count": 9
        }
      ]
    },
    {
      "cell_type": "code",
      "source": [
        "from tabgan.sampler import GANGenerator\n",
        "import pandas as pd\n",
        "import numpy as np\n",
        "from sklearn.model_selection import train_test_split\n",
        "\n",
        "gen_x, gen_y = GANGenerator(gen_x_times=1.3, cat_cols=None,\n",
        "           bot_filter_quantile=0.001, top_filter_quantile=0.999, \\\n",
        "              is_post_process=True,\n",
        "           adversarial_model_params={\n",
        "               \"metrics\": \"AUC\", \"max_depth\": 2, \"max_bin\": 100, \n",
        "               \"learning_rate\": 0.01, \"random_state\": \\\n",
        "                42, \"n_estimators\": 500,\n",
        "           }, pregeneration_frac=2, only_generated_data=False,\\\n",
        "           gan_params = {\"batch_size\": 500, \"patience\": 25, \\\n",
        "          \"epochs\" : 500,}).generate_data_pipe(df_x_train, df_y_train,\\\n",
        "          df_x_test, deep_copy=True, only_adversarial=False, \\\n",
        "          use_adversarial=True)"
      ],
      "metadata": {
        "colab": {
          "base_uri": "https://localhost:8080/",
          "height": 81,
          "referenced_widgets": [
            "80f7567e893c48d7863bf097efbfdfb2",
            "b8e49e017e2e44de893b2b2b199afdc6",
            "18fd72a6ff8b47639c7be9c8990b1b47",
            "59dbd0d7900f408dbce554d2ebf82673",
            "365ead34dccb46bd9133143fb2f8f664",
            "cf0ad2e378974702bd48c82a756a4ae7",
            "473aaf1c4ffe4a4c950c93f858049dbe",
            "4453132bd3b6498b88e700cbdb57575d",
            "a3e9db1e4df841bda569b1b1569bb02b",
            "842d0f73b62b46fa88ff7111c50fae8a",
            "b00947f50d9b4dce994742103a98eabc",
            "a34c2dc205d247f08b20155b27b64c14",
            "5f0837f4d98748f1926619cccd63020c",
            "a8886d5af66e4135bdfc53776ff917d5",
            "78fdab0231ff4856a1553a539543adfb",
            "5d750db285664ac991f2da1a07c40001",
            "abb04467e99b408dbe4dead89222a1d3",
            "4b3987871dc8406fbd88abb57d511d4b",
            "26cd463e762c4c84b9e2065c7b043f78",
            "10e5479233b0484f817a4b3a57c29a32",
            "47eb07c5e5a244bdade06d4b0be0e6d4",
            "1104e1a9379c49dcb645f65e55ec3371"
          ]
        },
        "id": "4Ox6k822cu64",
        "outputId": "a38011ae-fe73-49ee-966d-30647b372375"
      },
      "execution_count": null,
      "outputs": [
        {
          "data": {
            "application/vnd.jupyter.widget-view+json": {
              "model_id": "80f7567e893c48d7863bf097efbfdfb2",
              "version_major": 2,
              "version_minor": 0
            },
            "text/plain": [
              "Fitting CTGAN transformers for each column:   0%|          | 0/16 [00:00<?, ?it/s]"
            ]
          },
          "metadata": {},
          "output_type": "display_data"
        },
        {
          "data": {
            "application/vnd.jupyter.widget-view+json": {
              "model_id": "a34c2dc205d247f08b20155b27b64c14",
              "version_major": 2,
              "version_minor": 0
            },
            "text/plain": [
              "Training CTGAN, epochs::   0%|          | 0/500 [00:00<?, ?it/s]"
            ]
          },
          "metadata": {},
          "output_type": "display_data"
        }
      ]
    },
    {
      "cell_type": "code",
      "source": [],
      "metadata": {
        "id": "OnS8UAM9mrtu"
      },
      "execution_count": null,
      "outputs": []
    },
    {
      "cell_type": "code",
      "source": [
        "gen_x.head()"
      ],
      "metadata": {
        "colab": {
          "base_uri": "https://localhost:8080/",
          "height": 270
        },
        "id": "eSbqSfhIdDDS",
        "outputId": "43d9f435-df0a-43e6-f4e2-28353c10397a"
      },
      "execution_count": null,
      "outputs": [
        {
          "output_type": "execute_result",
          "data": {
            "text/plain": [
              "   Term  Home_Ownership  Purpose  Current_Loan_Amount  Credit_Score  \\\n",
              "0     0               0        0               830042           739   \n",
              "1     0               0        0             97372479           666   \n",
              "2     0               0        1              1186323           724   \n",
              "3     0               0        1              1106680           717   \n",
              "4     0               0        0             99717649           718   \n",
              "\n",
              "   Annual_Income  Years_in_current_job  Monthly_Debt  Years_of_Credit_History  \\\n",
              "0        1242508                     4  12422.165547                12.114260   \n",
              "1        1186090                     2   6768.912635                21.849958   \n",
              "2        4616597                     3  19952.868038                35.072929   \n",
              "3        2274956                     2  27087.417353                23.046619   \n",
              "4        1666048                     6  17452.789650                23.798478   \n",
              "\n",
              "   Number_of_Open_Accounts  Number_of_Credit_Problems  Current_Credit_Balance  \\\n",
              "0                       19                          0                 1924679   \n",
              "1                       11                          0                 2494065   \n",
              "2                        7                          0                 2590968   \n",
              "3                       16                          0                 1652974   \n",
              "4                        9                          0                 2189639   \n",
              "\n",
              "   Maximum_Open_Credit  Bankruptcies  Tax_Liens  \n",
              "0               683242             0          1  \n",
              "1               391314             0          1  \n",
              "2               171356             1          1  \n",
              "3               171383             0          1  \n",
              "4               474212             0          1  "
            ],
            "text/html": [
              "\n",
              "  <div id=\"df-75bf4dab-9d2f-49f8-9919-fb31e083fe38\">\n",
              "    <div class=\"colab-df-container\">\n",
              "      <div>\n",
              "<style scoped>\n",
              "    .dataframe tbody tr th:only-of-type {\n",
              "        vertical-align: middle;\n",
              "    }\n",
              "\n",
              "    .dataframe tbody tr th {\n",
              "        vertical-align: top;\n",
              "    }\n",
              "\n",
              "    .dataframe thead th {\n",
              "        text-align: right;\n",
              "    }\n",
              "</style>\n",
              "<table border=\"1\" class=\"dataframe\">\n",
              "  <thead>\n",
              "    <tr style=\"text-align: right;\">\n",
              "      <th></th>\n",
              "      <th>Term</th>\n",
              "      <th>Home_Ownership</th>\n",
              "      <th>Purpose</th>\n",
              "      <th>Current_Loan_Amount</th>\n",
              "      <th>Credit_Score</th>\n",
              "      <th>Annual_Income</th>\n",
              "      <th>Years_in_current_job</th>\n",
              "      <th>Monthly_Debt</th>\n",
              "      <th>Years_of_Credit_History</th>\n",
              "      <th>Number_of_Open_Accounts</th>\n",
              "      <th>Number_of_Credit_Problems</th>\n",
              "      <th>Current_Credit_Balance</th>\n",
              "      <th>Maximum_Open_Credit</th>\n",
              "      <th>Bankruptcies</th>\n",
              "      <th>Tax_Liens</th>\n",
              "    </tr>\n",
              "  </thead>\n",
              "  <tbody>\n",
              "    <tr>\n",
              "      <th>0</th>\n",
              "      <td>0</td>\n",
              "      <td>0</td>\n",
              "      <td>0</td>\n",
              "      <td>830042</td>\n",
              "      <td>739</td>\n",
              "      <td>1242508</td>\n",
              "      <td>4</td>\n",
              "      <td>12422.165547</td>\n",
              "      <td>12.114260</td>\n",
              "      <td>19</td>\n",
              "      <td>0</td>\n",
              "      <td>1924679</td>\n",
              "      <td>683242</td>\n",
              "      <td>0</td>\n",
              "      <td>1</td>\n",
              "    </tr>\n",
              "    <tr>\n",
              "      <th>1</th>\n",
              "      <td>0</td>\n",
              "      <td>0</td>\n",
              "      <td>0</td>\n",
              "      <td>97372479</td>\n",
              "      <td>666</td>\n",
              "      <td>1186090</td>\n",
              "      <td>2</td>\n",
              "      <td>6768.912635</td>\n",
              "      <td>21.849958</td>\n",
              "      <td>11</td>\n",
              "      <td>0</td>\n",
              "      <td>2494065</td>\n",
              "      <td>391314</td>\n",
              "      <td>0</td>\n",
              "      <td>1</td>\n",
              "    </tr>\n",
              "    <tr>\n",
              "      <th>2</th>\n",
              "      <td>0</td>\n",
              "      <td>0</td>\n",
              "      <td>1</td>\n",
              "      <td>1186323</td>\n",
              "      <td>724</td>\n",
              "      <td>4616597</td>\n",
              "      <td>3</td>\n",
              "      <td>19952.868038</td>\n",
              "      <td>35.072929</td>\n",
              "      <td>7</td>\n",
              "      <td>0</td>\n",
              "      <td>2590968</td>\n",
              "      <td>171356</td>\n",
              "      <td>1</td>\n",
              "      <td>1</td>\n",
              "    </tr>\n",
              "    <tr>\n",
              "      <th>3</th>\n",
              "      <td>0</td>\n",
              "      <td>0</td>\n",
              "      <td>1</td>\n",
              "      <td>1106680</td>\n",
              "      <td>717</td>\n",
              "      <td>2274956</td>\n",
              "      <td>2</td>\n",
              "      <td>27087.417353</td>\n",
              "      <td>23.046619</td>\n",
              "      <td>16</td>\n",
              "      <td>0</td>\n",
              "      <td>1652974</td>\n",
              "      <td>171383</td>\n",
              "      <td>0</td>\n",
              "      <td>1</td>\n",
              "    </tr>\n",
              "    <tr>\n",
              "      <th>4</th>\n",
              "      <td>0</td>\n",
              "      <td>0</td>\n",
              "      <td>0</td>\n",
              "      <td>99717649</td>\n",
              "      <td>718</td>\n",
              "      <td>1666048</td>\n",
              "      <td>6</td>\n",
              "      <td>17452.789650</td>\n",
              "      <td>23.798478</td>\n",
              "      <td>9</td>\n",
              "      <td>0</td>\n",
              "      <td>2189639</td>\n",
              "      <td>474212</td>\n",
              "      <td>0</td>\n",
              "      <td>1</td>\n",
              "    </tr>\n",
              "  </tbody>\n",
              "</table>\n",
              "</div>\n",
              "      <button class=\"colab-df-convert\" onclick=\"convertToInteractive('df-75bf4dab-9d2f-49f8-9919-fb31e083fe38')\"\n",
              "              title=\"Convert this dataframe to an interactive table.\"\n",
              "              style=\"display:none;\">\n",
              "        \n",
              "  <svg xmlns=\"http://www.w3.org/2000/svg\" height=\"24px\"viewBox=\"0 0 24 24\"\n",
              "       width=\"24px\">\n",
              "    <path d=\"M0 0h24v24H0V0z\" fill=\"none\"/>\n",
              "    <path d=\"M18.56 5.44l.94 2.06.94-2.06 2.06-.94-2.06-.94-.94-2.06-.94 2.06-2.06.94zm-11 1L8.5 8.5l.94-2.06 2.06-.94-2.06-.94L8.5 2.5l-.94 2.06-2.06.94zm10 10l.94 2.06.94-2.06 2.06-.94-2.06-.94-.94-2.06-.94 2.06-2.06.94z\"/><path d=\"M17.41 7.96l-1.37-1.37c-.4-.4-.92-.59-1.43-.59-.52 0-1.04.2-1.43.59L10.3 9.45l-7.72 7.72c-.78.78-.78 2.05 0 2.83L4 21.41c.39.39.9.59 1.41.59.51 0 1.02-.2 1.41-.59l7.78-7.78 2.81-2.81c.8-.78.8-2.07 0-2.86zM5.41 20L4 18.59l7.72-7.72 1.47 1.35L5.41 20z\"/>\n",
              "  </svg>\n",
              "      </button>\n",
              "      \n",
              "  <style>\n",
              "    .colab-df-container {\n",
              "      display:flex;\n",
              "      flex-wrap:wrap;\n",
              "      gap: 12px;\n",
              "    }\n",
              "\n",
              "    .colab-df-convert {\n",
              "      background-color: #E8F0FE;\n",
              "      border: none;\n",
              "      border-radius: 50%;\n",
              "      cursor: pointer;\n",
              "      display: none;\n",
              "      fill: #1967D2;\n",
              "      height: 32px;\n",
              "      padding: 0 0 0 0;\n",
              "      width: 32px;\n",
              "    }\n",
              "\n",
              "    .colab-df-convert:hover {\n",
              "      background-color: #E2EBFA;\n",
              "      box-shadow: 0px 1px 2px rgba(60, 64, 67, 0.3), 0px 1px 3px 1px rgba(60, 64, 67, 0.15);\n",
              "      fill: #174EA6;\n",
              "    }\n",
              "\n",
              "    [theme=dark] .colab-df-convert {\n",
              "      background-color: #3B4455;\n",
              "      fill: #D2E3FC;\n",
              "    }\n",
              "\n",
              "    [theme=dark] .colab-df-convert:hover {\n",
              "      background-color: #434B5C;\n",
              "      box-shadow: 0px 1px 3px 1px rgba(0, 0, 0, 0.15);\n",
              "      filter: drop-shadow(0px 1px 2px rgba(0, 0, 0, 0.3));\n",
              "      fill: #FFFFFF;\n",
              "    }\n",
              "  </style>\n",
              "\n",
              "      <script>\n",
              "        const buttonEl =\n",
              "          document.querySelector('#df-75bf4dab-9d2f-49f8-9919-fb31e083fe38 button.colab-df-convert');\n",
              "        buttonEl.style.display =\n",
              "          google.colab.kernel.accessAllowed ? 'block' : 'none';\n",
              "\n",
              "        async function convertToInteractive(key) {\n",
              "          const element = document.querySelector('#df-75bf4dab-9d2f-49f8-9919-fb31e083fe38');\n",
              "          const dataTable =\n",
              "            await google.colab.kernel.invokeFunction('convertToInteractive',\n",
              "                                                     [key], {});\n",
              "          if (!dataTable) return;\n",
              "\n",
              "          const docLinkHtml = 'Like what you see? Visit the ' +\n",
              "            '<a target=\"_blank\" href=https://colab.research.google.com/notebooks/data_table.ipynb>data table notebook</a>'\n",
              "            + ' to learn more about interactive tables.';\n",
              "          element.innerHTML = '';\n",
              "          dataTable['output_type'] = 'display_data';\n",
              "          await google.colab.output.renderOutput(dataTable, element);\n",
              "          const docLink = document.createElement('div');\n",
              "          docLink.innerHTML = docLinkHtml;\n",
              "          element.appendChild(docLink);\n",
              "        }\n",
              "      </script>\n",
              "    </div>\n",
              "  </div>\n",
              "  "
            ]
          },
          "metadata": {},
          "execution_count": 11
        }
      ]
    },
    {
      "cell_type": "code",
      "source": [
        "gen_y.value_counts(normalize=True)"
      ],
      "metadata": {
        "colab": {
          "base_uri": "https://localhost:8080/"
        },
        "id": "DbEmTqxYm0nT",
        "outputId": "59bc72d0-c4d7-4d5f-c1ed-9d7a1af85bd6"
      },
      "execution_count": null,
      "outputs": [
        {
          "output_type": "execute_result",
          "data": {
            "text/plain": [
              "0    0.764682\n",
              "1    0.235318\n",
              "Name: Loan_Status, dtype: float64"
            ]
          },
          "metadata": {},
          "execution_count": 12
        }
      ]
    },
    {
      "cell_type": "code",
      "source": [
        "gen_x.shape"
      ],
      "metadata": {
        "colab": {
          "base_uri": "https://localhost:8080/"
        },
        "id": "XDHGOdFooMqR",
        "outputId": "b9f47e85-607c-4993-f66b-02768b88825e"
      },
      "execution_count": null,
      "outputs": [
        {
          "output_type": "execute_result",
          "data": {
            "text/plain": [
              "(103974, 15)"
            ]
          },
          "metadata": {},
          "execution_count": 13
        }
      ]
    },
    {
      "cell_type": "code",
      "source": [
        "gen_y.value_counts()"
      ],
      "metadata": {
        "colab": {
          "base_uri": "https://localhost:8080/"
        },
        "id": "HlvElLq00WMr",
        "outputId": "5f832565-5a5b-4914-868f-31df639a2c1e"
      },
      "execution_count": null,
      "outputs": [
        {
          "output_type": "execute_result",
          "data": {
            "text/plain": [
              "0    79507\n",
              "1    24467\n",
              "Name: Loan_Status, dtype: int64"
            ]
          },
          "metadata": {},
          "execution_count": 14
        }
      ]
    },
    {
      "cell_type": "code",
      "source": [
        "df_y_train.value_counts()"
      ],
      "metadata": {
        "colab": {
          "base_uri": "https://localhost:8080/"
        },
        "id": "m9TMiFaV1F9t",
        "outputId": "d3cec773-c374-4fb3-ce10-15c3e4878070"
      },
      "execution_count": null,
      "outputs": [
        {
          "output_type": "execute_result",
          "data": {
            "text/plain": [
              "Loan_Status\n",
              "0              53558\n",
              "1              18116\n",
              "dtype: int64"
            ]
          },
          "metadata": {},
          "execution_count": 15
        }
      ]
    },
    {
      "cell_type": "code",
      "source": [
        "df_x_train.describe()"
      ],
      "metadata": {
        "colab": {
          "base_uri": "https://localhost:8080/",
          "height": 364
        },
        "id": "6TlY9QX_UH8R",
        "outputId": "9203c746-4eeb-493c-9609-43df1a2a526a"
      },
      "execution_count": null,
      "outputs": [
        {
          "output_type": "execute_result",
          "data": {
            "text/plain": [
              "               Term  Home_Ownership       Purpose  Current_Loan_Amount  \\\n",
              "count  71674.000000    71674.000000  71674.000000         7.167400e+04   \n",
              "mean       0.734506        1.931719      3.548135         1.300243e+07   \n",
              "std        0.441599        0.953759      1.568300         3.322938e+07   \n",
              "min        0.000000        0.000000      0.000000         1.542200e+04   \n",
              "25%        0.000000        1.000000      3.000000         1.803780e+05   \n",
              "50%        1.000000        2.000000      3.000000         3.144680e+05   \n",
              "75%        1.000000        3.000000      3.000000         5.333900e+05   \n",
              "max        1.000000        3.000000     14.000000         1.000000e+08   \n",
              "\n",
              "       Credit_Score  Annual_Income  Years_in_current_job   Monthly_Debt  \\\n",
              "count  71674.000000   7.167400e+04          71674.000000   71674.000000   \n",
              "mean     719.910205   1.332527e+06              6.123671   18444.183632   \n",
              "std       25.153263   1.017456e+06              3.522284   12082.981234   \n",
              "min      585.000000   7.662700e+04              1.000000       0.000000   \n",
              "25%      713.000000   9.390750e+05              3.000000   10203.665000   \n",
              "50%      725.000000   1.169773e+06              6.000000   16183.155000   \n",
              "75%      737.000000   1.496440e+06             10.000000   23964.367500   \n",
              "max      751.000000   1.655574e+08             10.000000  229057.920000   \n",
              "\n",
              "       Years_of_Credit_History  Number_of_Open_Accounts  \\\n",
              "count             71674.000000             71674.000000   \n",
              "mean                 18.245894                11.147236   \n",
              "std                   7.038745                 5.007952   \n",
              "min                   3.600000                 0.000000   \n",
              "25%                  13.500000                 8.000000   \n",
              "50%                  17.000000                10.000000   \n",
              "75%                  21.700000                14.000000   \n",
              "max                  70.500000                76.000000   \n",
              "\n",
              "       Number_of_Credit_Problems  Current_Credit_Balance  Maximum_Open_Credit  \\\n",
              "count               71674.000000            7.167400e+04         7.167400e+04   \n",
              "mean                    0.165053            2.947614e+05         7.891631e+05   \n",
              "std                     0.480319            3.604044e+05         9.722194e+06   \n",
              "min                     0.000000            0.000000e+00         0.000000e+00   \n",
              "25%                     0.000000            1.132210e+05         2.765070e+05   \n",
              "50%                     0.000000            2.100260e+05         4.745620e+05   \n",
              "75%                     0.000000            3.691985e+05         7.947665e+05   \n",
              "max                    15.000000            1.298696e+07         1.539738e+09   \n",
              "\n",
              "       Bankruptcies     Tax_Liens  \n",
              "count  71674.000000  71674.000000  \n",
              "mean       0.115146      0.028853  \n",
              "std        0.347495      0.259711  \n",
              "min        0.000000      0.000000  \n",
              "25%        0.000000      0.000000  \n",
              "50%        0.000000      0.000000  \n",
              "75%        0.000000      0.000000  \n",
              "max        6.000000     15.000000  "
            ],
            "text/html": [
              "\n",
              "  <div id=\"df-9a2fe7e6-e747-4cf6-9d91-004acd304942\">\n",
              "    <div class=\"colab-df-container\">\n",
              "      <div>\n",
              "<style scoped>\n",
              "    .dataframe tbody tr th:only-of-type {\n",
              "        vertical-align: middle;\n",
              "    }\n",
              "\n",
              "    .dataframe tbody tr th {\n",
              "        vertical-align: top;\n",
              "    }\n",
              "\n",
              "    .dataframe thead th {\n",
              "        text-align: right;\n",
              "    }\n",
              "</style>\n",
              "<table border=\"1\" class=\"dataframe\">\n",
              "  <thead>\n",
              "    <tr style=\"text-align: right;\">\n",
              "      <th></th>\n",
              "      <th>Term</th>\n",
              "      <th>Home_Ownership</th>\n",
              "      <th>Purpose</th>\n",
              "      <th>Current_Loan_Amount</th>\n",
              "      <th>Credit_Score</th>\n",
              "      <th>Annual_Income</th>\n",
              "      <th>Years_in_current_job</th>\n",
              "      <th>Monthly_Debt</th>\n",
              "      <th>Years_of_Credit_History</th>\n",
              "      <th>Number_of_Open_Accounts</th>\n",
              "      <th>Number_of_Credit_Problems</th>\n",
              "      <th>Current_Credit_Balance</th>\n",
              "      <th>Maximum_Open_Credit</th>\n",
              "      <th>Bankruptcies</th>\n",
              "      <th>Tax_Liens</th>\n",
              "    </tr>\n",
              "  </thead>\n",
              "  <tbody>\n",
              "    <tr>\n",
              "      <th>count</th>\n",
              "      <td>71674.000000</td>\n",
              "      <td>71674.000000</td>\n",
              "      <td>71674.000000</td>\n",
              "      <td>7.167400e+04</td>\n",
              "      <td>71674.000000</td>\n",
              "      <td>7.167400e+04</td>\n",
              "      <td>71674.000000</td>\n",
              "      <td>71674.000000</td>\n",
              "      <td>71674.000000</td>\n",
              "      <td>71674.000000</td>\n",
              "      <td>71674.000000</td>\n",
              "      <td>7.167400e+04</td>\n",
              "      <td>7.167400e+04</td>\n",
              "      <td>71674.000000</td>\n",
              "      <td>71674.000000</td>\n",
              "    </tr>\n",
              "    <tr>\n",
              "      <th>mean</th>\n",
              "      <td>0.734506</td>\n",
              "      <td>1.931719</td>\n",
              "      <td>3.548135</td>\n",
              "      <td>1.300243e+07</td>\n",
              "      <td>719.910205</td>\n",
              "      <td>1.332527e+06</td>\n",
              "      <td>6.123671</td>\n",
              "      <td>18444.183632</td>\n",
              "      <td>18.245894</td>\n",
              "      <td>11.147236</td>\n",
              "      <td>0.165053</td>\n",
              "      <td>2.947614e+05</td>\n",
              "      <td>7.891631e+05</td>\n",
              "      <td>0.115146</td>\n",
              "      <td>0.028853</td>\n",
              "    </tr>\n",
              "    <tr>\n",
              "      <th>std</th>\n",
              "      <td>0.441599</td>\n",
              "      <td>0.953759</td>\n",
              "      <td>1.568300</td>\n",
              "      <td>3.322938e+07</td>\n",
              "      <td>25.153263</td>\n",
              "      <td>1.017456e+06</td>\n",
              "      <td>3.522284</td>\n",
              "      <td>12082.981234</td>\n",
              "      <td>7.038745</td>\n",
              "      <td>5.007952</td>\n",
              "      <td>0.480319</td>\n",
              "      <td>3.604044e+05</td>\n",
              "      <td>9.722194e+06</td>\n",
              "      <td>0.347495</td>\n",
              "      <td>0.259711</td>\n",
              "    </tr>\n",
              "    <tr>\n",
              "      <th>min</th>\n",
              "      <td>0.000000</td>\n",
              "      <td>0.000000</td>\n",
              "      <td>0.000000</td>\n",
              "      <td>1.542200e+04</td>\n",
              "      <td>585.000000</td>\n",
              "      <td>7.662700e+04</td>\n",
              "      <td>1.000000</td>\n",
              "      <td>0.000000</td>\n",
              "      <td>3.600000</td>\n",
              "      <td>0.000000</td>\n",
              "      <td>0.000000</td>\n",
              "      <td>0.000000e+00</td>\n",
              "      <td>0.000000e+00</td>\n",
              "      <td>0.000000</td>\n",
              "      <td>0.000000</td>\n",
              "    </tr>\n",
              "    <tr>\n",
              "      <th>25%</th>\n",
              "      <td>0.000000</td>\n",
              "      <td>1.000000</td>\n",
              "      <td>3.000000</td>\n",
              "      <td>1.803780e+05</td>\n",
              "      <td>713.000000</td>\n",
              "      <td>9.390750e+05</td>\n",
              "      <td>3.000000</td>\n",
              "      <td>10203.665000</td>\n",
              "      <td>13.500000</td>\n",
              "      <td>8.000000</td>\n",
              "      <td>0.000000</td>\n",
              "      <td>1.132210e+05</td>\n",
              "      <td>2.765070e+05</td>\n",
              "      <td>0.000000</td>\n",
              "      <td>0.000000</td>\n",
              "    </tr>\n",
              "    <tr>\n",
              "      <th>50%</th>\n",
              "      <td>1.000000</td>\n",
              "      <td>2.000000</td>\n",
              "      <td>3.000000</td>\n",
              "      <td>3.144680e+05</td>\n",
              "      <td>725.000000</td>\n",
              "      <td>1.169773e+06</td>\n",
              "      <td>6.000000</td>\n",
              "      <td>16183.155000</td>\n",
              "      <td>17.000000</td>\n",
              "      <td>10.000000</td>\n",
              "      <td>0.000000</td>\n",
              "      <td>2.100260e+05</td>\n",
              "      <td>4.745620e+05</td>\n",
              "      <td>0.000000</td>\n",
              "      <td>0.000000</td>\n",
              "    </tr>\n",
              "    <tr>\n",
              "      <th>75%</th>\n",
              "      <td>1.000000</td>\n",
              "      <td>3.000000</td>\n",
              "      <td>3.000000</td>\n",
              "      <td>5.333900e+05</td>\n",
              "      <td>737.000000</td>\n",
              "      <td>1.496440e+06</td>\n",
              "      <td>10.000000</td>\n",
              "      <td>23964.367500</td>\n",
              "      <td>21.700000</td>\n",
              "      <td>14.000000</td>\n",
              "      <td>0.000000</td>\n",
              "      <td>3.691985e+05</td>\n",
              "      <td>7.947665e+05</td>\n",
              "      <td>0.000000</td>\n",
              "      <td>0.000000</td>\n",
              "    </tr>\n",
              "    <tr>\n",
              "      <th>max</th>\n",
              "      <td>1.000000</td>\n",
              "      <td>3.000000</td>\n",
              "      <td>14.000000</td>\n",
              "      <td>1.000000e+08</td>\n",
              "      <td>751.000000</td>\n",
              "      <td>1.655574e+08</td>\n",
              "      <td>10.000000</td>\n",
              "      <td>229057.920000</td>\n",
              "      <td>70.500000</td>\n",
              "      <td>76.000000</td>\n",
              "      <td>15.000000</td>\n",
              "      <td>1.298696e+07</td>\n",
              "      <td>1.539738e+09</td>\n",
              "      <td>6.000000</td>\n",
              "      <td>15.000000</td>\n",
              "    </tr>\n",
              "  </tbody>\n",
              "</table>\n",
              "</div>\n",
              "      <button class=\"colab-df-convert\" onclick=\"convertToInteractive('df-9a2fe7e6-e747-4cf6-9d91-004acd304942')\"\n",
              "              title=\"Convert this dataframe to an interactive table.\"\n",
              "              style=\"display:none;\">\n",
              "        \n",
              "  <svg xmlns=\"http://www.w3.org/2000/svg\" height=\"24px\"viewBox=\"0 0 24 24\"\n",
              "       width=\"24px\">\n",
              "    <path d=\"M0 0h24v24H0V0z\" fill=\"none\"/>\n",
              "    <path d=\"M18.56 5.44l.94 2.06.94-2.06 2.06-.94-2.06-.94-.94-2.06-.94 2.06-2.06.94zm-11 1L8.5 8.5l.94-2.06 2.06-.94-2.06-.94L8.5 2.5l-.94 2.06-2.06.94zm10 10l.94 2.06.94-2.06 2.06-.94-2.06-.94-.94-2.06-.94 2.06-2.06.94z\"/><path d=\"M17.41 7.96l-1.37-1.37c-.4-.4-.92-.59-1.43-.59-.52 0-1.04.2-1.43.59L10.3 9.45l-7.72 7.72c-.78.78-.78 2.05 0 2.83L4 21.41c.39.39.9.59 1.41.59.51 0 1.02-.2 1.41-.59l7.78-7.78 2.81-2.81c.8-.78.8-2.07 0-2.86zM5.41 20L4 18.59l7.72-7.72 1.47 1.35L5.41 20z\"/>\n",
              "  </svg>\n",
              "      </button>\n",
              "      \n",
              "  <style>\n",
              "    .colab-df-container {\n",
              "      display:flex;\n",
              "      flex-wrap:wrap;\n",
              "      gap: 12px;\n",
              "    }\n",
              "\n",
              "    .colab-df-convert {\n",
              "      background-color: #E8F0FE;\n",
              "      border: none;\n",
              "      border-radius: 50%;\n",
              "      cursor: pointer;\n",
              "      display: none;\n",
              "      fill: #1967D2;\n",
              "      height: 32px;\n",
              "      padding: 0 0 0 0;\n",
              "      width: 32px;\n",
              "    }\n",
              "\n",
              "    .colab-df-convert:hover {\n",
              "      background-color: #E2EBFA;\n",
              "      box-shadow: 0px 1px 2px rgba(60, 64, 67, 0.3), 0px 1px 3px 1px rgba(60, 64, 67, 0.15);\n",
              "      fill: #174EA6;\n",
              "    }\n",
              "\n",
              "    [theme=dark] .colab-df-convert {\n",
              "      background-color: #3B4455;\n",
              "      fill: #D2E3FC;\n",
              "    }\n",
              "\n",
              "    [theme=dark] .colab-df-convert:hover {\n",
              "      background-color: #434B5C;\n",
              "      box-shadow: 0px 1px 3px 1px rgba(0, 0, 0, 0.15);\n",
              "      filter: drop-shadow(0px 1px 2px rgba(0, 0, 0, 0.3));\n",
              "      fill: #FFFFFF;\n",
              "    }\n",
              "  </style>\n",
              "\n",
              "      <script>\n",
              "        const buttonEl =\n",
              "          document.querySelector('#df-9a2fe7e6-e747-4cf6-9d91-004acd304942 button.colab-df-convert');\n",
              "        buttonEl.style.display =\n",
              "          google.colab.kernel.accessAllowed ? 'block' : 'none';\n",
              "\n",
              "        async function convertToInteractive(key) {\n",
              "          const element = document.querySelector('#df-9a2fe7e6-e747-4cf6-9d91-004acd304942');\n",
              "          const dataTable =\n",
              "            await google.colab.kernel.invokeFunction('convertToInteractive',\n",
              "                                                     [key], {});\n",
              "          if (!dataTable) return;\n",
              "\n",
              "          const docLinkHtml = 'Like what you see? Visit the ' +\n",
              "            '<a target=\"_blank\" href=https://colab.research.google.com/notebooks/data_table.ipynb>data table notebook</a>'\n",
              "            + ' to learn more about interactive tables.';\n",
              "          element.innerHTML = '';\n",
              "          dataTable['output_type'] = 'display_data';\n",
              "          await google.colab.output.renderOutput(dataTable, element);\n",
              "          const docLink = document.createElement('div');\n",
              "          docLink.innerHTML = docLinkHtml;\n",
              "          element.appendChild(docLink);\n",
              "        }\n",
              "      </script>\n",
              "    </div>\n",
              "  </div>\n",
              "  "
            ]
          },
          "metadata": {},
          "execution_count": 16
        }
      ]
    },
    {
      "cell_type": "code",
      "source": [
        "gen_x.describe()"
      ],
      "metadata": {
        "colab": {
          "base_uri": "https://localhost:8080/",
          "height": 364
        },
        "id": "1M8Bc7e7UWCL",
        "outputId": "4d0f5503-84fb-40e8-bfb1-9e6c327efef1"
      },
      "execution_count": null,
      "outputs": [
        {
          "output_type": "execute_result",
          "data": {
            "text/plain": [
              "                Term  Home_Ownership        Purpose  Current_Loan_Amount  \\\n",
              "count  103974.000000   103974.000000  103974.000000         1.039740e+05   \n",
              "mean        0.579712        1.806596       3.422394         1.957967e+07   \n",
              "std         0.493607        0.976067       1.909283         3.893637e+07   \n",
              "min         0.000000        0.000000       0.000000         2.182400e+04   \n",
              "25%         0.000000        1.000000       3.000000         2.205060e+05   \n",
              "50%         1.000000        2.000000       3.000000         4.339280e+05   \n",
              "75%         1.000000        3.000000       3.000000         1.090830e+06   \n",
              "max         1.000000        3.000000      13.000000         1.000000e+08   \n",
              "\n",
              "        Credit_Score  Annual_Income  Years_in_current_job   Monthly_Debt  \\\n",
              "count  103974.000000   1.039740e+05         103974.000000  103974.000000   \n",
              "mean      715.560938   1.596455e+06              5.917393   20777.276513   \n",
              "std        30.232117   1.227546e+06              3.329005   14554.171179   \n",
              "min       595.000000   2.185620e+05              1.000000     191.330000   \n",
              "25%       705.000000   9.668150e+05              3.000000   10908.660000   \n",
              "50%       725.000000   1.169773e+06              6.000000   17676.182120   \n",
              "75%       736.000000   1.742062e+06             10.000000   26624.462500   \n",
              "max       751.000000   8.927824e+06             10.000000   95445.407397   \n",
              "\n",
              "       Years_of_Credit_History  Number_of_Open_Accounts  \\\n",
              "count            103974.000000            103974.000000   \n",
              "mean                 19.194561                11.572537   \n",
              "std                   7.808292                 5.447271   \n",
              "min                   4.700000                 2.000000   \n",
              "25%                  13.900000                 8.000000   \n",
              "50%                  17.842217                11.000000   \n",
              "75%                  23.000000                14.000000   \n",
              "max                  49.900000                36.000000   \n",
              "\n",
              "       Number_of_Credit_Problems  Current_Credit_Balance  Maximum_Open_Credit  \\\n",
              "count              103974.000000            1.039740e+05         1.039740e+05   \n",
              "mean                    0.269664            4.016721e+05         1.048086e+06   \n",
              "std                     0.559444            5.312796e+05         1.519093e+06   \n",
              "min                     0.000000            0.000000e+00         0.000000e+00   \n",
              "25%                     0.000000            1.243360e+05         3.143360e+05   \n",
              "50%                     0.000000            2.397990e+05         5.948360e+05   \n",
              "75%                     0.000000            4.587692e+05         1.043981e+06   \n",
              "max                     4.000000            4.004922e+06         1.775772e+07   \n",
              "\n",
              "        Bankruptcies      Tax_Liens  \n",
              "count  103974.000000  103974.000000  \n",
              "mean        0.136553       0.084646  \n",
              "std         0.356352       0.294409  \n",
              "min         0.000000       0.000000  \n",
              "25%         0.000000       0.000000  \n",
              "50%         0.000000       0.000000  \n",
              "75%         0.000000       0.000000  \n",
              "max         3.000000       3.000000  "
            ],
            "text/html": [
              "\n",
              "  <div id=\"df-d85ef91f-0769-4c8f-bcdc-081b8bb9b706\">\n",
              "    <div class=\"colab-df-container\">\n",
              "      <div>\n",
              "<style scoped>\n",
              "    .dataframe tbody tr th:only-of-type {\n",
              "        vertical-align: middle;\n",
              "    }\n",
              "\n",
              "    .dataframe tbody tr th {\n",
              "        vertical-align: top;\n",
              "    }\n",
              "\n",
              "    .dataframe thead th {\n",
              "        text-align: right;\n",
              "    }\n",
              "</style>\n",
              "<table border=\"1\" class=\"dataframe\">\n",
              "  <thead>\n",
              "    <tr style=\"text-align: right;\">\n",
              "      <th></th>\n",
              "      <th>Term</th>\n",
              "      <th>Home_Ownership</th>\n",
              "      <th>Purpose</th>\n",
              "      <th>Current_Loan_Amount</th>\n",
              "      <th>Credit_Score</th>\n",
              "      <th>Annual_Income</th>\n",
              "      <th>Years_in_current_job</th>\n",
              "      <th>Monthly_Debt</th>\n",
              "      <th>Years_of_Credit_History</th>\n",
              "      <th>Number_of_Open_Accounts</th>\n",
              "      <th>Number_of_Credit_Problems</th>\n",
              "      <th>Current_Credit_Balance</th>\n",
              "      <th>Maximum_Open_Credit</th>\n",
              "      <th>Bankruptcies</th>\n",
              "      <th>Tax_Liens</th>\n",
              "    </tr>\n",
              "  </thead>\n",
              "  <tbody>\n",
              "    <tr>\n",
              "      <th>count</th>\n",
              "      <td>103974.000000</td>\n",
              "      <td>103974.000000</td>\n",
              "      <td>103974.000000</td>\n",
              "      <td>1.039740e+05</td>\n",
              "      <td>103974.000000</td>\n",
              "      <td>1.039740e+05</td>\n",
              "      <td>103974.000000</td>\n",
              "      <td>103974.000000</td>\n",
              "      <td>103974.000000</td>\n",
              "      <td>103974.000000</td>\n",
              "      <td>103974.000000</td>\n",
              "      <td>1.039740e+05</td>\n",
              "      <td>1.039740e+05</td>\n",
              "      <td>103974.000000</td>\n",
              "      <td>103974.000000</td>\n",
              "    </tr>\n",
              "    <tr>\n",
              "      <th>mean</th>\n",
              "      <td>0.579712</td>\n",
              "      <td>1.806596</td>\n",
              "      <td>3.422394</td>\n",
              "      <td>1.957967e+07</td>\n",
              "      <td>715.560938</td>\n",
              "      <td>1.596455e+06</td>\n",
              "      <td>5.917393</td>\n",
              "      <td>20777.276513</td>\n",
              "      <td>19.194561</td>\n",
              "      <td>11.572537</td>\n",
              "      <td>0.269664</td>\n",
              "      <td>4.016721e+05</td>\n",
              "      <td>1.048086e+06</td>\n",
              "      <td>0.136553</td>\n",
              "      <td>0.084646</td>\n",
              "    </tr>\n",
              "    <tr>\n",
              "      <th>std</th>\n",
              "      <td>0.493607</td>\n",
              "      <td>0.976067</td>\n",
              "      <td>1.909283</td>\n",
              "      <td>3.893637e+07</td>\n",
              "      <td>30.232117</td>\n",
              "      <td>1.227546e+06</td>\n",
              "      <td>3.329005</td>\n",
              "      <td>14554.171179</td>\n",
              "      <td>7.808292</td>\n",
              "      <td>5.447271</td>\n",
              "      <td>0.559444</td>\n",
              "      <td>5.312796e+05</td>\n",
              "      <td>1.519093e+06</td>\n",
              "      <td>0.356352</td>\n",
              "      <td>0.294409</td>\n",
              "    </tr>\n",
              "    <tr>\n",
              "      <th>min</th>\n",
              "      <td>0.000000</td>\n",
              "      <td>0.000000</td>\n",
              "      <td>0.000000</td>\n",
              "      <td>2.182400e+04</td>\n",
              "      <td>595.000000</td>\n",
              "      <td>2.185620e+05</td>\n",
              "      <td>1.000000</td>\n",
              "      <td>191.330000</td>\n",
              "      <td>4.700000</td>\n",
              "      <td>2.000000</td>\n",
              "      <td>0.000000</td>\n",
              "      <td>0.000000e+00</td>\n",
              "      <td>0.000000e+00</td>\n",
              "      <td>0.000000</td>\n",
              "      <td>0.000000</td>\n",
              "    </tr>\n",
              "    <tr>\n",
              "      <th>25%</th>\n",
              "      <td>0.000000</td>\n",
              "      <td>1.000000</td>\n",
              "      <td>3.000000</td>\n",
              "      <td>2.205060e+05</td>\n",
              "      <td>705.000000</td>\n",
              "      <td>9.668150e+05</td>\n",
              "      <td>3.000000</td>\n",
              "      <td>10908.660000</td>\n",
              "      <td>13.900000</td>\n",
              "      <td>8.000000</td>\n",
              "      <td>0.000000</td>\n",
              "      <td>1.243360e+05</td>\n",
              "      <td>3.143360e+05</td>\n",
              "      <td>0.000000</td>\n",
              "      <td>0.000000</td>\n",
              "    </tr>\n",
              "    <tr>\n",
              "      <th>50%</th>\n",
              "      <td>1.000000</td>\n",
              "      <td>2.000000</td>\n",
              "      <td>3.000000</td>\n",
              "      <td>4.339280e+05</td>\n",
              "      <td>725.000000</td>\n",
              "      <td>1.169773e+06</td>\n",
              "      <td>6.000000</td>\n",
              "      <td>17676.182120</td>\n",
              "      <td>17.842217</td>\n",
              "      <td>11.000000</td>\n",
              "      <td>0.000000</td>\n",
              "      <td>2.397990e+05</td>\n",
              "      <td>5.948360e+05</td>\n",
              "      <td>0.000000</td>\n",
              "      <td>0.000000</td>\n",
              "    </tr>\n",
              "    <tr>\n",
              "      <th>75%</th>\n",
              "      <td>1.000000</td>\n",
              "      <td>3.000000</td>\n",
              "      <td>3.000000</td>\n",
              "      <td>1.090830e+06</td>\n",
              "      <td>736.000000</td>\n",
              "      <td>1.742062e+06</td>\n",
              "      <td>10.000000</td>\n",
              "      <td>26624.462500</td>\n",
              "      <td>23.000000</td>\n",
              "      <td>14.000000</td>\n",
              "      <td>0.000000</td>\n",
              "      <td>4.587692e+05</td>\n",
              "      <td>1.043981e+06</td>\n",
              "      <td>0.000000</td>\n",
              "      <td>0.000000</td>\n",
              "    </tr>\n",
              "    <tr>\n",
              "      <th>max</th>\n",
              "      <td>1.000000</td>\n",
              "      <td>3.000000</td>\n",
              "      <td>13.000000</td>\n",
              "      <td>1.000000e+08</td>\n",
              "      <td>751.000000</td>\n",
              "      <td>8.927824e+06</td>\n",
              "      <td>10.000000</td>\n",
              "      <td>95445.407397</td>\n",
              "      <td>49.900000</td>\n",
              "      <td>36.000000</td>\n",
              "      <td>4.000000</td>\n",
              "      <td>4.004922e+06</td>\n",
              "      <td>1.775772e+07</td>\n",
              "      <td>3.000000</td>\n",
              "      <td>3.000000</td>\n",
              "    </tr>\n",
              "  </tbody>\n",
              "</table>\n",
              "</div>\n",
              "      <button class=\"colab-df-convert\" onclick=\"convertToInteractive('df-d85ef91f-0769-4c8f-bcdc-081b8bb9b706')\"\n",
              "              title=\"Convert this dataframe to an interactive table.\"\n",
              "              style=\"display:none;\">\n",
              "        \n",
              "  <svg xmlns=\"http://www.w3.org/2000/svg\" height=\"24px\"viewBox=\"0 0 24 24\"\n",
              "       width=\"24px\">\n",
              "    <path d=\"M0 0h24v24H0V0z\" fill=\"none\"/>\n",
              "    <path d=\"M18.56 5.44l.94 2.06.94-2.06 2.06-.94-2.06-.94-.94-2.06-.94 2.06-2.06.94zm-11 1L8.5 8.5l.94-2.06 2.06-.94-2.06-.94L8.5 2.5l-.94 2.06-2.06.94zm10 10l.94 2.06.94-2.06 2.06-.94-2.06-.94-.94-2.06-.94 2.06-2.06.94z\"/><path d=\"M17.41 7.96l-1.37-1.37c-.4-.4-.92-.59-1.43-.59-.52 0-1.04.2-1.43.59L10.3 9.45l-7.72 7.72c-.78.78-.78 2.05 0 2.83L4 21.41c.39.39.9.59 1.41.59.51 0 1.02-.2 1.41-.59l7.78-7.78 2.81-2.81c.8-.78.8-2.07 0-2.86zM5.41 20L4 18.59l7.72-7.72 1.47 1.35L5.41 20z\"/>\n",
              "  </svg>\n",
              "      </button>\n",
              "      \n",
              "  <style>\n",
              "    .colab-df-container {\n",
              "      display:flex;\n",
              "      flex-wrap:wrap;\n",
              "      gap: 12px;\n",
              "    }\n",
              "\n",
              "    .colab-df-convert {\n",
              "      background-color: #E8F0FE;\n",
              "      border: none;\n",
              "      border-radius: 50%;\n",
              "      cursor: pointer;\n",
              "      display: none;\n",
              "      fill: #1967D2;\n",
              "      height: 32px;\n",
              "      padding: 0 0 0 0;\n",
              "      width: 32px;\n",
              "    }\n",
              "\n",
              "    .colab-df-convert:hover {\n",
              "      background-color: #E2EBFA;\n",
              "      box-shadow: 0px 1px 2px rgba(60, 64, 67, 0.3), 0px 1px 3px 1px rgba(60, 64, 67, 0.15);\n",
              "      fill: #174EA6;\n",
              "    }\n",
              "\n",
              "    [theme=dark] .colab-df-convert {\n",
              "      background-color: #3B4455;\n",
              "      fill: #D2E3FC;\n",
              "    }\n",
              "\n",
              "    [theme=dark] .colab-df-convert:hover {\n",
              "      background-color: #434B5C;\n",
              "      box-shadow: 0px 1px 3px 1px rgba(0, 0, 0, 0.15);\n",
              "      filter: drop-shadow(0px 1px 2px rgba(0, 0, 0, 0.3));\n",
              "      fill: #FFFFFF;\n",
              "    }\n",
              "  </style>\n",
              "\n",
              "      <script>\n",
              "        const buttonEl =\n",
              "          document.querySelector('#df-d85ef91f-0769-4c8f-bcdc-081b8bb9b706 button.colab-df-convert');\n",
              "        buttonEl.style.display =\n",
              "          google.colab.kernel.accessAllowed ? 'block' : 'none';\n",
              "\n",
              "        async function convertToInteractive(key) {\n",
              "          const element = document.querySelector('#df-d85ef91f-0769-4c8f-bcdc-081b8bb9b706');\n",
              "          const dataTable =\n",
              "            await google.colab.kernel.invokeFunction('convertToInteractive',\n",
              "                                                     [key], {});\n",
              "          if (!dataTable) return;\n",
              "\n",
              "          const docLinkHtml = 'Like what you see? Visit the ' +\n",
              "            '<a target=\"_blank\" href=https://colab.research.google.com/notebooks/data_table.ipynb>data table notebook</a>'\n",
              "            + ' to learn more about interactive tables.';\n",
              "          element.innerHTML = '';\n",
              "          dataTable['output_type'] = 'display_data';\n",
              "          await google.colab.output.renderOutput(dataTable, element);\n",
              "          const docLink = document.createElement('div');\n",
              "          docLink.innerHTML = docLinkHtml;\n",
              "          element.appendChild(docLink);\n",
              "        }\n",
              "      </script>\n",
              "    </div>\n",
              "  </div>\n",
              "  "
            ]
          },
          "metadata": {},
          "execution_count": 17
        }
      ]
    },
    {
      "cell_type": "code",
      "source": [
        "gen_x.hist()"
      ],
      "metadata": {
        "colab": {
          "base_uri": "https://localhost:8080/",
          "height": 598
        },
        "id": "ckEbr-_LVuTn",
        "outputId": "ca8a3d36-3919-423d-f420-1a2a2dd0c2d0"
      },
      "execution_count": null,
      "outputs": [
        {
          "output_type": "execute_result",
          "data": {
            "text/plain": [
              "array([[<matplotlib.axes._subplots.AxesSubplot object at 0x7f191ecb3820>,\n",
              "        <matplotlib.axes._subplots.AxesSubplot object at 0x7f191e939220>,\n",
              "        <matplotlib.axes._subplots.AxesSubplot object at 0x7f191e6bd370>,\n",
              "        <matplotlib.axes._subplots.AxesSubplot object at 0x7f191e6e6a90>],\n",
              "       [<matplotlib.axes._subplots.AxesSubplot object at 0x7f191e23e1f0>,\n",
              "        <matplotlib.axes._subplots.AxesSubplot object at 0x7f18b668c850>,\n",
              "        <matplotlib.axes._subplots.AxesSubplot object at 0x7f18b668c940>,\n",
              "        <matplotlib.axes._subplots.AxesSubplot object at 0x7f18b6643100>],\n",
              "       [<matplotlib.axes._subplots.AxesSubplot object at 0x7f18b6618eb0>,\n",
              "        <matplotlib.axes._subplots.AxesSubplot object at 0x7f18b65d0610>,\n",
              "        <matplotlib.axes._subplots.AxesSubplot object at 0x7f18b6579d30>,\n",
              "        <matplotlib.axes._subplots.AxesSubplot object at 0x7f18b65b2490>],\n",
              "       [<matplotlib.axes._subplots.AxesSubplot object at 0x7f18b655cbb0>,\n",
              "        <matplotlib.axes._subplots.AxesSubplot object at 0x7f18b6513310>,\n",
              "        <matplotlib.axes._subplots.AxesSubplot object at 0x7f18b64bda30>,\n",
              "        <matplotlib.axes._subplots.AxesSubplot object at 0x7f18b64730d0>]],\n",
              "      dtype=object)"
            ]
          },
          "metadata": {},
          "execution_count": 19
        },
        {
          "output_type": "display_data",
          "data": {
            "text/plain": [
              "<Figure size 432x288 with 16 Axes>"
            ],
            "image/png": "[encoded data removed]"
          },
          "metadata": {
            "needs_background": "light"
          }
        }
      ]
    },
    {
      "cell_type": "code",
      "source": [
        "ax = df_x_train.hist(bins=20, grid=False, figsize=(17,10), color='#86bf91', zorder=2, rwidth=0.9)"
      ],
      "metadata": {
        "colab": {
          "base_uri": "https://localhost:8080/",
          "height": 620
        },
        "id": "AsjBn5mOWvHv",
        "outputId": "21a5cc85-9fbf-41e4-9fce-bcda54c3718c"
      },
      "execution_count": null,
      "outputs": [
        {
          "output_type": "display_data",
          "data": {
            "text/plain": [
              "<Figure size 1224x720 with 16 Axes>"
            ],
            "image/png": "[encoded data removed]"
          },
          "metadata": {
            "needs_background": "light"
          }
        }
      ]
    },
    {
      "cell_type": "code",
      "source": [],
      "metadata": {
        "id": "OWipLwQRs6_R"
      },
      "execution_count": null,
      "outputs": []
    },
    {
      "cell_type": "code",
      "source": [
        "import matplotlib.pyplot as plt"
      ],
      "metadata": {
        "id": "ieT-09fFf80B"
      },
      "execution_count": null,
      "outputs": []
    },
    {
      "cell_type": "code",
      "source": [
        "fig=plt.figure()"
      ],
      "metadata": {
        "colab": {
          "base_uri": "https://localhost:8080/",
          "height": 35
        },
        "id": "1yumIDaWgEr3",
        "outputId": "6d621558-52e7-4e23-fd39-5d04f44dee1d"
      },
      "execution_count": null,
      "outputs": [
        {
          "output_type": "display_data",
          "data": {
            "text/plain": [
              "<Figure size 432x288 with 0 Axes>"
            ]
          },
          "metadata": {}
        }
      ]
    },
    {
      "cell_type": "code",
      "source": [],
      "metadata": {
        "id": "NDAl3ZKTgCq4"
      },
      "execution_count": null,
      "outputs": []
    },
    {
      "cell_type": "code",
      "source": [
        "fig.savefig('real_data.png',dpi=400)"
      ],
      "metadata": {
        "id": "i2Y7elPEfz3i"
      },
      "execution_count": null,
      "outputs": []
    },
    {
      "cell_type": "code",
      "source": [],
      "metadata": {
        "id": "H8HmKBCWf7by"
      },
      "execution_count": null,
      "outputs": []
    },
    {
      "cell_type": "code",
      "source": [],
      "metadata": {
        "id": "p1IBwYHLfmf_"
      },
      "execution_count": null,
      "outputs": []
    },
    {
      "cell_type": "code",
      "source": [
        "ax = gen_x.hist(bins=25, grid=False, figsize=(17,10), color='#86bf91', zorder=2, rwidth=0.9)"
      ],
      "metadata": {
        "colab": {
          "base_uri": "https://localhost:8080/",
          "height": 620
        },
        "id": "4ZtrICSPW2FG",
        "outputId": "f8bd7454-f341-4fe5-b182-e217d1afb647"
      },
      "execution_count": null,
      "outputs": [
        {
          "output_type": "display_data",
          "data": {
            "text/plain": [
              "<Figure size 1224x720 with 16 Axes>"
            ],
            "image/png": "[encoded data removed]"
          },
          "metadata": {
            "needs_background": "light"
          }
        }
      ]
    },
    {
      "cell_type": "code",
      "source": [
        "from sklearn.preprocessing import RobustScaler"
      ],
      "metadata": {
        "id": "3Naz9CBxZb0Q"
      },
      "execution_count": null,
      "outputs": []
    },
    {
      "cell_type": "code",
      "source": [
        "scaler = RobustScaler()"
      ],
      "metadata": {
        "id": "UnISMzPVV76p"
      },
      "execution_count": null,
      "outputs": []
    },
    {
      "cell_type": "code",
      "source": [
        "x_train_scaled=scaler.fit_transform(df_x_train)"
      ],
      "metadata": {
        "id": "c5nUxsphZjbJ"
      },
      "execution_count": null,
      "outputs": []
    },
    {
      "cell_type": "code",
      "source": [
        "x_test_scaled=scaler.transform(df_x_test)"
      ],
      "metadata": {
        "id": "Rkn23w_jZuDH"
      },
      "execution_count": null,
      "outputs": []
    },
    {
      "cell_type": "code",
      "source": [
        "from sklearn.linear_model import LogisticRegression "
      ],
      "metadata": {
        "id": "FcBSA7DkZxQ1"
      },
      "execution_count": null,
      "outputs": []
    },
    {
      "cell_type": "code",
      "source": [
        "# simple linear regression\n",
        "model1 = LogisticRegression()\n",
        "model1.fit(x_train_scaled,df_y_train.to_numpy().ravel())"
      ],
      "metadata": {
        "colab": {
          "base_uri": "https://localhost:8080/"
        },
        "id": "yvbvFh0FZ9VI",
        "outputId": "38f8a714-1ba7-4d07-f533-1dcde8918a4c"
      },
      "execution_count": null,
      "outputs": [
        {
          "output_type": "execute_result",
          "data": {
            "text/plain": [
              "LogisticRegression()"
            ]
          },
          "metadata": {},
          "execution_count": 35
        }
      ]
    },
    {
      "cell_type": "code",
      "source": [
        "model1.score(x_test_scaled,df_y_test)"
      ],
      "metadata": {
        "colab": {
          "base_uri": "https://localhost:8080/"
        },
        "id": "x-qv8yPbaJro",
        "outputId": "fe89043b-e100-4051-c529-8269c40f81db"
      },
      "execution_count": null,
      "outputs": [
        {
          "output_type": "execute_result",
          "data": {
            "text/plain": [
              "0.7502092750711535"
            ]
          },
          "metadata": {},
          "execution_count": 37
        }
      ]
    },
    {
      "cell_type": "code",
      "source": [
        "x_train_scaled2=scaler.fit_transform(gen_x)"
      ],
      "metadata": {
        "id": "2MMRxd2laVxQ"
      },
      "execution_count": null,
      "outputs": []
    },
    {
      "cell_type": "code",
      "source": [
        "x_test_scaled2=scaler.transform(df_x_test)"
      ],
      "metadata": {
        "id": "blQLUzG6aazI"
      },
      "execution_count": null,
      "outputs": []
    },
    {
      "cell_type": "code",
      "source": [
        "from sklearn.ensemble import RandomForestClassifier\n",
        "model = RandomForestClassifier(n_estimators=50)\n",
        "model.fit(x_train_scaled, df_y_train.to_numpy().ravel())"
      ],
      "metadata": {
        "colab": {
          "base_uri": "https://localhost:8080/"
        },
        "id": "bSRlqH9SbTBc",
        "outputId": "837e7290-eeb4-431f-d44c-4f99abcbf710"
      },
      "execution_count": null,
      "outputs": [
        {
          "output_type": "execute_result",
          "data": {
            "text/plain": [
              "RandomForestClassifier(n_estimators=50)"
            ]
          },
          "metadata": {},
          "execution_count": 47
        }
      ]
    },
    {
      "cell_type": "code",
      "source": [
        "model.score(x_test_scaled,df_y_test)"
      ],
      "metadata": {
        "colab": {
          "base_uri": "https://localhost:8080/"
        },
        "id": "pgF2NbXKbgl-",
        "outputId": "a76df6a6-ef30-420b-bd67-42695751c6d9"
      },
      "execution_count": null,
      "outputs": [
        {
          "output_type": "execute_result",
          "data": {
            "text/plain": [
              "0.7501534683855126"
            ]
          },
          "metadata": {},
          "execution_count": 48
        }
      ]
    },
    {
      "cell_type": "code",
      "source": [
        "from sklearn.ensemble import RandomForestClassifier\n",
        "model = RandomForestClassifier(n_estimators=50)\n",
        "model.fit(x_train_scaled2, gen_y)"
      ],
      "metadata": {
        "colab": {
          "base_uri": "https://localhost:8080/"
        },
        "id": "yIgS093ibn9n",
        "outputId": "2ddd621a-8718-444d-c7a7-e34dfe8202bc"
      },
      "execution_count": null,
      "outputs": [
        {
          "output_type": "execute_result",
          "data": {
            "text/plain": [
              "RandomForestClassifier(n_estimators=50)"
            ]
          },
          "metadata": {},
          "execution_count": 50
        }
      ]
    },
    {
      "cell_type": "code",
      "source": [
        "model.score(x_test_scaled2,df_y_test)"
      ],
      "metadata": {
        "colab": {
          "base_uri": "https://localhost:8080/"
        },
        "id": "fM85f62abyKM",
        "outputId": "d1f2a435-c4de-45d9-8164-af487d3d1c03"
      },
      "execution_count": null,
      "outputs": [
        {
          "output_type": "execute_result",
          "data": {
            "text/plain": [
              "0.7482002343880797"
            ]
          },
          "metadata": {},
          "execution_count": 51
        }
      ]
    },
    {
      "cell_type": "code",
      "source": [],
      "metadata": {
        "id": "VnROhxywb8QG"
      },
      "execution_count": null,
      "outputs": []
    },
    {
      "cell_type": "code",
      "source": [],
      "metadata": {
        "id": "rLQem668bay3"
      },
      "execution_count": null,
      "outputs": []
    },
    {
      "cell_type": "code",
      "source": [
        "model1.score(x_test_scaled2,df_y_test)"
      ],
      "metadata": {
        "colab": {
          "base_uri": "https://localhost:8080/"
        },
        "id": "pE_RuUQ3a15i",
        "outputId": "13f92ab3-b460-442b-dbd1-ab0ce05e85fe"
      },
      "execution_count": null,
      "outputs": [
        {
          "output_type": "execute_result",
          "data": {
            "text/plain": [
              "0.7504883084993582"
            ]
          },
          "metadata": {},
          "execution_count": 44
        }
      ]
    },
    {
      "cell_type": "code",
      "source": [
        "gen=pd.concat([gen_x,gen_y],axis=1)"
      ],
      "metadata": {
        "id": "zvosZRuFcl0o"
      },
      "execution_count": null,
      "outputs": []
    },
    {
      "cell_type": "code",
      "source": [
        "gen.head()"
      ],
      "metadata": {
        "colab": {
          "base_uri": "https://localhost:8080/",
          "height": 270
        },
        "id": "5s5N6RWTc__y",
        "outputId": "3cd006fc-7ea4-40e9-d1bf-35c08f71f87e"
      },
      "execution_count": null,
      "outputs": [
        {
          "output_type": "execute_result",
          "data": {
            "text/plain": [
              "   Term  Home_Ownership  Purpose  Current_Loan_Amount  Credit_Score  \\\n",
              "0     0               0        0               830042           739   \n",
              "1     0               0        0             97372479           666   \n",
              "2     0               0        1              1186323           724   \n",
              "3     0               0        1              1106680           717   \n",
              "4     0               0        0             99717649           718   \n",
              "\n",
              "   Annual_Income  Years_in_current_job  Monthly_Debt  Years_of_Credit_History  \\\n",
              "0        1242508                     4  12422.165547                12.114260   \n",
              "1        1186090                     2   6768.912635                21.849958   \n",
              "2        4616597                     3  19952.868038                35.072929   \n",
              "3        2274956                     2  27087.417353                23.046619   \n",
              "4        1666048                     6  17452.789650                23.798478   \n",
              "\n",
              "   Number_of_Open_Accounts  Number_of_Credit_Problems  Current_Credit_Balance  \\\n",
              "0                       19                          0                 1924679   \n",
              "1                       11                          0                 2494065   \n",
              "2                        7                          0                 2590968   \n",
              "3                       16                          0                 1652974   \n",
              "4                        9                          0                 2189639   \n",
              "\n",
              "   Maximum_Open_Credit  Bankruptcies  Tax_Liens  Loan_Status  \n",
              "0               683242             0          1            1  \n",
              "1               391314             0          1            1  \n",
              "2               171356             1          1            1  \n",
              "3               171383             0          1            0  \n",
              "4               474212             0          1            0  "
            ],
            "text/html": [
              "\n",
              "  <div id=\"df-ee36cbc5-a231-4516-afa3-de5b9d6d1a99\">\n",
              "    <div class=\"colab-df-container\">\n",
              "      <div>\n",
              "<style scoped>\n",
              "    .dataframe tbody tr th:only-of-type {\n",
              "        vertical-align: middle;\n",
              "    }\n",
              "\n",
              "    .dataframe tbody tr th {\n",
              "        vertical-align: top;\n",
              "    }\n",
              "\n",
              "    .dataframe thead th {\n",
              "        text-align: right;\n",
              "    }\n",
              "</style>\n",
              "<table border=\"1\" class=\"dataframe\">\n",
              "  <thead>\n",
              "    <tr style=\"text-align: right;\">\n",
              "      <th></th>\n",
              "      <th>Term</th>\n",
              "      <th>Home_Ownership</th>\n",
              "      <th>Purpose</th>\n",
              "      <th>Current_Loan_Amount</th>\n",
              "      <th>Credit_Score</th>\n",
              "      <th>Annual_Income</th>\n",
              "      <th>Years_in_current_job</th>\n",
              "      <th>Monthly_Debt</th>\n",
              "      <th>Years_of_Credit_History</th>\n",
              "      <th>Number_of_Open_Accounts</th>\n",
              "      <th>Number_of_Credit_Problems</th>\n",
              "      <th>Current_Credit_Balance</th>\n",
              "      <th>Maximum_Open_Credit</th>\n",
              "      <th>Bankruptcies</th>\n",
              "      <th>Tax_Liens</th>\n",
              "      <th>Loan_Status</th>\n",
              "    </tr>\n",
              "  </thead>\n",
              "  <tbody>\n",
              "    <tr>\n",
              "      <th>0</th>\n",
              "      <td>0</td>\n",
              "      <td>0</td>\n",
              "      <td>0</td>\n",
              "      <td>830042</td>\n",
              "      <td>739</td>\n",
              "      <td>1242508</td>\n",
              "      <td>4</td>\n",
              "      <td>12422.165547</td>\n",
              "      <td>12.114260</td>\n",
              "      <td>19</td>\n",
              "      <td>0</td>\n",
              "      <td>1924679</td>\n",
              "      <td>683242</td>\n",
              "      <td>0</td>\n",
              "      <td>1</td>\n",
              "      <td>1</td>\n",
              "    </tr>\n",
              "    <tr>\n",
              "      <th>1</th>\n",
              "      <td>0</td>\n",
              "      <td>0</td>\n",
              "      <td>0</td>\n",
              "      <td>97372479</td>\n",
              "      <td>666</td>\n",
              "      <td>1186090</td>\n",
              "      <td>2</td>\n",
              "      <td>6768.912635</td>\n",
              "      <td>21.849958</td>\n",
              "      <td>11</td>\n",
              "      <td>0</td>\n",
              "      <td>2494065</td>\n",
              "      <td>391314</td>\n",
              "      <td>0</td>\n",
              "      <td>1</td>\n",
              "      <td>1</td>\n",
              "    </tr>\n",
              "    <tr>\n",
              "      <th>2</th>\n",
              "      <td>0</td>\n",
              "      <td>0</td>\n",
              "      <td>1</td>\n",
              "      <td>1186323</td>\n",
              "      <td>724</td>\n",
              "      <td>4616597</td>\n",
              "      <td>3</td>\n",
              "      <td>19952.868038</td>\n",
              "      <td>35.072929</td>\n",
              "      <td>7</td>\n",
              "      <td>0</td>\n",
              "      <td>2590968</td>\n",
              "      <td>171356</td>\n",
              "      <td>1</td>\n",
              "      <td>1</td>\n",
              "      <td>1</td>\n",
              "    </tr>\n",
              "    <tr>\n",
              "      <th>3</th>\n",
              "      <td>0</td>\n",
              "      <td>0</td>\n",
              "      <td>1</td>\n",
              "      <td>1106680</td>\n",
              "      <td>717</td>\n",
              "      <td>2274956</td>\n",
              "      <td>2</td>\n",
              "      <td>27087.417353</td>\n",
              "      <td>23.046619</td>\n",
              "      <td>16</td>\n",
              "      <td>0</td>\n",
              "      <td>1652974</td>\n",
              "      <td>171383</td>\n",
              "      <td>0</td>\n",
              "      <td>1</td>\n",
              "      <td>0</td>\n",
              "    </tr>\n",
              "    <tr>\n",
              "      <th>4</th>\n",
              "      <td>0</td>\n",
              "      <td>0</td>\n",
              "      <td>0</td>\n",
              "      <td>99717649</td>\n",
              "      <td>718</td>\n",
              "      <td>1666048</td>\n",
              "      <td>6</td>\n",
              "      <td>17452.789650</td>\n",
              "      <td>23.798478</td>\n",
              "      <td>9</td>\n",
              "      <td>0</td>\n",
              "      <td>2189639</td>\n",
              "      <td>474212</td>\n",
              "      <td>0</td>\n",
              "      <td>1</td>\n",
              "      <td>0</td>\n",
              "    </tr>\n",
              "  </tbody>\n",
              "</table>\n",
              "</div>\n",
              "      <button class=\"colab-df-convert\" onclick=\"convertToInteractive('df-ee36cbc5-a231-4516-afa3-de5b9d6d1a99')\"\n",
              "              title=\"Convert this dataframe to an interactive table.\"\n",
              "              style=\"display:none;\">\n",
              "        \n",
              "  <svg xmlns=\"http://www.w3.org/2000/svg\" height=\"24px\"viewBox=\"0 0 24 24\"\n",
              "       width=\"24px\">\n",
              "    <path d=\"M0 0h24v24H0V0z\" fill=\"none\"/>\n",
              "    <path d=\"M18.56 5.44l.94 2.06.94-2.06 2.06-.94-2.06-.94-.94-2.06-.94 2.06-2.06.94zm-11 1L8.5 8.5l.94-2.06 2.06-.94-2.06-.94L8.5 2.5l-.94 2.06-2.06.94zm10 10l.94 2.06.94-2.06 2.06-.94-2.06-.94-.94-2.06-.94 2.06-2.06.94z\"/><path d=\"M17.41 7.96l-1.37-1.37c-.4-.4-.92-.59-1.43-.59-.52 0-1.04.2-1.43.59L10.3 9.45l-7.72 7.72c-.78.78-.78 2.05 0 2.83L4 21.41c.39.39.9.59 1.41.59.51 0 1.02-.2 1.41-.59l7.78-7.78 2.81-2.81c.8-.78.8-2.07 0-2.86zM5.41 20L4 18.59l7.72-7.72 1.47 1.35L5.41 20z\"/>\n",
              "  </svg>\n",
              "      </button>\n",
              "      \n",
              "  <style>\n",
              "    .colab-df-container {\n",
              "      display:flex;\n",
              "      flex-wrap:wrap;\n",
              "      gap: 12px;\n",
              "    }\n",
              "\n",
              "    .colab-df-convert {\n",
              "      background-color: #E8F0FE;\n",
              "      border: none;\n",
              "      border-radius: 50%;\n",
              "      cursor: pointer;\n",
              "      display: none;\n",
              "      fill: #1967D2;\n",
              "      height: 32px;\n",
              "      padding: 0 0 0 0;\n",
              "      width: 32px;\n",
              "    }\n",
              "\n",
              "    .colab-df-convert:hover {\n",
              "      background-color: #E2EBFA;\n",
              "      box-shadow: 0px 1px 2px rgba(60, 64, 67, 0.3), 0px 1px 3px 1px rgba(60, 64, 67, 0.15);\n",
              "      fill: #174EA6;\n",
              "    }\n",
              "\n",
              "    [theme=dark] .colab-df-convert {\n",
              "      background-color: #3B4455;\n",
              "      fill: #D2E3FC;\n",
              "    }\n",
              "\n",
              "    [theme=dark] .colab-df-convert:hover {\n",
              "      background-color: #434B5C;\n",
              "      box-shadow: 0px 1px 3px 1px rgba(0, 0, 0, 0.15);\n",
              "      filter: drop-shadow(0px 1px 2px rgba(0, 0, 0, 0.3));\n",
              "      fill: #FFFFFF;\n",
              "    }\n",
              "  </style>\n",
              "\n",
              "      <script>\n",
              "        const buttonEl =\n",
              "          document.querySelector('#df-ee36cbc5-a231-4516-afa3-de5b9d6d1a99 button.colab-df-convert');\n",
              "        buttonEl.style.display =\n",
              "          google.colab.kernel.accessAllowed ? 'block' : 'none';\n",
              "\n",
              "        async function convertToInteractive(key) {\n",
              "          const element = document.querySelector('#df-ee36cbc5-a231-4516-afa3-de5b9d6d1a99');\n",
              "          const dataTable =\n",
              "            await google.colab.kernel.invokeFunction('convertToInteractive',\n",
              "                                                     [key], {});\n",
              "          if (!dataTable) return;\n",
              "\n",
              "          const docLinkHtml = 'Like what you see? Visit the ' +\n",
              "            '<a target=\"_blank\" href=https://colab.research.google.com/notebooks/data_table.ipynb>data table notebook</a>'\n",
              "            + ' to learn more about interactive tables.';\n",
              "          element.innerHTML = '';\n",
              "          dataTable['output_type'] = 'display_data';\n",
              "          await google.colab.output.renderOutput(dataTable, element);\n",
              "          const docLink = document.createElement('div');\n",
              "          docLink.innerHTML = docLinkHtml;\n",
              "          element.appendChild(docLink);\n",
              "        }\n",
              "      </script>\n",
              "    </div>\n",
              "  </div>\n",
              "  "
            ]
          },
          "metadata": {},
          "execution_count": 53
        }
      ]
    },
    {
      "cell_type": "code",
      "source": [
        "gen.to_excel(\"synthetic_data_2.xlsx\")"
      ],
      "metadata": {
        "id": "gR2Pdor5dDgk"
      },
      "execution_count": null,
      "outputs": []
    },
    {
      "cell_type": "code",
      "source": [],
      "metadata": {
        "id": "R_aLonThtIuo"
      },
      "execution_count": null,
      "outputs": []
    },
    {
      "cell_type": "code",
      "source": [
        "\n",
        "from sklearn.tree import DecisionTreeClassifier\n",
        "model = DecisionTreeClassifier()\n",
        "model.fit(x_train_scaled, df_y_train.to_numpy().ravel())"
      ],
      "metadata": {
        "colab": {
          "base_uri": "https://localhost:8080/"
        },
        "id": "VCzwSeYCdDn4",
        "outputId": "e41c3841-07c4-44e0-e5de-fa47e2f79491"
      },
      "execution_count": null,
      "outputs": [
        {
          "output_type": "execute_result",
          "data": {
            "text/plain": [
              "DecisionTreeClassifier()"
            ]
          },
          "metadata": {},
          "execution_count": 57
        }
      ]
    },
    {
      "cell_type": "code",
      "source": [
        "model.score(x_test_scaled,df_y_test)"
      ],
      "metadata": {
        "colab": {
          "base_uri": "https://localhost:8080/"
        },
        "id": "PV0seHiNfQWI",
        "outputId": "18e3715b-7ba0-4301-8748-a5503e3ffa56"
      },
      "execution_count": null,
      "outputs": [
        {
          "output_type": "execute_result",
          "data": {
            "text/plain": [
              "0.6593559908477036"
            ]
          },
          "metadata": {},
          "execution_count": 58
        }
      ]
    },
    {
      "cell_type": "code",
      "source": [
        "from sklearn.tree import DecisionTreeClassifier\n",
        "model = DecisionTreeClassifier()\n",
        "model.fit(x_train_scaled2, gen_y)"
      ],
      "metadata": {
        "colab": {
          "base_uri": "https://localhost:8080/"
        },
        "id": "iX9T_R-ZfQZS",
        "outputId": "2a1d0827-4f39-4186-8302-ef7847d8c985"
      },
      "execution_count": null,
      "outputs": [
        {
          "output_type": "execute_result",
          "data": {
            "text/plain": [
              "DecisionTreeClassifier()"
            ]
          },
          "metadata": {},
          "execution_count": 59
        }
      ]
    },
    {
      "cell_type": "code",
      "source": [
        "model.score(x_test_scaled2,df_y_test)"
      ],
      "metadata": {
        "colab": {
          "base_uri": "https://localhost:8080/"
        },
        "id": "7Bl6XO1Wfbuu",
        "outputId": "7ac03baf-6e6e-4e07-aa8d-7427be5c0e4d"
      },
      "execution_count": null,
      "outputs": [
        {
          "output_type": "execute_result",
          "data": {
            "text/plain": [
              "0.6633740722138513"
            ]
          },
          "metadata": {},
          "execution_count": 60
        }
      ]
    },
    {
      "cell_type": "code",
      "source": [],
      "metadata": {
        "id": "xcI1B9aQtheE"
      },
      "execution_count": null,
      "outputs": []
    },
    {
      "cell_type": "markdown",
      "source": [
        "**Model Building on Balanced data using GAN**"
      ],
      "metadata": {
        "id": "j2x9NwJXtiFB"
      }
    },
    {
      "cell_type": "code",
      "source": [
        "import pandas as pd\n",
        "import numpy as np\n",
        "\n",
        "data=pd.read_excel(\"sample_data/Pre_processed_data_2.xlsx\")"
      ],
      "metadata": {
        "id": "pPwZR6C3hMI-"
      },
      "execution_count": null,
      "outputs": []
    },
    {
      "cell_type": "code",
      "source": [
        "n = 1\n",
        "df2 = data.iloc[:,n:]"
      ],
      "metadata": {
        "id": "7vnJBlH9iHf7"
      },
      "execution_count": null,
      "outputs": []
    },
    {
      "cell_type": "code",
      "source": [
        "df2.head()"
      ],
      "metadata": {
        "colab": {
          "base_uri": "https://localhost:8080/",
          "height": 270
        },
        "id": "srZylJy-iRpU",
        "outputId": "97bc6807-9622-456c-aa1b-696442ff335a"
      },
      "execution_count": null,
      "outputs": [
        {
          "output_type": "execute_result",
          "data": {
            "text/plain": [
              "   Term  Home_Ownership  Purpose  Loan_Status  Current_Loan_Amount  \\\n",
              "0     1               1        5            0               445412   \n",
              "1     1               1        3            0               262328   \n",
              "2     1               2        3            0             99999999   \n",
              "3     0               2        3            0               347666   \n",
              "4     1               3        3            0               176220   \n",
              "\n",
              "   Credit_Score  Annual_Income  Years_in_current_job  Monthly_Debt  \\\n",
              "0           709        1167493                     8       5214.74   \n",
              "1           725        1169773                    10      33295.98   \n",
              "2           741        2231892                     8      29200.53   \n",
              "3           721         806949                     3       8741.90   \n",
              "4           725        1169773                     5      20639.70   \n",
              "\n",
              "   Years_of_Credit_History  Number_of_Open_Accounts  \\\n",
              "0                     17.2                        6   \n",
              "1                     21.1                       35   \n",
              "2                     14.9                       18   \n",
              "3                     12.0                        9   \n",
              "4                      6.1                       15   \n",
              "\n",
              "   Number_of_Credit_Problems  Current_Credit_Balance  Maximum_Open_Credit  \\\n",
              "0                          1                  228190               416746   \n",
              "1                          0                  229976               850784   \n",
              "2                          1                  297996               750090   \n",
              "3                          0                  256329               386958   \n",
              "4                          0                  253460               427174   \n",
              "\n",
              "   Bankruptcies  Tax_Liens  \n",
              "0             1          0  \n",
              "1             0          0  \n",
              "2             0          0  \n",
              "3             0          0  \n",
              "4             0          0  "
            ],
            "text/html": [
              "\n",
              "  <div id=\"df-7c2b5184-fb69-4a50-b418-71eb743ff808\">\n",
              "    <div class=\"colab-df-container\">\n",
              "      <div>\n",
              "<style scoped>\n",
              "    .dataframe tbody tr th:only-of-type {\n",
              "        vertical-align: middle;\n",
              "    }\n",
              "\n",
              "    .dataframe tbody tr th {\n",
              "        vertical-align: top;\n",
              "    }\n",
              "\n",
              "    .dataframe thead th {\n",
              "        text-align: right;\n",
              "    }\n",
              "</style>\n",
              "<table border=\"1\" class=\"dataframe\">\n",
              "  <thead>\n",
              "    <tr style=\"text-align: right;\">\n",
              "      <th></th>\n",
              "      <th>Term</th>\n",
              "      <th>Home_Ownership</th>\n",
              "      <th>Purpose</th>\n",
              "      <th>Loan_Status</th>\n",
              "      <th>Current_Loan_Amount</th>\n",
              "      <th>Credit_Score</th>\n",
              "      <th>Annual_Income</th>\n",
              "      <th>Years_in_current_job</th>\n",
              "      <th>Monthly_Debt</th>\n",
              "      <th>Years_of_Credit_History</th>\n",
              "      <th>Number_of_Open_Accounts</th>\n",
              "      <th>Number_of_Credit_Problems</th>\n",
              "      <th>Current_Credit_Balance</th>\n",
              "      <th>Maximum_Open_Credit</th>\n",
              "      <th>Bankruptcies</th>\n",
              "      <th>Tax_Liens</th>\n",
              "    </tr>\n",
              "  </thead>\n",
              "  <tbody>\n",
              "    <tr>\n",
              "      <th>0</th>\n",
              "      <td>1</td>\n",
              "      <td>1</td>\n",
              "      <td>5</td>\n",
              "      <td>0</td>\n",
              "      <td>445412</td>\n",
              "      <td>709</td>\n",
              "      <td>1167493</td>\n",
              "      <td>8</td>\n",
              "      <td>5214.74</td>\n",
              "      <td>17.2</td>\n",
              "      <td>6</td>\n",
              "      <td>1</td>\n",
              "      <td>228190</td>\n",
              "      <td>416746</td>\n",
              "      <td>1</td>\n",
              "      <td>0</td>\n",
              "    </tr>\n",
              "    <tr>\n",
              "      <th>1</th>\n",
              "      <td>1</td>\n",
              "      <td>1</td>\n",
              "      <td>3</td>\n",
              "      <td>0</td>\n",
              "      <td>262328</td>\n",
              "      <td>725</td>\n",
              "      <td>1169773</td>\n",
              "      <td>10</td>\n",
              "      <td>33295.98</td>\n",
              "      <td>21.1</td>\n",
              "      <td>35</td>\n",
              "      <td>0</td>\n",
              "      <td>229976</td>\n",
              "      <td>850784</td>\n",
              "      <td>0</td>\n",
              "      <td>0</td>\n",
              "    </tr>\n",
              "    <tr>\n",
              "      <th>2</th>\n",
              "      <td>1</td>\n",
              "      <td>2</td>\n",
              "      <td>3</td>\n",
              "      <td>0</td>\n",
              "      <td>99999999</td>\n",
              "      <td>741</td>\n",
              "      <td>2231892</td>\n",
              "      <td>8</td>\n",
              "      <td>29200.53</td>\n",
              "      <td>14.9</td>\n",
              "      <td>18</td>\n",
              "      <td>1</td>\n",
              "      <td>297996</td>\n",
              "      <td>750090</td>\n",
              "      <td>0</td>\n",
              "      <td>0</td>\n",
              "    </tr>\n",
              "    <tr>\n",
              "      <th>3</th>\n",
              "      <td>0</td>\n",
              "      <td>2</td>\n",
              "      <td>3</td>\n",
              "      <td>0</td>\n",
              "      <td>347666</td>\n",
              "      <td>721</td>\n",
              "      <td>806949</td>\n",
              "      <td>3</td>\n",
              "      <td>8741.90</td>\n",
              "      <td>12.0</td>\n",
              "      <td>9</td>\n",
              "      <td>0</td>\n",
              "      <td>256329</td>\n",
              "      <td>386958</td>\n",
              "      <td>0</td>\n",
              "      <td>0</td>\n",
              "    </tr>\n",
              "    <tr>\n",
              "      <th>4</th>\n",
              "      <td>1</td>\n",
              "      <td>3</td>\n",
              "      <td>3</td>\n",
              "      <td>0</td>\n",
              "      <td>176220</td>\n",
              "      <td>725</td>\n",
              "      <td>1169773</td>\n",
              "      <td>5</td>\n",
              "      <td>20639.70</td>\n",
              "      <td>6.1</td>\n",
              "      <td>15</td>\n",
              "      <td>0</td>\n",
              "      <td>253460</td>\n",
              "      <td>427174</td>\n",
              "      <td>0</td>\n",
              "      <td>0</td>\n",
              "    </tr>\n",
              "  </tbody>\n",
              "</table>\n",
              "</div>\n",
              "      <button class=\"colab-df-convert\" onclick=\"convertToInteractive('df-7c2b5184-fb69-4a50-b418-71eb743ff808')\"\n",
              "              title=\"Convert this dataframe to an interactive table.\"\n",
              "              style=\"display:none;\">\n",
              "        \n",
              "  <svg xmlns=\"http://www.w3.org/2000/svg\" height=\"24px\"viewBox=\"0 0 24 24\"\n",
              "       width=\"24px\">\n",
              "    <path d=\"M0 0h24v24H0V0z\" fill=\"none\"/>\n",
              "    <path d=\"M18.56 5.44l.94 2.06.94-2.06 2.06-.94-2.06-.94-.94-2.06-.94 2.06-2.06.94zm-11 1L8.5 8.5l.94-2.06 2.06-.94-2.06-.94L8.5 2.5l-.94 2.06-2.06.94zm10 10l.94 2.06.94-2.06 2.06-.94-2.06-.94-.94-2.06-.94 2.06-2.06.94z\"/><path d=\"M17.41 7.96l-1.37-1.37c-.4-.4-.92-.59-1.43-.59-.52 0-1.04.2-1.43.59L10.3 9.45l-7.72 7.72c-.78.78-.78 2.05 0 2.83L4 21.41c.39.39.9.59 1.41.59.51 0 1.02-.2 1.41-.59l7.78-7.78 2.81-2.81c.8-.78.8-2.07 0-2.86zM5.41 20L4 18.59l7.72-7.72 1.47 1.35L5.41 20z\"/>\n",
              "  </svg>\n",
              "      </button>\n",
              "      \n",
              "  <style>\n",
              "    .colab-df-container {\n",
              "      display:flex;\n",
              "      flex-wrap:wrap;\n",
              "      gap: 12px;\n",
              "    }\n",
              "\n",
              "    .colab-df-convert {\n",
              "      background-color: #E8F0FE;\n",
              "      border: none;\n",
              "      border-radius: 50%;\n",
              "      cursor: pointer;\n",
              "      display: none;\n",
              "      fill: #1967D2;\n",
              "      height: 32px;\n",
              "      padding: 0 0 0 0;\n",
              "      width: 32px;\n",
              "    }\n",
              "\n",
              "    .colab-df-convert:hover {\n",
              "      background-color: #E2EBFA;\n",
              "      box-shadow: 0px 1px 2px rgba(60, 64, 67, 0.3), 0px 1px 3px 1px rgba(60, 64, 67, 0.15);\n",
              "      fill: #174EA6;\n",
              "    }\n",
              "\n",
              "    [theme=dark] .colab-df-convert {\n",
              "      background-color: #3B4455;\n",
              "      fill: #D2E3FC;\n",
              "    }\n",
              "\n",
              "    [theme=dark] .colab-df-convert:hover {\n",
              "      background-color: #434B5C;\n",
              "      box-shadow: 0px 1px 3px 1px rgba(0, 0, 0, 0.15);\n",
              "      filter: drop-shadow(0px 1px 2px rgba(0, 0, 0, 0.3));\n",
              "      fill: #FFFFFF;\n",
              "    }\n",
              "  </style>\n",
              "\n",
              "      <script>\n",
              "        const buttonEl =\n",
              "          document.querySelector('#df-7c2b5184-fb69-4a50-b418-71eb743ff808 button.colab-df-convert');\n",
              "        buttonEl.style.display =\n",
              "          google.colab.kernel.accessAllowed ? 'block' : 'none';\n",
              "\n",
              "        async function convertToInteractive(key) {\n",
              "          const element = document.querySelector('#df-7c2b5184-fb69-4a50-b418-71eb743ff808');\n",
              "          const dataTable =\n",
              "            await google.colab.kernel.invokeFunction('convertToInteractive',\n",
              "                                                     [key], {});\n",
              "          if (!dataTable) return;\n",
              "\n",
              "          const docLinkHtml = 'Like what you see? Visit the ' +\n",
              "            '<a target=\"_blank\" href=https://colab.research.google.com/notebooks/data_table.ipynb>data table notebook</a>'\n",
              "            + ' to learn more about interactive tables.';\n",
              "          element.innerHTML = '';\n",
              "          dataTable['output_type'] = 'display_data';\n",
              "          await google.colab.output.renderOutput(dataTable, element);\n",
              "          const docLink = document.createElement('div');\n",
              "          docLink.innerHTML = docLinkHtml;\n",
              "          element.appendChild(docLink);\n",
              "        }\n",
              "      </script>\n",
              "    </div>\n",
              "  </div>\n",
              "  "
            ]
          },
          "metadata": {},
          "execution_count": 4
        }
      ]
    },
    {
      "cell_type": "code",
      "source": [
        "gen=pd.read_excel(\"sample_data/synthetic_data_2.xlsx\")"
      ],
      "metadata": {
        "id": "e3gOyOhRio8y"
      },
      "execution_count": null,
      "outputs": []
    },
    {
      "cell_type": "code",
      "source": [
        "gen.head()"
      ],
      "metadata": {
        "colab": {
          "base_uri": "https://localhost:8080/",
          "height": 288
        },
        "id": "g_UjeF65jDTJ",
        "outputId": "202e7a86-c5a3-47ed-a023-b5517456f400"
      },
      "execution_count": null,
      "outputs": [
        {
          "output_type": "execute_result",
          "data": {
            "text/plain": [
              "   Unnamed: 0  Term  Home_Ownership  Purpose  Current_Loan_Amount  \\\n",
              "0           0     0               0        0               830042   \n",
              "1           1     0               0        0             97372479   \n",
              "2           2     0               0        1              1186323   \n",
              "3           3     0               0        1              1106680   \n",
              "4           4     0               0        0             99717649   \n",
              "\n",
              "   Credit_Score  Annual_Income  Years_in_current_job  Monthly_Debt  \\\n",
              "0           739        1242508                     4  12422.165547   \n",
              "1           666        1186090                     2   6768.912635   \n",
              "2           724        4616597                     3  19952.868038   \n",
              "3           717        2274956                     2  27087.417353   \n",
              "4           718        1666048                     6  17452.789650   \n",
              "\n",
              "   Years_of_Credit_History  Number_of_Open_Accounts  \\\n",
              "0                12.114260                       19   \n",
              "1                21.849958                       11   \n",
              "2                35.072929                        7   \n",
              "3                23.046619                       16   \n",
              "4                23.798478                        9   \n",
              "\n",
              "   Number_of_Credit_Problems  Current_Credit_Balance  Maximum_Open_Credit  \\\n",
              "0                          0                 1924679               683242   \n",
              "1                          0                 2494065               391314   \n",
              "2                          0                 2590968               171356   \n",
              "3                          0                 1652974               171383   \n",
              "4                          0                 2189639               474212   \n",
              "\n",
              "   Bankruptcies  Tax_Liens  Loan_Status  \n",
              "0             0          1            1  \n",
              "1             0          1            1  \n",
              "2             1          1            1  \n",
              "3             0          1            0  \n",
              "4             0          1            0  "
            ],
            "text/html": [
              "\n",
              "  <div id=\"df-9e1d53b9-72ad-409a-91c2-88a97e813bd0\">\n",
              "    <div class=\"colab-df-container\">\n",
              "      <div>\n",
              "<style scoped>\n",
              "    .dataframe tbody tr th:only-of-type {\n",
              "        vertical-align: middle;\n",
              "    }\n",
              "\n",
              "    .dataframe tbody tr th {\n",
              "        vertical-align: top;\n",
              "    }\n",
              "\n",
              "    .dataframe thead th {\n",
              "        text-align: right;\n",
              "    }\n",
              "</style>\n",
              "<table border=\"1\" class=\"dataframe\">\n",
              "  <thead>\n",
              "    <tr style=\"text-align: right;\">\n",
              "      <th></th>\n",
              "      <th>Unnamed: 0</th>\n",
              "      <th>Term</th>\n",
              "      <th>Home_Ownership</th>\n",
              "      <th>Purpose</th>\n",
              "      <th>Current_Loan_Amount</th>\n",
              "      <th>Credit_Score</th>\n",
              "      <th>Annual_Income</th>\n",
              "      <th>Years_in_current_job</th>\n",
              "      <th>Monthly_Debt</th>\n",
              "      <th>Years_of_Credit_History</th>\n",
              "      <th>Number_of_Open_Accounts</th>\n",
              "      <th>Number_of_Credit_Problems</th>\n",
              "      <th>Current_Credit_Balance</th>\n",
              "      <th>Maximum_Open_Credit</th>\n",
              "      <th>Bankruptcies</th>\n",
              "      <th>Tax_Liens</th>\n",
              "      <th>Loan_Status</th>\n",
              "    </tr>\n",
              "  </thead>\n",
              "  <tbody>\n",
              "    <tr>\n",
              "      <th>0</th>\n",
              "      <td>0</td>\n",
              "      <td>0</td>\n",
              "      <td>0</td>\n",
              "      <td>0</td>\n",
              "      <td>830042</td>\n",
              "      <td>739</td>\n",
              "      <td>1242508</td>\n",
              "      <td>4</td>\n",
              "      <td>12422.165547</td>\n",
              "      <td>12.114260</td>\n",
              "      <td>19</td>\n",
              "      <td>0</td>\n",
              "      <td>1924679</td>\n",
              "      <td>683242</td>\n",
              "      <td>0</td>\n",
              "      <td>1</td>\n",
              "      <td>1</td>\n",
              "    </tr>\n",
              "    <tr>\n",
              "      <th>1</th>\n",
              "      <td>1</td>\n",
              "      <td>0</td>\n",
              "      <td>0</td>\n",
              "      <td>0</td>\n",
              "      <td>97372479</td>\n",
              "      <td>666</td>\n",
              "      <td>1186090</td>\n",
              "      <td>2</td>\n",
              "      <td>6768.912635</td>\n",
              "      <td>21.849958</td>\n",
              "      <td>11</td>\n",
              "      <td>0</td>\n",
              "      <td>2494065</td>\n",
              "      <td>391314</td>\n",
              "      <td>0</td>\n",
              "      <td>1</td>\n",
              "      <td>1</td>\n",
              "    </tr>\n",
              "    <tr>\n",
              "      <th>2</th>\n",
              "      <td>2</td>\n",
              "      <td>0</td>\n",
              "      <td>0</td>\n",
              "      <td>1</td>\n",
              "      <td>1186323</td>\n",
              "      <td>724</td>\n",
              "      <td>4616597</td>\n",
              "      <td>3</td>\n",
              "      <td>19952.868038</td>\n",
              "      <td>35.072929</td>\n",
              "      <td>7</td>\n",
              "      <td>0</td>\n",
              "      <td>2590968</td>\n",
              "      <td>171356</td>\n",
              "      <td>1</td>\n",
              "      <td>1</td>\n",
              "      <td>1</td>\n",
              "    </tr>\n",
              "    <tr>\n",
              "      <th>3</th>\n",
              "      <td>3</td>\n",
              "      <td>0</td>\n",
              "      <td>0</td>\n",
              "      <td>1</td>\n",
              "      <td>1106680</td>\n",
              "      <td>717</td>\n",
              "      <td>2274956</td>\n",
              "      <td>2</td>\n",
              "      <td>27087.417353</td>\n",
              "      <td>23.046619</td>\n",
              "      <td>16</td>\n",
              "      <td>0</td>\n",
              "      <td>1652974</td>\n",
              "      <td>171383</td>\n",
              "      <td>0</td>\n",
              "      <td>1</td>\n",
              "      <td>0</td>\n",
              "    </tr>\n",
              "    <tr>\n",
              "      <th>4</th>\n",
              "      <td>4</td>\n",
              "      <td>0</td>\n",
              "      <td>0</td>\n",
              "      <td>0</td>\n",
              "      <td>99717649</td>\n",
              "      <td>718</td>\n",
              "      <td>1666048</td>\n",
              "      <td>6</td>\n",
              "      <td>17452.789650</td>\n",
              "      <td>23.798478</td>\n",
              "      <td>9</td>\n",
              "      <td>0</td>\n",
              "      <td>2189639</td>\n",
              "      <td>474212</td>\n",
              "      <td>0</td>\n",
              "      <td>1</td>\n",
              "      <td>0</td>\n",
              "    </tr>\n",
              "  </tbody>\n",
              "</table>\n",
              "</div>\n",
              "      <button class=\"colab-df-convert\" onclick=\"convertToInteractive('df-9e1d53b9-72ad-409a-91c2-88a97e813bd0')\"\n",
              "              title=\"Convert this dataframe to an interactive table.\"\n",
              "              style=\"display:none;\">\n",
              "        \n",
              "  <svg xmlns=\"http://www.w3.org/2000/svg\" height=\"24px\"viewBox=\"0 0 24 24\"\n",
              "       width=\"24px\">\n",
              "    <path d=\"M0 0h24v24H0V0z\" fill=\"none\"/>\n",
              "    <path d=\"M18.56 5.44l.94 2.06.94-2.06 2.06-.94-2.06-.94-.94-2.06-.94 2.06-2.06.94zm-11 1L8.5 8.5l.94-2.06 2.06-.94-2.06-.94L8.5 2.5l-.94 2.06-2.06.94zm10 10l.94 2.06.94-2.06 2.06-.94-2.06-.94-.94-2.06-.94 2.06-2.06.94z\"/><path d=\"M17.41 7.96l-1.37-1.37c-.4-.4-.92-.59-1.43-.59-.52 0-1.04.2-1.43.59L10.3 9.45l-7.72 7.72c-.78.78-.78 2.05 0 2.83L4 21.41c.39.39.9.59 1.41.59.51 0 1.02-.2 1.41-.59l7.78-7.78 2.81-2.81c.8-.78.8-2.07 0-2.86zM5.41 20L4 18.59l7.72-7.72 1.47 1.35L5.41 20z\"/>\n",
              "  </svg>\n",
              "      </button>\n",
              "      \n",
              "  <style>\n",
              "    .colab-df-container {\n",
              "      display:flex;\n",
              "      flex-wrap:wrap;\n",
              "      gap: 12px;\n",
              "    }\n",
              "\n",
              "    .colab-df-convert {\n",
              "      background-color: #E8F0FE;\n",
              "      border: none;\n",
              "      border-radius: 50%;\n",
              "      cursor: pointer;\n",
              "      display: none;\n",
              "      fill: #1967D2;\n",
              "      height: 32px;\n",
              "      padding: 0 0 0 0;\n",
              "      width: 32px;\n",
              "    }\n",
              "\n",
              "    .colab-df-convert:hover {\n",
              "      background-color: #E2EBFA;\n",
              "      box-shadow: 0px 1px 2px rgba(60, 64, 67, 0.3), 0px 1px 3px 1px rgba(60, 64, 67, 0.15);\n",
              "      fill: #174EA6;\n",
              "    }\n",
              "\n",
              "    [theme=dark] .colab-df-convert {\n",
              "      background-color: #3B4455;\n",
              "      fill: #D2E3FC;\n",
              "    }\n",
              "\n",
              "    [theme=dark] .colab-df-convert:hover {\n",
              "      background-color: #434B5C;\n",
              "      box-shadow: 0px 1px 3px 1px rgba(0, 0, 0, 0.15);\n",
              "      filter: drop-shadow(0px 1px 2px rgba(0, 0, 0, 0.3));\n",
              "      fill: #FFFFFF;\n",
              "    }\n",
              "  </style>\n",
              "\n",
              "      <script>\n",
              "        const buttonEl =\n",
              "          document.querySelector('#df-9e1d53b9-72ad-409a-91c2-88a97e813bd0 button.colab-df-convert');\n",
              "        buttonEl.style.display =\n",
              "          google.colab.kernel.accessAllowed ? 'block' : 'none';\n",
              "\n",
              "        async function convertToInteractive(key) {\n",
              "          const element = document.querySelector('#df-9e1d53b9-72ad-409a-91c2-88a97e813bd0');\n",
              "          const dataTable =\n",
              "            await google.colab.kernel.invokeFunction('convertToInteractive',\n",
              "                                                     [key], {});\n",
              "          if (!dataTable) return;\n",
              "\n",
              "          const docLinkHtml = 'Like what you see? Visit the ' +\n",
              "            '<a target=\"_blank\" href=https://colab.research.google.com/notebooks/data_table.ipynb>data table notebook</a>'\n",
              "            + ' to learn more about interactive tables.';\n",
              "          element.innerHTML = '';\n",
              "          dataTable['output_type'] = 'display_data';\n",
              "          await google.colab.output.renderOutput(dataTable, element);\n",
              "          const docLink = document.createElement('div');\n",
              "          docLink.innerHTML = docLinkHtml;\n",
              "          element.appendChild(docLink);\n",
              "        }\n",
              "      </script>\n",
              "    </div>\n",
              "  </div>\n",
              "  "
            ]
          },
          "metadata": {},
          "execution_count": 6
        }
      ]
    },
    {
      "cell_type": "code",
      "source": [
        "gen=gen.iloc[:,n:]"
      ],
      "metadata": {
        "id": "lxteRbMRjK-n"
      },
      "execution_count": null,
      "outputs": []
    },
    {
      "cell_type": "code",
      "source": [
        "gen.head()"
      ],
      "metadata": {
        "colab": {
          "base_uri": "https://localhost:8080/",
          "height": 270
        },
        "id": "cj9s9-GZjgNE",
        "outputId": "2c6d39ba-b2b9-4d27-f953-ad2494acbde1"
      },
      "execution_count": null,
      "outputs": [
        {
          "output_type": "execute_result",
          "data": {
            "text/plain": [
              "   Term  Home_Ownership  Purpose  Current_Loan_Amount  Credit_Score  \\\n",
              "0     0               0        0               830042           739   \n",
              "1     0               0        0             97372479           666   \n",
              "2     0               0        1              1186323           724   \n",
              "3     0               0        1              1106680           717   \n",
              "4     0               0        0             99717649           718   \n",
              "\n",
              "   Annual_Income  Years_in_current_job  Monthly_Debt  Years_of_Credit_History  \\\n",
              "0        1242508                     4  12422.165547                12.114260   \n",
              "1        1186090                     2   6768.912635                21.849958   \n",
              "2        4616597                     3  19952.868038                35.072929   \n",
              "3        2274956                     2  27087.417353                23.046619   \n",
              "4        1666048                     6  17452.789650                23.798478   \n",
              "\n",
              "   Number_of_Open_Accounts  Number_of_Credit_Problems  Current_Credit_Balance  \\\n",
              "0                       19                          0                 1924679   \n",
              "1                       11                          0                 2494065   \n",
              "2                        7                          0                 2590968   \n",
              "3                       16                          0                 1652974   \n",
              "4                        9                          0                 2189639   \n",
              "\n",
              "   Maximum_Open_Credit  Bankruptcies  Tax_Liens  Loan_Status  \n",
              "0               683242             0          1            1  \n",
              "1               391314             0          1            1  \n",
              "2               171356             1          1            1  \n",
              "3               171383             0          1            0  \n",
              "4               474212             0          1            0  "
            ],
            "text/html": [
              "\n",
              "  <div id=\"df-e0fb6ea9-a6c2-4fbb-859c-ab51b73a753a\">\n",
              "    <div class=\"colab-df-container\">\n",
              "      <div>\n",
              "<style scoped>\n",
              "    .dataframe tbody tr th:only-of-type {\n",
              "        vertical-align: middle;\n",
              "    }\n",
              "\n",
              "    .dataframe tbody tr th {\n",
              "        vertical-align: top;\n",
              "    }\n",
              "\n",
              "    .dataframe thead th {\n",
              "        text-align: right;\n",
              "    }\n",
              "</style>\n",
              "<table border=\"1\" class=\"dataframe\">\n",
              "  <thead>\n",
              "    <tr style=\"text-align: right;\">\n",
              "      <th></th>\n",
              "      <th>Term</th>\n",
              "      <th>Home_Ownership</th>\n",
              "      <th>Purpose</th>\n",
              "      <th>Current_Loan_Amount</th>\n",
              "      <th>Credit_Score</th>\n",
              "      <th>Annual_Income</th>\n",
              "      <th>Years_in_current_job</th>\n",
              "      <th>Monthly_Debt</th>\n",
              "      <th>Years_of_Credit_History</th>\n",
              "      <th>Number_of_Open_Accounts</th>\n",
              "      <th>Number_of_Credit_Problems</th>\n",
              "      <th>Current_Credit_Balance</th>\n",
              "      <th>Maximum_Open_Credit</th>\n",
              "      <th>Bankruptcies</th>\n",
              "      <th>Tax_Liens</th>\n",
              "      <th>Loan_Status</th>\n",
              "    </tr>\n",
              "  </thead>\n",
              "  <tbody>\n",
              "    <tr>\n",
              "      <th>0</th>\n",
              "      <td>0</td>\n",
              "      <td>0</td>\n",
              "      <td>0</td>\n",
              "      <td>830042</td>\n",
              "      <td>739</td>\n",
              "      <td>1242508</td>\n",
              "      <td>4</td>\n",
              "      <td>12422.165547</td>\n",
              "      <td>12.114260</td>\n",
              "      <td>19</td>\n",
              "      <td>0</td>\n",
              "      <td>1924679</td>\n",
              "      <td>683242</td>\n",
              "      <td>0</td>\n",
              "      <td>1</td>\n",
              "      <td>1</td>\n",
              "    </tr>\n",
              "    <tr>\n",
              "      <th>1</th>\n",
              "      <td>0</td>\n",
              "      <td>0</td>\n",
              "      <td>0</td>\n",
              "      <td>97372479</td>\n",
              "      <td>666</td>\n",
              "      <td>1186090</td>\n",
              "      <td>2</td>\n",
              "      <td>6768.912635</td>\n",
              "      <td>21.849958</td>\n",
              "      <td>11</td>\n",
              "      <td>0</td>\n",
              "      <td>2494065</td>\n",
              "      <td>391314</td>\n",
              "      <td>0</td>\n",
              "      <td>1</td>\n",
              "      <td>1</td>\n",
              "    </tr>\n",
              "    <tr>\n",
              "      <th>2</th>\n",
              "      <td>0</td>\n",
              "      <td>0</td>\n",
              "      <td>1</td>\n",
              "      <td>1186323</td>\n",
              "      <td>724</td>\n",
              "      <td>4616597</td>\n",
              "      <td>3</td>\n",
              "      <td>19952.868038</td>\n",
              "      <td>35.072929</td>\n",
              "      <td>7</td>\n",
              "      <td>0</td>\n",
              "      <td>2590968</td>\n",
              "      <td>171356</td>\n",
              "      <td>1</td>\n",
              "      <td>1</td>\n",
              "      <td>1</td>\n",
              "    </tr>\n",
              "    <tr>\n",
              "      <th>3</th>\n",
              "      <td>0</td>\n",
              "      <td>0</td>\n",
              "      <td>1</td>\n",
              "      <td>1106680</td>\n",
              "      <td>717</td>\n",
              "      <td>2274956</td>\n",
              "      <td>2</td>\n",
              "      <td>27087.417353</td>\n",
              "      <td>23.046619</td>\n",
              "      <td>16</td>\n",
              "      <td>0</td>\n",
              "      <td>1652974</td>\n",
              "      <td>171383</td>\n",
              "      <td>0</td>\n",
              "      <td>1</td>\n",
              "      <td>0</td>\n",
              "    </tr>\n",
              "    <tr>\n",
              "      <th>4</th>\n",
              "      <td>0</td>\n",
              "      <td>0</td>\n",
              "      <td>0</td>\n",
              "      <td>99717649</td>\n",
              "      <td>718</td>\n",
              "      <td>1666048</td>\n",
              "      <td>6</td>\n",
              "      <td>17452.789650</td>\n",
              "      <td>23.798478</td>\n",
              "      <td>9</td>\n",
              "      <td>0</td>\n",
              "      <td>2189639</td>\n",
              "      <td>474212</td>\n",
              "      <td>0</td>\n",
              "      <td>1</td>\n",
              "      <td>0</td>\n",
              "    </tr>\n",
              "  </tbody>\n",
              "</table>\n",
              "</div>\n",
              "      <button class=\"colab-df-convert\" onclick=\"convertToInteractive('df-e0fb6ea9-a6c2-4fbb-859c-ab51b73a753a')\"\n",
              "              title=\"Convert this dataframe to an interactive table.\"\n",
              "              style=\"display:none;\">\n",
              "        \n",
              "  <svg xmlns=\"http://www.w3.org/2000/svg\" height=\"24px\"viewBox=\"0 0 24 24\"\n",
              "       width=\"24px\">\n",
              "    <path d=\"M0 0h24v24H0V0z\" fill=\"none\"/>\n",
              "    <path d=\"M18.56 5.44l.94 2.06.94-2.06 2.06-.94-2.06-.94-.94-2.06-.94 2.06-2.06.94zm-11 1L8.5 8.5l.94-2.06 2.06-.94-2.06-.94L8.5 2.5l-.94 2.06-2.06.94zm10 10l.94 2.06.94-2.06 2.06-.94-2.06-.94-.94-2.06-.94 2.06-2.06.94z\"/><path d=\"M17.41 7.96l-1.37-1.37c-.4-.4-.92-.59-1.43-.59-.52 0-1.04.2-1.43.59L10.3 9.45l-7.72 7.72c-.78.78-.78 2.05 0 2.83L4 21.41c.39.39.9.59 1.41.59.51 0 1.02-.2 1.41-.59l7.78-7.78 2.81-2.81c.8-.78.8-2.07 0-2.86zM5.41 20L4 18.59l7.72-7.72 1.47 1.35L5.41 20z\"/>\n",
              "  </svg>\n",
              "      </button>\n",
              "      \n",
              "  <style>\n",
              "    .colab-df-container {\n",
              "      display:flex;\n",
              "      flex-wrap:wrap;\n",
              "      gap: 12px;\n",
              "    }\n",
              "\n",
              "    .colab-df-convert {\n",
              "      background-color: #E8F0FE;\n",
              "      border: none;\n",
              "      border-radius: 50%;\n",
              "      cursor: pointer;\n",
              "      display: none;\n",
              "      fill: #1967D2;\n",
              "      height: 32px;\n",
              "      padding: 0 0 0 0;\n",
              "      width: 32px;\n",
              "    }\n",
              "\n",
              "    .colab-df-convert:hover {\n",
              "      background-color: #E2EBFA;\n",
              "      box-shadow: 0px 1px 2px rgba(60, 64, 67, 0.3), 0px 1px 3px 1px rgba(60, 64, 67, 0.15);\n",
              "      fill: #174EA6;\n",
              "    }\n",
              "\n",
              "    [theme=dark] .colab-df-convert {\n",
              "      background-color: #3B4455;\n",
              "      fill: #D2E3FC;\n",
              "    }\n",
              "\n",
              "    [theme=dark] .colab-df-convert:hover {\n",
              "      background-color: #434B5C;\n",
              "      box-shadow: 0px 1px 3px 1px rgba(0, 0, 0, 0.15);\n",
              "      filter: drop-shadow(0px 1px 2px rgba(0, 0, 0, 0.3));\n",
              "      fill: #FFFFFF;\n",
              "    }\n",
              "  </style>\n",
              "\n",
              "      <script>\n",
              "        const buttonEl =\n",
              "          document.querySelector('#df-e0fb6ea9-a6c2-4fbb-859c-ab51b73a753a button.colab-df-convert');\n",
              "        buttonEl.style.display =\n",
              "          google.colab.kernel.accessAllowed ? 'block' : 'none';\n",
              "\n",
              "        async function convertToInteractive(key) {\n",
              "          const element = document.querySelector('#df-e0fb6ea9-a6c2-4fbb-859c-ab51b73a753a');\n",
              "          const dataTable =\n",
              "            await google.colab.kernel.invokeFunction('convertToInteractive',\n",
              "                                                     [key], {});\n",
              "          if (!dataTable) return;\n",
              "\n",
              "          const docLinkHtml = 'Like what you see? Visit the ' +\n",
              "            '<a target=\"_blank\" href=https://colab.research.google.com/notebooks/data_table.ipynb>data table notebook</a>'\n",
              "            + ' to learn more about interactive tables.';\n",
              "          element.innerHTML = '';\n",
              "          dataTable['output_type'] = 'display_data';\n",
              "          await google.colab.output.renderOutput(dataTable, element);\n",
              "          const docLink = document.createElement('div');\n",
              "          docLink.innerHTML = docLinkHtml;\n",
              "          element.appendChild(docLink);\n",
              "        }\n",
              "      </script>\n",
              "    </div>\n",
              "  </div>\n",
              "  "
            ]
          },
          "metadata": {},
          "execution_count": 8
        }
      ]
    },
    {
      "cell_type": "code",
      "source": [
        "gen_default= gen[gen['Loan_Status']==1]"
      ],
      "metadata": {
        "id": "PNCkNZ3Hjq4o"
      },
      "execution_count": null,
      "outputs": []
    },
    {
      "cell_type": "code",
      "source": [
        "gen_default"
      ],
      "metadata": {
        "colab": {
          "base_uri": "https://localhost:8080/",
          "height": 488
        },
        "id": "4pO-DaIfmqeY",
        "outputId": "6cb5fc50-889a-4581-8e18-93c41b40c364"
      },
      "execution_count": null,
      "outputs": [
        {
          "output_type": "execute_result",
          "data": {
            "text/plain": [
              "       Term  Home_Ownership  Purpose  Current_Loan_Amount  Credit_Score  \\\n",
              "0         0               0        0               830042           739   \n",
              "1         0               0        0             97372479           666   \n",
              "2         0               0        1              1186323           724   \n",
              "5         0               0        0             97567882           695   \n",
              "6         0               0        0             96315880           724   \n",
              "...     ...             ...      ...                  ...           ...   \n",
              "98646     1               3        3                81224           713   \n",
              "98650     1               3        3               266464           725   \n",
              "98656     1               1        3               272294           725   \n",
              "98657     1               3        3               109692           735   \n",
              "98658     1               2        3               222948           730   \n",
              "\n",
              "       Annual_Income  Years_in_current_job  Monthly_Debt  \\\n",
              "0            1242508                     4  12422.165547   \n",
              "1            1186090                     2   6768.912635   \n",
              "2            4616597                     3  19952.868038   \n",
              "5            1513124                     1  16755.366217   \n",
              "6            1749853                     5  24550.912379   \n",
              "...              ...                   ...           ...   \n",
              "98646        1592485                     1   6582.360000   \n",
              "98650        1169773                    10   7059.450000   \n",
              "98656        1169773                     5   6140.800000   \n",
              "98657         625252                     5   5679.290000   \n",
              "98658         577638                     6   5198.780000   \n",
              "\n",
              "       Years_of_Credit_History  Number_of_Open_Accounts  \\\n",
              "0                    12.114260                       19   \n",
              "1                    21.849958                       11   \n",
              "2                    35.072929                        7   \n",
              "5                    14.249233                        6   \n",
              "6                     9.660603                        7   \n",
              "...                        ...                      ...   \n",
              "98646                21.900000                        4   \n",
              "98650                10.100000                        5   \n",
              "98656                11.100000                        7   \n",
              "98657                17.400000                        9   \n",
              "98658                20.800000                        2   \n",
              "\n",
              "       Number_of_Credit_Problems  Current_Credit_Balance  Maximum_Open_Credit  \\\n",
              "0                              0                 1924679               683242   \n",
              "1                              0                 2494065               391314   \n",
              "2                              0                 2590968               171356   \n",
              "5                              0                 1280143               210487   \n",
              "6                              0                 1791421               373820   \n",
              "...                          ...                     ...                  ...   \n",
              "98646                          0                   42807                76846   \n",
              "98650                          0                  203452               244354   \n",
              "98656                          0                  275709               454102   \n",
              "98657                          0                   99180               256916   \n",
              "98658                          0                  134615               160512   \n",
              "\n",
              "       Bankruptcies  Tax_Liens  Loan_Status  \n",
              "0                 0          1            1  \n",
              "1                 0          1            1  \n",
              "2                 1          1            1  \n",
              "5                 0          1            1  \n",
              "6                 0          1            1  \n",
              "...             ...        ...          ...  \n",
              "98646             0          0            1  \n",
              "98650             0          0            1  \n",
              "98656             0          0            1  \n",
              "98657             0          0            1  \n",
              "98658             0          0            1  \n",
              "\n",
              "[24467 rows x 16 columns]"
            ],
            "text/html": [
              "\n",
              "  <div id=\"df-d47235ab-53a6-4c86-8b8a-2d2889fe384c\">\n",
              "    <div class=\"colab-df-container\">\n",
              "      <div>\n",
              "<style scoped>\n",
              "    .dataframe tbody tr th:only-of-type {\n",
              "        vertical-align: middle;\n",
              "    }\n",
              "\n",
              "    .dataframe tbody tr th {\n",
              "        vertical-align: top;\n",
              "    }\n",
              "\n",
              "    .dataframe thead th {\n",
              "        text-align: right;\n",
              "    }\n",
              "</style>\n",
              "<table border=\"1\" class=\"dataframe\">\n",
              "  <thead>\n",
              "    <tr style=\"text-align: right;\">\n",
              "      <th></th>\n",
              "      <th>Term</th>\n",
              "      <th>Home_Ownership</th>\n",
              "      <th>Purpose</th>\n",
              "      <th>Current_Loan_Amount</th>\n",
              "      <th>Credit_Score</th>\n",
              "      <th>Annual_Income</th>\n",
              "      <th>Years_in_current_job</th>\n",
              "      <th>Monthly_Debt</th>\n",
              "      <th>Years_of_Credit_History</th>\n",
              "      <th>Number_of_Open_Accounts</th>\n",
              "      <th>Number_of_Credit_Problems</th>\n",
              "      <th>Current_Credit_Balance</th>\n",
              "      <th>Maximum_Open_Credit</th>\n",
              "      <th>Bankruptcies</th>\n",
              "      <th>Tax_Liens</th>\n",
              "      <th>Loan_Status</th>\n",
              "    </tr>\n",
              "  </thead>\n",
              "  <tbody>\n",
              "    <tr>\n",
              "      <th>0</th>\n",
              "      <td>0</td>\n",
              "      <td>0</td>\n",
              "      <td>0</td>\n",
              "      <td>830042</td>\n",
              "      <td>739</td>\n",
              "      <td>1242508</td>\n",
              "      <td>4</td>\n",
              "      <td>12422.165547</td>\n",
              "      <td>12.114260</td>\n",
              "      <td>19</td>\n",
              "      <td>0</td>\n",
              "      <td>1924679</td>\n",
              "      <td>683242</td>\n",
              "      <td>0</td>\n",
              "      <td>1</td>\n",
              "      <td>1</td>\n",
              "    </tr>\n",
              "    <tr>\n",
              "      <th>1</th>\n",
              "      <td>0</td>\n",
              "      <td>0</td>\n",
              "      <td>0</td>\n",
              "      <td>97372479</td>\n",
              "      <td>666</td>\n",
              "      <td>1186090</td>\n",
              "      <td>2</td>\n",
              "      <td>6768.912635</td>\n",
              "      <td>21.849958</td>\n",
              "      <td>11</td>\n",
              "      <td>0</td>\n",
              "      <td>2494065</td>\n",
              "      <td>391314</td>\n",
              "      <td>0</td>\n",
              "      <td>1</td>\n",
              "      <td>1</td>\n",
              "    </tr>\n",
              "    <tr>\n",
              "      <th>2</th>\n",
              "      <td>0</td>\n",
              "      <td>0</td>\n",
              "      <td>1</td>\n",
              "      <td>1186323</td>\n",
              "      <td>724</td>\n",
              "      <td>4616597</td>\n",
              "      <td>3</td>\n",
              "      <td>19952.868038</td>\n",
              "      <td>35.072929</td>\n",
              "      <td>7</td>\n",
              "      <td>0</td>\n",
              "      <td>2590968</td>\n",
              "      <td>171356</td>\n",
              "      <td>1</td>\n",
              "      <td>1</td>\n",
              "      <td>1</td>\n",
              "    </tr>\n",
              "    <tr>\n",
              "      <th>5</th>\n",
              "      <td>0</td>\n",
              "      <td>0</td>\n",
              "      <td>0</td>\n",
              "      <td>97567882</td>\n",
              "      <td>695</td>\n",
              "      <td>1513124</td>\n",
              "      <td>1</td>\n",
              "      <td>16755.366217</td>\n",
              "      <td>14.249233</td>\n",
              "      <td>6</td>\n",
              "      <td>0</td>\n",
              "      <td>1280143</td>\n",
              "      <td>210487</td>\n",
              "      <td>0</td>\n",
              "      <td>1</td>\n",
              "      <td>1</td>\n",
              "    </tr>\n",
              "    <tr>\n",
              "      <th>6</th>\n",
              "      <td>0</td>\n",
              "      <td>0</td>\n",
              "      <td>0</td>\n",
              "      <td>96315880</td>\n",
              "      <td>724</td>\n",
              "      <td>1749853</td>\n",
              "      <td>5</td>\n",
              "      <td>24550.912379</td>\n",
              "      <td>9.660603</td>\n",
              "      <td>7</td>\n",
              "      <td>0</td>\n",
              "      <td>1791421</td>\n",
              "      <td>373820</td>\n",
              "      <td>0</td>\n",
              "      <td>1</td>\n",
              "      <td>1</td>\n",
              "    </tr>\n",
              "    <tr>\n",
              "      <th>...</th>\n",
              "      <td>...</td>\n",
              "      <td>...</td>\n",
              "      <td>...</td>\n",
              "      <td>...</td>\n",
              "      <td>...</td>\n",
              "      <td>...</td>\n",
              "      <td>...</td>\n",
              "      <td>...</td>\n",
              "      <td>...</td>\n",
              "      <td>...</td>\n",
              "      <td>...</td>\n",
              "      <td>...</td>\n",
              "      <td>...</td>\n",
              "      <td>...</td>\n",
              "      <td>...</td>\n",
              "      <td>...</td>\n",
              "    </tr>\n",
              "    <tr>\n",
              "      <th>98646</th>\n",
              "      <td>1</td>\n",
              "      <td>3</td>\n",
              "      <td>3</td>\n",
              "      <td>81224</td>\n",
              "      <td>713</td>\n",
              "      <td>1592485</td>\n",
              "      <td>1</td>\n",
              "      <td>6582.360000</td>\n",
              "      <td>21.900000</td>\n",
              "      <td>4</td>\n",
              "      <td>0</td>\n",
              "      <td>42807</td>\n",
              "      <td>76846</td>\n",
              "      <td>0</td>\n",
              "      <td>0</td>\n",
              "      <td>1</td>\n",
              "    </tr>\n",
              "    <tr>\n",
              "      <th>98650</th>\n",
              "      <td>1</td>\n",
              "      <td>3</td>\n",
              "      <td>3</td>\n",
              "      <td>266464</td>\n",
              "      <td>725</td>\n",
              "      <td>1169773</td>\n",
              "      <td>10</td>\n",
              "      <td>7059.450000</td>\n",
              "      <td>10.100000</td>\n",
              "      <td>5</td>\n",
              "      <td>0</td>\n",
              "      <td>203452</td>\n",
              "      <td>244354</td>\n",
              "      <td>0</td>\n",
              "      <td>0</td>\n",
              "      <td>1</td>\n",
              "    </tr>\n",
              "    <tr>\n",
              "      <th>98656</th>\n",
              "      <td>1</td>\n",
              "      <td>1</td>\n",
              "      <td>3</td>\n",
              "      <td>272294</td>\n",
              "      <td>725</td>\n",
              "      <td>1169773</td>\n",
              "      <td>5</td>\n",
              "      <td>6140.800000</td>\n",
              "      <td>11.100000</td>\n",
              "      <td>7</td>\n",
              "      <td>0</td>\n",
              "      <td>275709</td>\n",
              "      <td>454102</td>\n",
              "      <td>0</td>\n",
              "      <td>0</td>\n",
              "      <td>1</td>\n",
              "    </tr>\n",
              "    <tr>\n",
              "      <th>98657</th>\n",
              "      <td>1</td>\n",
              "      <td>3</td>\n",
              "      <td>3</td>\n",
              "      <td>109692</td>\n",
              "      <td>735</td>\n",
              "      <td>625252</td>\n",
              "      <td>5</td>\n",
              "      <td>5679.290000</td>\n",
              "      <td>17.400000</td>\n",
              "      <td>9</td>\n",
              "      <td>0</td>\n",
              "      <td>99180</td>\n",
              "      <td>256916</td>\n",
              "      <td>0</td>\n",
              "      <td>0</td>\n",
              "      <td>1</td>\n",
              "    </tr>\n",
              "    <tr>\n",
              "      <th>98658</th>\n",
              "      <td>1</td>\n",
              "      <td>2</td>\n",
              "      <td>3</td>\n",
              "      <td>222948</td>\n",
              "      <td>730</td>\n",
              "      <td>577638</td>\n",
              "      <td>6</td>\n",
              "      <td>5198.780000</td>\n",
              "      <td>20.800000</td>\n",
              "      <td>2</td>\n",
              "      <td>0</td>\n",
              "      <td>134615</td>\n",
              "      <td>160512</td>\n",
              "      <td>0</td>\n",
              "      <td>0</td>\n",
              "      <td>1</td>\n",
              "    </tr>\n",
              "  </tbody>\n",
              "</table>\n",
              "<p>24467 rows × 16 columns</p>\n",
              "</div>\n",
              "      <button class=\"colab-df-convert\" onclick=\"convertToInteractive('df-d47235ab-53a6-4c86-8b8a-2d2889fe384c')\"\n",
              "              title=\"Convert this dataframe to an interactive table.\"\n",
              "              style=\"display:none;\">\n",
              "        \n",
              "  <svg xmlns=\"http://www.w3.org/2000/svg\" height=\"24px\"viewBox=\"0 0 24 24\"\n",
              "       width=\"24px\">\n",
              "    <path d=\"M0 0h24v24H0V0z\" fill=\"none\"/>\n",
              "    <path d=\"M18.56 5.44l.94 2.06.94-2.06 2.06-.94-2.06-.94-.94-2.06-.94 2.06-2.06.94zm-11 1L8.5 8.5l.94-2.06 2.06-.94-2.06-.94L8.5 2.5l-.94 2.06-2.06.94zm10 10l.94 2.06.94-2.06 2.06-.94-2.06-.94-.94-2.06-.94 2.06-2.06.94z\"/><path d=\"M17.41 7.96l-1.37-1.37c-.4-.4-.92-.59-1.43-.59-.52 0-1.04.2-1.43.59L10.3 9.45l-7.72 7.72c-.78.78-.78 2.05 0 2.83L4 21.41c.39.39.9.59 1.41.59.51 0 1.02-.2 1.41-.59l7.78-7.78 2.81-2.81c.8-.78.8-2.07 0-2.86zM5.41 20L4 18.59l7.72-7.72 1.47 1.35L5.41 20z\"/>\n",
              "  </svg>\n",
              "      </button>\n",
              "      \n",
              "  <style>\n",
              "    .colab-df-container {\n",
              "      display:flex;\n",
              "      flex-wrap:wrap;\n",
              "      gap: 12px;\n",
              "    }\n",
              "\n",
              "    .colab-df-convert {\n",
              "      background-color: #E8F0FE;\n",
              "      border: none;\n",
              "      border-radius: 50%;\n",
              "      cursor: pointer;\n",
              "      display: none;\n",
              "      fill: #1967D2;\n",
              "      height: 32px;\n",
              "      padding: 0 0 0 0;\n",
              "      width: 32px;\n",
              "    }\n",
              "\n",
              "    .colab-df-convert:hover {\n",
              "      background-color: #E2EBFA;\n",
              "      box-shadow: 0px 1px 2px rgba(60, 64, 67, 0.3), 0px 1px 3px 1px rgba(60, 64, 67, 0.15);\n",
              "      fill: #174EA6;\n",
              "    }\n",
              "\n",
              "    [theme=dark] .colab-df-convert {\n",
              "      background-color: #3B4455;\n",
              "      fill: #D2E3FC;\n",
              "    }\n",
              "\n",
              "    [theme=dark] .colab-df-convert:hover {\n",
              "      background-color: #434B5C;\n",
              "      box-shadow: 0px 1px 3px 1px rgba(0, 0, 0, 0.15);\n",
              "      filter: drop-shadow(0px 1px 2px rgba(0, 0, 0, 0.3));\n",
              "      fill: #FFFFFF;\n",
              "    }\n",
              "  </style>\n",
              "\n",
              "      <script>\n",
              "        const buttonEl =\n",
              "          document.querySelector('#df-d47235ab-53a6-4c86-8b8a-2d2889fe384c button.colab-df-convert');\n",
              "        buttonEl.style.display =\n",
              "          google.colab.kernel.accessAllowed ? 'block' : 'none';\n",
              "\n",
              "        async function convertToInteractive(key) {\n",
              "          const element = document.querySelector('#df-d47235ab-53a6-4c86-8b8a-2d2889fe384c');\n",
              "          const dataTable =\n",
              "            await google.colab.kernel.invokeFunction('convertToInteractive',\n",
              "                                                     [key], {});\n",
              "          if (!dataTable) return;\n",
              "\n",
              "          const docLinkHtml = 'Like what you see? Visit the ' +\n",
              "            '<a target=\"_blank\" href=https://colab.research.google.com/notebooks/data_table.ipynb>data table notebook</a>'\n",
              "            + ' to learn more about interactive tables.';\n",
              "          element.innerHTML = '';\n",
              "          dataTable['output_type'] = 'display_data';\n",
              "          await google.colab.output.renderOutput(dataTable, element);\n",
              "          const docLink = document.createElement('div');\n",
              "          docLink.innerHTML = docLinkHtml;\n",
              "          element.appendChild(docLink);\n",
              "        }\n",
              "      </script>\n",
              "    </div>\n",
              "  </div>\n",
              "  "
            ]
          },
          "metadata": {},
          "execution_count": 10
        }
      ]
    },
    {
      "cell_type": "code",
      "source": [
        "from sklearn.model_selection import train_test_split"
      ],
      "metadata": {
        "id": "TIzzdMhxmuLk"
      },
      "execution_count": null,
      "outputs": []
    },
    {
      "cell_type": "code",
      "source": [
        "df_x_train, df_x_test, df_y_train, df_y_test = train_test_split(\n",
        "    df2.drop(\"Loan_Status\", axis=1),\n",
        "    df2[\"Loan_Status\"],\n",
        "    test_size=0.2,\n",
        "    #shuffle=False,\n",
        "    random_state=42,\n",
        ")"
      ],
      "metadata": {
        "id": "Az6t6RqBm5EN"
      },
      "execution_count": null,
      "outputs": []
    },
    {
      "cell_type": "code",
      "source": [
        "df_x_test, df_y_test = df_x_test.reset_index(drop=True), \\\n",
        "  df_y_test.reset_index(drop=True)\n",
        "df_y_train = pd.DataFrame(df_y_train)\n",
        "df_y_test = pd.DataFrame(df_y_test)"
      ],
      "metadata": {
        "id": "gOQ7Yeqhm_ey"
      },
      "execution_count": null,
      "outputs": []
    },
    {
      "cell_type": "code",
      "source": [
        "df_x_train"
      ],
      "metadata": {
        "colab": {
          "base_uri": "https://localhost:8080/",
          "height": 488
        },
        "id": "PnHounh6nXEP",
        "outputId": "780a78e9-4fe3-4d8e-f15d-af829b7eae16"
      },
      "execution_count": null,
      "outputs": [
        {
          "output_type": "execute_result",
          "data": {
            "text/plain": [
              "       Term  Home_Ownership  Purpose  Current_Loan_Amount  Credit_Score  \\\n",
              "16596     0               3        3               543730           631   \n",
              "80236     1               3        1               770616           715   \n",
              "51215     1               1        3               737572           706   \n",
              "45152     1               1        3               441056           719   \n",
              "87116     1               1        0                71566           722   \n",
              "...     ...             ...      ...                  ...           ...   \n",
              "6265      1               1        7                92686           725   \n",
              "54886     0               3        3               244794           641   \n",
              "76820     1               3        3               232738           710   \n",
              "860       1               1        5                64856           722   \n",
              "15795     1               1        7                71500           689   \n",
              "\n",
              "       Annual_Income  Years_in_current_job  Monthly_Debt  \\\n",
              "16596        1408755                     4      18196.49   \n",
              "80236        1616292                     8      40407.30   \n",
              "51215        2906430                     1      12497.63   \n",
              "45152        1195784                    10      24015.43   \n",
              "87116        1769109                     6      19460.37   \n",
              "...              ...                   ...           ...   \n",
              "6265         1169773                    10       8137.32   \n",
              "54886        1868783                     8      44694.84   \n",
              "76820        1009831                    10      13801.22   \n",
              "860          1306991                    10      15139.20   \n",
              "15795         578892                    10      11336.73   \n",
              "\n",
              "       Years_of_Credit_History  Number_of_Open_Accounts  \\\n",
              "16596                     15.0                       15   \n",
              "80236                     18.4                       11   \n",
              "51215                     12.6                        7   \n",
              "45152                     17.9                       12   \n",
              "87116                     24.0                        5   \n",
              "...                        ...                      ...   \n",
              "6265                      16.9                        4   \n",
              "54886                     16.0                       22   \n",
              "76820                     22.5                       17   \n",
              "860                       24.5                        4   \n",
              "15795                     16.1                        8   \n",
              "\n",
              "       Number_of_Credit_Problems  Current_Credit_Balance  Maximum_Open_Credit  \\\n",
              "16596                          0                  120821               178420   \n",
              "80236                          0                  263891               350020   \n",
              "51215                          0                  191919               428186   \n",
              "45152                          0                  643568               852588   \n",
              "87116                          0                  178809               212344   \n",
              "...                          ...                     ...                  ...   \n",
              "6265                           1                   52782                74162   \n",
              "54886                          0                  411331               601370   \n",
              "76820                          0                  189297              1204368   \n",
              "860                            0                   51813                69212   \n",
              "15795                          2                   63669               203126   \n",
              "\n",
              "       Bankruptcies  Tax_Liens  \n",
              "16596             0          0  \n",
              "80236             0          0  \n",
              "51215             0          0  \n",
              "45152             0          0  \n",
              "87116             0          0  \n",
              "...             ...        ...  \n",
              "6265              1          0  \n",
              "54886             0          0  \n",
              "76820             0          0  \n",
              "860               0          0  \n",
              "15795             0          0  \n",
              "\n",
              "[71674 rows x 15 columns]"
            ],
            "text/html": [
              "\n",
              "  <div id=\"df-315e3d73-79fc-48d4-8d29-075afdf60f02\">\n",
              "    <div class=\"colab-df-container\">\n",
              "      <div>\n",
              "<style scoped>\n",
              "    .dataframe tbody tr th:only-of-type {\n",
              "        vertical-align: middle;\n",
              "    }\n",
              "\n",
              "    .dataframe tbody tr th {\n",
              "        vertical-align: top;\n",
              "    }\n",
              "\n",
              "    .dataframe thead th {\n",
              "        text-align: right;\n",
              "    }\n",
              "</style>\n",
              "<table border=\"1\" class=\"dataframe\">\n",
              "  <thead>\n",
              "    <tr style=\"text-align: right;\">\n",
              "      <th></th>\n",
              "      <th>Term</th>\n",
              "      <th>Home_Ownership</th>\n",
              "      <th>Purpose</th>\n",
              "      <th>Current_Loan_Amount</th>\n",
              "      <th>Credit_Score</th>\n",
              "      <th>Annual_Income</th>\n",
              "      <th>Years_in_current_job</th>\n",
              "      <th>Monthly_Debt</th>\n",
              "      <th>Years_of_Credit_History</th>\n",
              "      <th>Number_of_Open_Accounts</th>\n",
              "      <th>Number_of_Credit_Problems</th>\n",
              "      <th>Current_Credit_Balance</th>\n",
              "      <th>Maximum_Open_Credit</th>\n",
              "      <th>Bankruptcies</th>\n",
              "      <th>Tax_Liens</th>\n",
              "    </tr>\n",
              "  </thead>\n",
              "  <tbody>\n",
              "    <tr>\n",
              "      <th>16596</th>\n",
              "      <td>0</td>\n",
              "      <td>3</td>\n",
              "      <td>3</td>\n",
              "      <td>543730</td>\n",
              "      <td>631</td>\n",
              "      <td>1408755</td>\n",
              "      <td>4</td>\n",
              "      <td>18196.49</td>\n",
              "      <td>15.0</td>\n",
              "      <td>15</td>\n",
              "      <td>0</td>\n",
              "      <td>120821</td>\n",
              "      <td>178420</td>\n",
              "      <td>0</td>\n",
              "      <td>0</td>\n",
              "    </tr>\n",
              "    <tr>\n",
              "      <th>80236</th>\n",
              "      <td>1</td>\n",
              "      <td>3</td>\n",
              "      <td>1</td>\n",
              "      <td>770616</td>\n",
              "      <td>715</td>\n",
              "      <td>1616292</td>\n",
              "      <td>8</td>\n",
              "      <td>40407.30</td>\n",
              "      <td>18.4</td>\n",
              "      <td>11</td>\n",
              "      <td>0</td>\n",
              "      <td>263891</td>\n",
              "      <td>350020</td>\n",
              "      <td>0</td>\n",
              "      <td>0</td>\n",
              "    </tr>\n",
              "    <tr>\n",
              "      <th>51215</th>\n",
              "      <td>1</td>\n",
              "      <td>1</td>\n",
              "      <td>3</td>\n",
              "      <td>737572</td>\n",
              "      <td>706</td>\n",
              "      <td>2906430</td>\n",
              "      <td>1</td>\n",
              "      <td>12497.63</td>\n",
              "      <td>12.6</td>\n",
              "      <td>7</td>\n",
              "      <td>0</td>\n",
              "      <td>191919</td>\n",
              "      <td>428186</td>\n",
              "      <td>0</td>\n",
              "      <td>0</td>\n",
              "    </tr>\n",
              "    <tr>\n",
              "      <th>45152</th>\n",
              "      <td>1</td>\n",
              "      <td>1</td>\n",
              "      <td>3</td>\n",
              "      <td>441056</td>\n",
              "      <td>719</td>\n",
              "      <td>1195784</td>\n",
              "      <td>10</td>\n",
              "      <td>24015.43</td>\n",
              "      <td>17.9</td>\n",
              "      <td>12</td>\n",
              "      <td>0</td>\n",
              "      <td>643568</td>\n",
              "      <td>852588</td>\n",
              "      <td>0</td>\n",
              "      <td>0</td>\n",
              "    </tr>\n",
              "    <tr>\n",
              "      <th>87116</th>\n",
              "      <td>1</td>\n",
              "      <td>1</td>\n",
              "      <td>0</td>\n",
              "      <td>71566</td>\n",
              "      <td>722</td>\n",
              "      <td>1769109</td>\n",
              "      <td>6</td>\n",
              "      <td>19460.37</td>\n",
              "      <td>24.0</td>\n",
              "      <td>5</td>\n",
              "      <td>0</td>\n",
              "      <td>178809</td>\n",
              "      <td>212344</td>\n",
              "      <td>0</td>\n",
              "      <td>0</td>\n",
              "    </tr>\n",
              "    <tr>\n",
              "      <th>...</th>\n",
              "      <td>...</td>\n",
              "      <td>...</td>\n",
              "      <td>...</td>\n",
              "      <td>...</td>\n",
              "      <td>...</td>\n",
              "      <td>...</td>\n",
              "      <td>...</td>\n",
              "      <td>...</td>\n",
              "      <td>...</td>\n",
              "      <td>...</td>\n",
              "      <td>...</td>\n",
              "      <td>...</td>\n",
              "      <td>...</td>\n",
              "      <td>...</td>\n",
              "      <td>...</td>\n",
              "    </tr>\n",
              "    <tr>\n",
              "      <th>6265</th>\n",
              "      <td>1</td>\n",
              "      <td>1</td>\n",
              "      <td>7</td>\n",
              "      <td>92686</td>\n",
              "      <td>725</td>\n",
              "      <td>1169773</td>\n",
              "      <td>10</td>\n",
              "      <td>8137.32</td>\n",
              "      <td>16.9</td>\n",
              "      <td>4</td>\n",
              "      <td>1</td>\n",
              "      <td>52782</td>\n",
              "      <td>74162</td>\n",
              "      <td>1</td>\n",
              "      <td>0</td>\n",
              "    </tr>\n",
              "    <tr>\n",
              "      <th>54886</th>\n",
              "      <td>0</td>\n",
              "      <td>3</td>\n",
              "      <td>3</td>\n",
              "      <td>244794</td>\n",
              "      <td>641</td>\n",
              "      <td>1868783</td>\n",
              "      <td>8</td>\n",
              "      <td>44694.84</td>\n",
              "      <td>16.0</td>\n",
              "      <td>22</td>\n",
              "      <td>0</td>\n",
              "      <td>411331</td>\n",
              "      <td>601370</td>\n",
              "      <td>0</td>\n",
              "      <td>0</td>\n",
              "    </tr>\n",
              "    <tr>\n",
              "      <th>76820</th>\n",
              "      <td>1</td>\n",
              "      <td>3</td>\n",
              "      <td>3</td>\n",
              "      <td>232738</td>\n",
              "      <td>710</td>\n",
              "      <td>1009831</td>\n",
              "      <td>10</td>\n",
              "      <td>13801.22</td>\n",
              "      <td>22.5</td>\n",
              "      <td>17</td>\n",
              "      <td>0</td>\n",
              "      <td>189297</td>\n",
              "      <td>1204368</td>\n",
              "      <td>0</td>\n",
              "      <td>0</td>\n",
              "    </tr>\n",
              "    <tr>\n",
              "      <th>860</th>\n",
              "      <td>1</td>\n",
              "      <td>1</td>\n",
              "      <td>5</td>\n",
              "      <td>64856</td>\n",
              "      <td>722</td>\n",
              "      <td>1306991</td>\n",
              "      <td>10</td>\n",
              "      <td>15139.20</td>\n",
              "      <td>24.5</td>\n",
              "      <td>4</td>\n",
              "      <td>0</td>\n",
              "      <td>51813</td>\n",
              "      <td>69212</td>\n",
              "      <td>0</td>\n",
              "      <td>0</td>\n",
              "    </tr>\n",
              "    <tr>\n",
              "      <th>15795</th>\n",
              "      <td>1</td>\n",
              "      <td>1</td>\n",
              "      <td>7</td>\n",
              "      <td>71500</td>\n",
              "      <td>689</td>\n",
              "      <td>578892</td>\n",
              "      <td>10</td>\n",
              "      <td>11336.73</td>\n",
              "      <td>16.1</td>\n",
              "      <td>8</td>\n",
              "      <td>2</td>\n",
              "      <td>63669</td>\n",
              "      <td>203126</td>\n",
              "      <td>0</td>\n",
              "      <td>0</td>\n",
              "    </tr>\n",
              "  </tbody>\n",
              "</table>\n",
              "<p>71674 rows × 15 columns</p>\n",
              "</div>\n",
              "      <button class=\"colab-df-convert\" onclick=\"convertToInteractive('df-315e3d73-79fc-48d4-8d29-075afdf60f02')\"\n",
              "              title=\"Convert this dataframe to an interactive table.\"\n",
              "              style=\"display:none;\">\n",
              "        \n",
              "  <svg xmlns=\"http://www.w3.org/2000/svg\" height=\"24px\"viewBox=\"0 0 24 24\"\n",
              "       width=\"24px\">\n",
              "    <path d=\"M0 0h24v24H0V0z\" fill=\"none\"/>\n",
              "    <path d=\"M18.56 5.44l.94 2.06.94-2.06 2.06-.94-2.06-.94-.94-2.06-.94 2.06-2.06.94zm-11 1L8.5 8.5l.94-2.06 2.06-.94-2.06-.94L8.5 2.5l-.94 2.06-2.06.94zm10 10l.94 2.06.94-2.06 2.06-.94-2.06-.94-.94-2.06-.94 2.06-2.06.94z\"/><path d=\"M17.41 7.96l-1.37-1.37c-.4-.4-.92-.59-1.43-.59-.52 0-1.04.2-1.43.59L10.3 9.45l-7.72 7.72c-.78.78-.78 2.05 0 2.83L4 21.41c.39.39.9.59 1.41.59.51 0 1.02-.2 1.41-.59l7.78-7.78 2.81-2.81c.8-.78.8-2.07 0-2.86zM5.41 20L4 18.59l7.72-7.72 1.47 1.35L5.41 20z\"/>\n",
              "  </svg>\n",
              "      </button>\n",
              "      \n",
              "  <style>\n",
              "    .colab-df-container {\n",
              "      display:flex;\n",
              "      flex-wrap:wrap;\n",
              "      gap: 12px;\n",
              "    }\n",
              "\n",
              "    .colab-df-convert {\n",
              "      background-color: #E8F0FE;\n",
              "      border: none;\n",
              "      border-radius: 50%;\n",
              "      cursor: pointer;\n",
              "      display: none;\n",
              "      fill: #1967D2;\n",
              "      height: 32px;\n",
              "      padding: 0 0 0 0;\n",
              "      width: 32px;\n",
              "    }\n",
              "\n",
              "    .colab-df-convert:hover {\n",
              "      background-color: #E2EBFA;\n",
              "      box-shadow: 0px 1px 2px rgba(60, 64, 67, 0.3), 0px 1px 3px 1px rgba(60, 64, 67, 0.15);\n",
              "      fill: #174EA6;\n",
              "    }\n",
              "\n",
              "    [theme=dark] .colab-df-convert {\n",
              "      background-color: #3B4455;\n",
              "      fill: #D2E3FC;\n",
              "    }\n",
              "\n",
              "    [theme=dark] .colab-df-convert:hover {\n",
              "      background-color: #434B5C;\n",
              "      box-shadow: 0px 1px 3px 1px rgba(0, 0, 0, 0.15);\n",
              "      filter: drop-shadow(0px 1px 2px rgba(0, 0, 0, 0.3));\n",
              "      fill: #FFFFFF;\n",
              "    }\n",
              "  </style>\n",
              "\n",
              "      <script>\n",
              "        const buttonEl =\n",
              "          document.querySelector('#df-315e3d73-79fc-48d4-8d29-075afdf60f02 button.colab-df-convert');\n",
              "        buttonEl.style.display =\n",
              "          google.colab.kernel.accessAllowed ? 'block' : 'none';\n",
              "\n",
              "        async function convertToInteractive(key) {\n",
              "          const element = document.querySelector('#df-315e3d73-79fc-48d4-8d29-075afdf60f02');\n",
              "          const dataTable =\n",
              "            await google.colab.kernel.invokeFunction('convertToInteractive',\n",
              "                                                     [key], {});\n",
              "          if (!dataTable) return;\n",
              "\n",
              "          const docLinkHtml = 'Like what you see? Visit the ' +\n",
              "            '<a target=\"_blank\" href=https://colab.research.google.com/notebooks/data_table.ipynb>data table notebook</a>'\n",
              "            + ' to learn more about interactive tables.';\n",
              "          element.innerHTML = '';\n",
              "          dataTable['output_type'] = 'display_data';\n",
              "          await google.colab.output.renderOutput(dataTable, element);\n",
              "          const docLink = document.createElement('div');\n",
              "          docLink.innerHTML = docLinkHtml;\n",
              "          element.appendChild(docLink);\n",
              "        }\n",
              "      </script>\n",
              "    </div>\n",
              "  </div>\n",
              "  "
            ]
          },
          "metadata": {},
          "execution_count": 14
        }
      ]
    },
    {
      "cell_type": "code",
      "source": [
        "df_x_test"
      ],
      "metadata": {
        "colab": {
          "base_uri": "https://localhost:8080/",
          "height": 488
        },
        "id": "zzdPAEOXnhQk",
        "outputId": "b7c8e21b-4038-4f65-802e-53fdb80e4e8a"
      },
      "execution_count": null,
      "outputs": [
        {
          "output_type": "execute_result",
          "data": {
            "text/plain": [
              "       Term  Home_Ownership  Purpose  Current_Loan_Amount  Credit_Score  \\\n",
              "0         0               1        3               550770           725   \n",
              "1         1               1        3               222706           742   \n",
              "2         1               1        3             99999999           735   \n",
              "3         1               1        3               435028           723   \n",
              "4         0               1        3               524436           725   \n",
              "...     ...             ...      ...                  ...           ...   \n",
              "17914     0               1        3               273394           668   \n",
              "17915     1               1        3               215930           725   \n",
              "17916     0               1        0               556182           659   \n",
              "17917     1               1        3               132154           745   \n",
              "17918     1               3        7               181082           725   \n",
              "\n",
              "       Annual_Income  Years_in_current_job  Monthly_Debt  \\\n",
              "0            1169773                    10      19787.74   \n",
              "1            1154022                     1      32889.57   \n",
              "2            1790199                     9      16260.96   \n",
              "3            1502824                    10      18159.25   \n",
              "4            1169773                    10      36324.58   \n",
              "...              ...                   ...           ...   \n",
              "17914         791768                     9      10689.02   \n",
              "17915        1169773                     7      32168.71   \n",
              "17916        1263329                    10      11791.02   \n",
              "17917         817893                     6      14381.29   \n",
              "17918        1169773                     9      14559.32   \n",
              "\n",
              "       Years_of_Credit_History  Number_of_Open_Accounts  \\\n",
              "0                         26.5                       11   \n",
              "1                         17.9                       12   \n",
              "2                         17.0                       14   \n",
              "3                         13.5                       11   \n",
              "4                         19.3                       15   \n",
              "...                        ...                      ...   \n",
              "17914                     13.0                       12   \n",
              "17915                     16.8                       12   \n",
              "17916                     14.1                       13   \n",
              "17917                     13.4                       22   \n",
              "17918                     11.0                        8   \n",
              "\n",
              "       Number_of_Credit_Problems  Current_Credit_Balance  Maximum_Open_Credit  \\\n",
              "0                              0                  501087              1148906   \n",
              "1                              1                  175066               483780   \n",
              "2                              0                  452409               995918   \n",
              "3                              0                  129143               171886   \n",
              "4                              0                  684646               886732   \n",
              "...                          ...                     ...                  ...   \n",
              "17914                          0                  216999               536888   \n",
              "17915                          1                   30970               239096   \n",
              "17916                          1                  222908               670406   \n",
              "17917                          0                  252320               447392   \n",
              "17918                          0                  169157               314908   \n",
              "\n",
              "       Bankruptcies  Tax_Liens  \n",
              "0                 0          0  \n",
              "1                 1          0  \n",
              "2                 0          0  \n",
              "3                 0          0  \n",
              "4                 0          0  \n",
              "...             ...        ...  \n",
              "17914             0          0  \n",
              "17915             1          0  \n",
              "17916             1          0  \n",
              "17917             0          0  \n",
              "17918             0          0  \n",
              "\n",
              "[17919 rows x 15 columns]"
            ],
            "text/html": [
              "\n",
              "  <div id=\"df-9d6f5008-dc50-4375-9fc0-37afffccaaf3\">\n",
              "    <div class=\"colab-df-container\">\n",
              "      <div>\n",
              "<style scoped>\n",
              "    .dataframe tbody tr th:only-of-type {\n",
              "        vertical-align: middle;\n",
              "    }\n",
              "\n",
              "    .dataframe tbody tr th {\n",
              "        vertical-align: top;\n",
              "    }\n",
              "\n",
              "    .dataframe thead th {\n",
              "        text-align: right;\n",
              "    }\n",
              "</style>\n",
              "<table border=\"1\" class=\"dataframe\">\n",
              "  <thead>\n",
              "    <tr style=\"text-align: right;\">\n",
              "      <th></th>\n",
              "      <th>Term</th>\n",
              "      <th>Home_Ownership</th>\n",
              "      <th>Purpose</th>\n",
              "      <th>Current_Loan_Amount</th>\n",
              "      <th>Credit_Score</th>\n",
              "      <th>Annual_Income</th>\n",
              "      <th>Years_in_current_job</th>\n",
              "      <th>Monthly_Debt</th>\n",
              "      <th>Years_of_Credit_History</th>\n",
              "      <th>Number_of_Open_Accounts</th>\n",
              "      <th>Number_of_Credit_Problems</th>\n",
              "      <th>Current_Credit_Balance</th>\n",
              "      <th>Maximum_Open_Credit</th>\n",
              "      <th>Bankruptcies</th>\n",
              "      <th>Tax_Liens</th>\n",
              "    </tr>\n",
              "  </thead>\n",
              "  <tbody>\n",
              "    <tr>\n",
              "      <th>0</th>\n",
              "      <td>0</td>\n",
              "      <td>1</td>\n",
              "      <td>3</td>\n",
              "      <td>550770</td>\n",
              "      <td>725</td>\n",
              "      <td>1169773</td>\n",
              "      <td>10</td>\n",
              "      <td>19787.74</td>\n",
              "      <td>26.5</td>\n",
              "      <td>11</td>\n",
              "      <td>0</td>\n",
              "      <td>501087</td>\n",
              "      <td>1148906</td>\n",
              "      <td>0</td>\n",
              "      <td>0</td>\n",
              "    </tr>\n",
              "    <tr>\n",
              "      <th>1</th>\n",
              "      <td>1</td>\n",
              "      <td>1</td>\n",
              "      <td>3</td>\n",
              "      <td>222706</td>\n",
              "      <td>742</td>\n",
              "      <td>1154022</td>\n",
              "      <td>1</td>\n",
              "      <td>32889.57</td>\n",
              "      <td>17.9</td>\n",
              "      <td>12</td>\n",
              "      <td>1</td>\n",
              "      <td>175066</td>\n",
              "      <td>483780</td>\n",
              "      <td>1</td>\n",
              "      <td>0</td>\n",
              "    </tr>\n",
              "    <tr>\n",
              "      <th>2</th>\n",
              "      <td>1</td>\n",
              "      <td>1</td>\n",
              "      <td>3</td>\n",
              "      <td>99999999</td>\n",
              "      <td>735</td>\n",
              "      <td>1790199</td>\n",
              "      <td>9</td>\n",
              "      <td>16260.96</td>\n",
              "      <td>17.0</td>\n",
              "      <td>14</td>\n",
              "      <td>0</td>\n",
              "      <td>452409</td>\n",
              "      <td>995918</td>\n",
              "      <td>0</td>\n",
              "      <td>0</td>\n",
              "    </tr>\n",
              "    <tr>\n",
              "      <th>3</th>\n",
              "      <td>1</td>\n",
              "      <td>1</td>\n",
              "      <td>3</td>\n",
              "      <td>435028</td>\n",
              "      <td>723</td>\n",
              "      <td>1502824</td>\n",
              "      <td>10</td>\n",
              "      <td>18159.25</td>\n",
              "      <td>13.5</td>\n",
              "      <td>11</td>\n",
              "      <td>0</td>\n",
              "      <td>129143</td>\n",
              "      <td>171886</td>\n",
              "      <td>0</td>\n",
              "      <td>0</td>\n",
              "    </tr>\n",
              "    <tr>\n",
              "      <th>4</th>\n",
              "      <td>0</td>\n",
              "      <td>1</td>\n",
              "      <td>3</td>\n",
              "      <td>524436</td>\n",
              "      <td>725</td>\n",
              "      <td>1169773</td>\n",
              "      <td>10</td>\n",
              "      <td>36324.58</td>\n",
              "      <td>19.3</td>\n",
              "      <td>15</td>\n",
              "      <td>0</td>\n",
              "      <td>684646</td>\n",
              "      <td>886732</td>\n",
              "      <td>0</td>\n",
              "      <td>0</td>\n",
              "    </tr>\n",
              "    <tr>\n",
              "      <th>...</th>\n",
              "      <td>...</td>\n",
              "      <td>...</td>\n",
              "      <td>...</td>\n",
              "      <td>...</td>\n",
              "      <td>...</td>\n",
              "      <td>...</td>\n",
              "      <td>...</td>\n",
              "      <td>...</td>\n",
              "      <td>...</td>\n",
              "      <td>...</td>\n",
              "      <td>...</td>\n",
              "      <td>...</td>\n",
              "      <td>...</td>\n",
              "      <td>...</td>\n",
              "      <td>...</td>\n",
              "    </tr>\n",
              "    <tr>\n",
              "      <th>17914</th>\n",
              "      <td>0</td>\n",
              "      <td>1</td>\n",
              "      <td>3</td>\n",
              "      <td>273394</td>\n",
              "      <td>668</td>\n",
              "      <td>791768</td>\n",
              "      <td>9</td>\n",
              "      <td>10689.02</td>\n",
              "      <td>13.0</td>\n",
              "      <td>12</td>\n",
              "      <td>0</td>\n",
              "      <td>216999</td>\n",
              "      <td>536888</td>\n",
              "      <td>0</td>\n",
              "      <td>0</td>\n",
              "    </tr>\n",
              "    <tr>\n",
              "      <th>17915</th>\n",
              "      <td>1</td>\n",
              "      <td>1</td>\n",
              "      <td>3</td>\n",
              "      <td>215930</td>\n",
              "      <td>725</td>\n",
              "      <td>1169773</td>\n",
              "      <td>7</td>\n",
              "      <td>32168.71</td>\n",
              "      <td>16.8</td>\n",
              "      <td>12</td>\n",
              "      <td>1</td>\n",
              "      <td>30970</td>\n",
              "      <td>239096</td>\n",
              "      <td>1</td>\n",
              "      <td>0</td>\n",
              "    </tr>\n",
              "    <tr>\n",
              "      <th>17916</th>\n",
              "      <td>0</td>\n",
              "      <td>1</td>\n",
              "      <td>0</td>\n",
              "      <td>556182</td>\n",
              "      <td>659</td>\n",
              "      <td>1263329</td>\n",
              "      <td>10</td>\n",
              "      <td>11791.02</td>\n",
              "      <td>14.1</td>\n",
              "      <td>13</td>\n",
              "      <td>1</td>\n",
              "      <td>222908</td>\n",
              "      <td>670406</td>\n",
              "      <td>1</td>\n",
              "      <td>0</td>\n",
              "    </tr>\n",
              "    <tr>\n",
              "      <th>17917</th>\n",
              "      <td>1</td>\n",
              "      <td>1</td>\n",
              "      <td>3</td>\n",
              "      <td>132154</td>\n",
              "      <td>745</td>\n",
              "      <td>817893</td>\n",
              "      <td>6</td>\n",
              "      <td>14381.29</td>\n",
              "      <td>13.4</td>\n",
              "      <td>22</td>\n",
              "      <td>0</td>\n",
              "      <td>252320</td>\n",
              "      <td>447392</td>\n",
              "      <td>0</td>\n",
              "      <td>0</td>\n",
              "    </tr>\n",
              "    <tr>\n",
              "      <th>17918</th>\n",
              "      <td>1</td>\n",
              "      <td>3</td>\n",
              "      <td>7</td>\n",
              "      <td>181082</td>\n",
              "      <td>725</td>\n",
              "      <td>1169773</td>\n",
              "      <td>9</td>\n",
              "      <td>14559.32</td>\n",
              "      <td>11.0</td>\n",
              "      <td>8</td>\n",
              "      <td>0</td>\n",
              "      <td>169157</td>\n",
              "      <td>314908</td>\n",
              "      <td>0</td>\n",
              "      <td>0</td>\n",
              "    </tr>\n",
              "  </tbody>\n",
              "</table>\n",
              "<p>17919 rows × 15 columns</p>\n",
              "</div>\n",
              "      <button class=\"colab-df-convert\" onclick=\"convertToInteractive('df-9d6f5008-dc50-4375-9fc0-37afffccaaf3')\"\n",
              "              title=\"Convert this dataframe to an interactive table.\"\n",
              "              style=\"display:none;\">\n",
              "        \n",
              "  <svg xmlns=\"http://www.w3.org/2000/svg\" height=\"24px\"viewBox=\"0 0 24 24\"\n",
              "       width=\"24px\">\n",
              "    <path d=\"M0 0h24v24H0V0z\" fill=\"none\"/>\n",
              "    <path d=\"M18.56 5.44l.94 2.06.94-2.06 2.06-.94-2.06-.94-.94-2.06-.94 2.06-2.06.94zm-11 1L8.5 8.5l.94-2.06 2.06-.94-2.06-.94L8.5 2.5l-.94 2.06-2.06.94zm10 10l.94 2.06.94-2.06 2.06-.94-2.06-.94-.94-2.06-.94 2.06-2.06.94z\"/><path d=\"M17.41 7.96l-1.37-1.37c-.4-.4-.92-.59-1.43-.59-.52 0-1.04.2-1.43.59L10.3 9.45l-7.72 7.72c-.78.78-.78 2.05 0 2.83L4 21.41c.39.39.9.59 1.41.59.51 0 1.02-.2 1.41-.59l7.78-7.78 2.81-2.81c.8-.78.8-2.07 0-2.86zM5.41 20L4 18.59l7.72-7.72 1.47 1.35L5.41 20z\"/>\n",
              "  </svg>\n",
              "      </button>\n",
              "      \n",
              "  <style>\n",
              "    .colab-df-container {\n",
              "      display:flex;\n",
              "      flex-wrap:wrap;\n",
              "      gap: 12px;\n",
              "    }\n",
              "\n",
              "    .colab-df-convert {\n",
              "      background-color: #E8F0FE;\n",
              "      border: none;\n",
              "      border-radius: 50%;\n",
              "      cursor: pointer;\n",
              "      display: none;\n",
              "      fill: #1967D2;\n",
              "      height: 32px;\n",
              "      padding: 0 0 0 0;\n",
              "      width: 32px;\n",
              "    }\n",
              "\n",
              "    .colab-df-convert:hover {\n",
              "      background-color: #E2EBFA;\n",
              "      box-shadow: 0px 1px 2px rgba(60, 64, 67, 0.3), 0px 1px 3px 1px rgba(60, 64, 67, 0.15);\n",
              "      fill: #174EA6;\n",
              "    }\n",
              "\n",
              "    [theme=dark] .colab-df-convert {\n",
              "      background-color: #3B4455;\n",
              "      fill: #D2E3FC;\n",
              "    }\n",
              "\n",
              "    [theme=dark] .colab-df-convert:hover {\n",
              "      background-color: #434B5C;\n",
              "      box-shadow: 0px 1px 3px 1px rgba(0, 0, 0, 0.15);\n",
              "      filter: drop-shadow(0px 1px 2px rgba(0, 0, 0, 0.3));\n",
              "      fill: #FFFFFF;\n",
              "    }\n",
              "  </style>\n",
              "\n",
              "      <script>\n",
              "        const buttonEl =\n",
              "          document.querySelector('#df-9d6f5008-dc50-4375-9fc0-37afffccaaf3 button.colab-df-convert');\n",
              "        buttonEl.style.display =\n",
              "          google.colab.kernel.accessAllowed ? 'block' : 'none';\n",
              "\n",
              "        async function convertToInteractive(key) {\n",
              "          const element = document.querySelector('#df-9d6f5008-dc50-4375-9fc0-37afffccaaf3');\n",
              "          const dataTable =\n",
              "            await google.colab.kernel.invokeFunction('convertToInteractive',\n",
              "                                                     [key], {});\n",
              "          if (!dataTable) return;\n",
              "\n",
              "          const docLinkHtml = 'Like what you see? Visit the ' +\n",
              "            '<a target=\"_blank\" href=https://colab.research.google.com/notebooks/data_table.ipynb>data table notebook</a>'\n",
              "            + ' to learn more about interactive tables.';\n",
              "          element.innerHTML = '';\n",
              "          dataTable['output_type'] = 'display_data';\n",
              "          await google.colab.output.renderOutput(dataTable, element);\n",
              "          const docLink = document.createElement('div');\n",
              "          docLink.innerHTML = docLinkHtml;\n",
              "          element.appendChild(docLink);\n",
              "        }\n",
              "      </script>\n",
              "    </div>\n",
              "  </div>\n",
              "  "
            ]
          },
          "metadata": {},
          "execution_count": 15
        }
      ]
    },
    {
      "cell_type": "code",
      "source": [
        "df_y_train.value_counts()"
      ],
      "metadata": {
        "colab": {
          "base_uri": "https://localhost:8080/"
        },
        "id": "4xtI_7Rintbz",
        "outputId": "3db74eeb-0a4e-4e26-f4a5-46d2e9ff5c52"
      },
      "execution_count": null,
      "outputs": [
        {
          "output_type": "execute_result",
          "data": {
            "text/plain": [
              "Loan_Status\n",
              "0              53558\n",
              "1              18116\n",
              "dtype: int64"
            ]
          },
          "metadata": {},
          "execution_count": 16
        }
      ]
    },
    {
      "cell_type": "code",
      "source": [
        "df_train=pd.concat([df_x_train,df_y_train],axis=1)"
      ],
      "metadata": {
        "id": "VTZDfUJtn4T4"
      },
      "execution_count": null,
      "outputs": []
    },
    {
      "cell_type": "code",
      "source": [
        "df_train.head()"
      ],
      "metadata": {
        "colab": {
          "base_uri": "https://localhost:8080/",
          "height": 270
        },
        "id": "QX79Z491o0vh",
        "outputId": "7359609b-74e7-4953-ccf7-d4a6bb5b76be"
      },
      "execution_count": null,
      "outputs": [
        {
          "output_type": "execute_result",
          "data": {
            "text/plain": [
              "       Term  Home_Ownership  Purpose  Current_Loan_Amount  Credit_Score  \\\n",
              "16596     0               3        3               543730           631   \n",
              "80236     1               3        1               770616           715   \n",
              "51215     1               1        3               737572           706   \n",
              "45152     1               1        3               441056           719   \n",
              "87116     1               1        0                71566           722   \n",
              "\n",
              "       Annual_Income  Years_in_current_job  Monthly_Debt  \\\n",
              "16596        1408755                     4      18196.49   \n",
              "80236        1616292                     8      40407.30   \n",
              "51215        2906430                     1      12497.63   \n",
              "45152        1195784                    10      24015.43   \n",
              "87116        1769109                     6      19460.37   \n",
              "\n",
              "       Years_of_Credit_History  Number_of_Open_Accounts  \\\n",
              "16596                     15.0                       15   \n",
              "80236                     18.4                       11   \n",
              "51215                     12.6                        7   \n",
              "45152                     17.9                       12   \n",
              "87116                     24.0                        5   \n",
              "\n",
              "       Number_of_Credit_Problems  Current_Credit_Balance  Maximum_Open_Credit  \\\n",
              "16596                          0                  120821               178420   \n",
              "80236                          0                  263891               350020   \n",
              "51215                          0                  191919               428186   \n",
              "45152                          0                  643568               852588   \n",
              "87116                          0                  178809               212344   \n",
              "\n",
              "       Bankruptcies  Tax_Liens  Loan_Status  \n",
              "16596             0          0            0  \n",
              "80236             0          0            0  \n",
              "51215             0          0            0  \n",
              "45152             0          0            0  \n",
              "87116             0          0            0  "
            ],
            "text/html": [
              "\n",
              "  <div id=\"df-778f2146-5710-4a4c-b98a-3eef0e7936ce\">\n",
              "    <div class=\"colab-df-container\">\n",
              "      <div>\n",
              "<style scoped>\n",
              "    .dataframe tbody tr th:only-of-type {\n",
              "        vertical-align: middle;\n",
              "    }\n",
              "\n",
              "    .dataframe tbody tr th {\n",
              "        vertical-align: top;\n",
              "    }\n",
              "\n",
              "    .dataframe thead th {\n",
              "        text-align: right;\n",
              "    }\n",
              "</style>\n",
              "<table border=\"1\" class=\"dataframe\">\n",
              "  <thead>\n",
              "    <tr style=\"text-align: right;\">\n",
              "      <th></th>\n",
              "      <th>Term</th>\n",
              "      <th>Home_Ownership</th>\n",
              "      <th>Purpose</th>\n",
              "      <th>Current_Loan_Amount</th>\n",
              "      <th>Credit_Score</th>\n",
              "      <th>Annual_Income</th>\n",
              "      <th>Years_in_current_job</th>\n",
              "      <th>Monthly_Debt</th>\n",
              "      <th>Years_of_Credit_History</th>\n",
              "      <th>Number_of_Open_Accounts</th>\n",
              "      <th>Number_of_Credit_Problems</th>\n",
              "      <th>Current_Credit_Balance</th>\n",
              "      <th>Maximum_Open_Credit</th>\n",
              "      <th>Bankruptcies</th>\n",
              "      <th>Tax_Liens</th>\n",
              "      <th>Loan_Status</th>\n",
              "    </tr>\n",
              "  </thead>\n",
              "  <tbody>\n",
              "    <tr>\n",
              "      <th>16596</th>\n",
              "      <td>0</td>\n",
              "      <td>3</td>\n",
              "      <td>3</td>\n",
              "      <td>543730</td>\n",
              "      <td>631</td>\n",
              "      <td>1408755</td>\n",
              "      <td>4</td>\n",
              "      <td>18196.49</td>\n",
              "      <td>15.0</td>\n",
              "      <td>15</td>\n",
              "      <td>0</td>\n",
              "      <td>120821</td>\n",
              "      <td>178420</td>\n",
              "      <td>0</td>\n",
              "      <td>0</td>\n",
              "      <td>0</td>\n",
              "    </tr>\n",
              "    <tr>\n",
              "      <th>80236</th>\n",
              "      <td>1</td>\n",
              "      <td>3</td>\n",
              "      <td>1</td>\n",
              "      <td>770616</td>\n",
              "      <td>715</td>\n",
              "      <td>1616292</td>\n",
              "      <td>8</td>\n",
              "      <td>40407.30</td>\n",
              "      <td>18.4</td>\n",
              "      <td>11</td>\n",
              "      <td>0</td>\n",
              "      <td>263891</td>\n",
              "      <td>350020</td>\n",
              "      <td>0</td>\n",
              "      <td>0</td>\n",
              "      <td>0</td>\n",
              "    </tr>\n",
              "    <tr>\n",
              "      <th>51215</th>\n",
              "      <td>1</td>\n",
              "      <td>1</td>\n",
              "      <td>3</td>\n",
              "      <td>737572</td>\n",
              "      <td>706</td>\n",
              "      <td>2906430</td>\n",
              "      <td>1</td>\n",
              "      <td>12497.63</td>\n",
              "      <td>12.6</td>\n",
              "      <td>7</td>\n",
              "      <td>0</td>\n",
              "      <td>191919</td>\n",
              "      <td>428186</td>\n",
              "      <td>0</td>\n",
              "      <td>0</td>\n",
              "      <td>0</td>\n",
              "    </tr>\n",
              "    <tr>\n",
              "      <th>45152</th>\n",
              "      <td>1</td>\n",
              "      <td>1</td>\n",
              "      <td>3</td>\n",
              "      <td>441056</td>\n",
              "      <td>719</td>\n",
              "      <td>1195784</td>\n",
              "      <td>10</td>\n",
              "      <td>24015.43</td>\n",
              "      <td>17.9</td>\n",
              "      <td>12</td>\n",
              "      <td>0</td>\n",
              "      <td>643568</td>\n",
              "      <td>852588</td>\n",
              "      <td>0</td>\n",
              "      <td>0</td>\n",
              "      <td>0</td>\n",
              "    </tr>\n",
              "    <tr>\n",
              "      <th>87116</th>\n",
              "      <td>1</td>\n",
              "      <td>1</td>\n",
              "      <td>0</td>\n",
              "      <td>71566</td>\n",
              "      <td>722</td>\n",
              "      <td>1769109</td>\n",
              "      <td>6</td>\n",
              "      <td>19460.37</td>\n",
              "      <td>24.0</td>\n",
              "      <td>5</td>\n",
              "      <td>0</td>\n",
              "      <td>178809</td>\n",
              "      <td>212344</td>\n",
              "      <td>0</td>\n",
              "      <td>0</td>\n",
              "      <td>0</td>\n",
              "    </tr>\n",
              "  </tbody>\n",
              "</table>\n",
              "</div>\n",
              "      <button class=\"colab-df-convert\" onclick=\"convertToInteractive('df-778f2146-5710-4a4c-b98a-3eef0e7936ce')\"\n",
              "              title=\"Convert this dataframe to an interactive table.\"\n",
              "              style=\"display:none;\">\n",
              "        \n",
              "  <svg xmlns=\"http://www.w3.org/2000/svg\" height=\"24px\"viewBox=\"0 0 24 24\"\n",
              "       width=\"24px\">\n",
              "    <path d=\"M0 0h24v24H0V0z\" fill=\"none\"/>\n",
              "    <path d=\"M18.56 5.44l.94 2.06.94-2.06 2.06-.94-2.06-.94-.94-2.06-.94 2.06-2.06.94zm-11 1L8.5 8.5l.94-2.06 2.06-.94-2.06-.94L8.5 2.5l-.94 2.06-2.06.94zm10 10l.94 2.06.94-2.06 2.06-.94-2.06-.94-.94-2.06-.94 2.06-2.06.94z\"/><path d=\"M17.41 7.96l-1.37-1.37c-.4-.4-.92-.59-1.43-.59-.52 0-1.04.2-1.43.59L10.3 9.45l-7.72 7.72c-.78.78-.78 2.05 0 2.83L4 21.41c.39.39.9.59 1.41.59.51 0 1.02-.2 1.41-.59l7.78-7.78 2.81-2.81c.8-.78.8-2.07 0-2.86zM5.41 20L4 18.59l7.72-7.72 1.47 1.35L5.41 20z\"/>\n",
              "  </svg>\n",
              "      </button>\n",
              "      \n",
              "  <style>\n",
              "    .colab-df-container {\n",
              "      display:flex;\n",
              "      flex-wrap:wrap;\n",
              "      gap: 12px;\n",
              "    }\n",
              "\n",
              "    .colab-df-convert {\n",
              "      background-color: #E8F0FE;\n",
              "      border: none;\n",
              "      border-radius: 50%;\n",
              "      cursor: pointer;\n",
              "      display: none;\n",
              "      fill: #1967D2;\n",
              "      height: 32px;\n",
              "      padding: 0 0 0 0;\n",
              "      width: 32px;\n",
              "    }\n",
              "\n",
              "    .colab-df-convert:hover {\n",
              "      background-color: #E2EBFA;\n",
              "      box-shadow: 0px 1px 2px rgba(60, 64, 67, 0.3), 0px 1px 3px 1px rgba(60, 64, 67, 0.15);\n",
              "      fill: #174EA6;\n",
              "    }\n",
              "\n",
              "    [theme=dark] .colab-df-convert {\n",
              "      background-color: #3B4455;\n",
              "      fill: #D2E3FC;\n",
              "    }\n",
              "\n",
              "    [theme=dark] .colab-df-convert:hover {\n",
              "      background-color: #434B5C;\n",
              "      box-shadow: 0px 1px 3px 1px rgba(0, 0, 0, 0.15);\n",
              "      filter: drop-shadow(0px 1px 2px rgba(0, 0, 0, 0.3));\n",
              "      fill: #FFFFFF;\n",
              "    }\n",
              "  </style>\n",
              "\n",
              "      <script>\n",
              "        const buttonEl =\n",
              "          document.querySelector('#df-778f2146-5710-4a4c-b98a-3eef0e7936ce button.colab-df-convert');\n",
              "        buttonEl.style.display =\n",
              "          google.colab.kernel.accessAllowed ? 'block' : 'none';\n",
              "\n",
              "        async function convertToInteractive(key) {\n",
              "          const element = document.querySelector('#df-778f2146-5710-4a4c-b98a-3eef0e7936ce');\n",
              "          const dataTable =\n",
              "            await google.colab.kernel.invokeFunction('convertToInteractive',\n",
              "                                                     [key], {});\n",
              "          if (!dataTable) return;\n",
              "\n",
              "          const docLinkHtml = 'Like what you see? Visit the ' +\n",
              "            '<a target=\"_blank\" href=https://colab.research.google.com/notebooks/data_table.ipynb>data table notebook</a>'\n",
              "            + ' to learn more about interactive tables.';\n",
              "          element.innerHTML = '';\n",
              "          dataTable['output_type'] = 'display_data';\n",
              "          await google.colab.output.renderOutput(dataTable, element);\n",
              "          const docLink = document.createElement('div');\n",
              "          docLink.innerHTML = docLinkHtml;\n",
              "          element.appendChild(docLink);\n",
              "        }\n",
              "      </script>\n",
              "    </div>\n",
              "  </div>\n",
              "  "
            ]
          },
          "metadata": {},
          "execution_count": 18
        }
      ]
    },
    {
      "cell_type": "code",
      "source": [
        "df_y_train.head()"
      ],
      "metadata": {
        "colab": {
          "base_uri": "https://localhost:8080/",
          "height": 206
        },
        "id": "yCU-VGfupkId",
        "outputId": "508d54ef-3538-44bb-e005-a53517e4ddd6"
      },
      "execution_count": null,
      "outputs": [
        {
          "output_type": "execute_result",
          "data": {
            "text/plain": [
              "       Loan_Status\n",
              "16596            0\n",
              "80236            0\n",
              "51215            0\n",
              "45152            0\n",
              "87116            0"
            ],
            "text/html": [
              "\n",
              "  <div id=\"df-a56b0c2b-6dd2-4d1e-9a4f-668b6d3d36f0\">\n",
              "    <div class=\"colab-df-container\">\n",
              "      <div>\n",
              "<style scoped>\n",
              "    .dataframe tbody tr th:only-of-type {\n",
              "        vertical-align: middle;\n",
              "    }\n",
              "\n",
              "    .dataframe tbody tr th {\n",
              "        vertical-align: top;\n",
              "    }\n",
              "\n",
              "    .dataframe thead th {\n",
              "        text-align: right;\n",
              "    }\n",
              "</style>\n",
              "<table border=\"1\" class=\"dataframe\">\n",
              "  <thead>\n",
              "    <tr style=\"text-align: right;\">\n",
              "      <th></th>\n",
              "      <th>Loan_Status</th>\n",
              "    </tr>\n",
              "  </thead>\n",
              "  <tbody>\n",
              "    <tr>\n",
              "      <th>16596</th>\n",
              "      <td>0</td>\n",
              "    </tr>\n",
              "    <tr>\n",
              "      <th>80236</th>\n",
              "      <td>0</td>\n",
              "    </tr>\n",
              "    <tr>\n",
              "      <th>51215</th>\n",
              "      <td>0</td>\n",
              "    </tr>\n",
              "    <tr>\n",
              "      <th>45152</th>\n",
              "      <td>0</td>\n",
              "    </tr>\n",
              "    <tr>\n",
              "      <th>87116</th>\n",
              "      <td>0</td>\n",
              "    </tr>\n",
              "  </tbody>\n",
              "</table>\n",
              "</div>\n",
              "      <button class=\"colab-df-convert\" onclick=\"convertToInteractive('df-a56b0c2b-6dd2-4d1e-9a4f-668b6d3d36f0')\"\n",
              "              title=\"Convert this dataframe to an interactive table.\"\n",
              "              style=\"display:none;\">\n",
              "        \n",
              "  <svg xmlns=\"http://www.w3.org/2000/svg\" height=\"24px\"viewBox=\"0 0 24 24\"\n",
              "       width=\"24px\">\n",
              "    <path d=\"M0 0h24v24H0V0z\" fill=\"none\"/>\n",
              "    <path d=\"M18.56 5.44l.94 2.06.94-2.06 2.06-.94-2.06-.94-.94-2.06-.94 2.06-2.06.94zm-11 1L8.5 8.5l.94-2.06 2.06-.94-2.06-.94L8.5 2.5l-.94 2.06-2.06.94zm10 10l.94 2.06.94-2.06 2.06-.94-2.06-.94-.94-2.06-.94 2.06-2.06.94z\"/><path d=\"M17.41 7.96l-1.37-1.37c-.4-.4-.92-.59-1.43-.59-.52 0-1.04.2-1.43.59L10.3 9.45l-7.72 7.72c-.78.78-.78 2.05 0 2.83L4 21.41c.39.39.9.59 1.41.59.51 0 1.02-.2 1.41-.59l7.78-7.78 2.81-2.81c.8-.78.8-2.07 0-2.86zM5.41 20L4 18.59l7.72-7.72 1.47 1.35L5.41 20z\"/>\n",
              "  </svg>\n",
              "      </button>\n",
              "      \n",
              "  <style>\n",
              "    .colab-df-container {\n",
              "      display:flex;\n",
              "      flex-wrap:wrap;\n",
              "      gap: 12px;\n",
              "    }\n",
              "\n",
              "    .colab-df-convert {\n",
              "      background-color: #E8F0FE;\n",
              "      border: none;\n",
              "      border-radius: 50%;\n",
              "      cursor: pointer;\n",
              "      display: none;\n",
              "      fill: #1967D2;\n",
              "      height: 32px;\n",
              "      padding: 0 0 0 0;\n",
              "      width: 32px;\n",
              "    }\n",
              "\n",
              "    .colab-df-convert:hover {\n",
              "      background-color: #E2EBFA;\n",
              "      box-shadow: 0px 1px 2px rgba(60, 64, 67, 0.3), 0px 1px 3px 1px rgba(60, 64, 67, 0.15);\n",
              "      fill: #174EA6;\n",
              "    }\n",
              "\n",
              "    [theme=dark] .colab-df-convert {\n",
              "      background-color: #3B4455;\n",
              "      fill: #D2E3FC;\n",
              "    }\n",
              "\n",
              "    [theme=dark] .colab-df-convert:hover {\n",
              "      background-color: #434B5C;\n",
              "      box-shadow: 0px 1px 3px 1px rgba(0, 0, 0, 0.15);\n",
              "      filter: drop-shadow(0px 1px 2px rgba(0, 0, 0, 0.3));\n",
              "      fill: #FFFFFF;\n",
              "    }\n",
              "  </style>\n",
              "\n",
              "      <script>\n",
              "        const buttonEl =\n",
              "          document.querySelector('#df-a56b0c2b-6dd2-4d1e-9a4f-668b6d3d36f0 button.colab-df-convert');\n",
              "        buttonEl.style.display =\n",
              "          google.colab.kernel.accessAllowed ? 'block' : 'none';\n",
              "\n",
              "        async function convertToInteractive(key) {\n",
              "          const element = document.querySelector('#df-a56b0c2b-6dd2-4d1e-9a4f-668b6d3d36f0');\n",
              "          const dataTable =\n",
              "            await google.colab.kernel.invokeFunction('convertToInteractive',\n",
              "                                                     [key], {});\n",
              "          if (!dataTable) return;\n",
              "\n",
              "          const docLinkHtml = 'Like what you see? Visit the ' +\n",
              "            '<a target=\"_blank\" href=https://colab.research.google.com/notebooks/data_table.ipynb>data table notebook</a>'\n",
              "            + ' to learn more about interactive tables.';\n",
              "          element.innerHTML = '';\n",
              "          dataTable['output_type'] = 'display_data';\n",
              "          await google.colab.output.renderOutput(dataTable, element);\n",
              "          const docLink = document.createElement('div');\n",
              "          docLink.innerHTML = docLinkHtml;\n",
              "          element.appendChild(docLink);\n",
              "        }\n",
              "      </script>\n",
              "    </div>\n",
              "  </div>\n",
              "  "
            ]
          },
          "metadata": {},
          "execution_count": 19
        }
      ]
    },
    {
      "cell_type": "code",
      "source": [],
      "metadata": {
        "id": "V2PtKwK8ppBx"
      },
      "execution_count": null,
      "outputs": []
    },
    {
      "cell_type": "code",
      "source": [
        "bal_df=pd.concat([df_train, gen_default], ignore_index=True, sort=False)"
      ],
      "metadata": {
        "id": "l2T9-aVKo-1I"
      },
      "execution_count": null,
      "outputs": []
    },
    {
      "cell_type": "code",
      "source": [
        "bal_df.head()"
      ],
      "metadata": {
        "colab": {
          "base_uri": "https://localhost:8080/",
          "height": 270
        },
        "id": "QKUfH7sYpY8L",
        "outputId": "a11f6696-bb20-49a2-93ed-2d84e8aa523b"
      },
      "execution_count": null,
      "outputs": [
        {
          "output_type": "execute_result",
          "data": {
            "text/plain": [
              "   Term  Home_Ownership  Purpose  Current_Loan_Amount  Credit_Score  \\\n",
              "0     0               3        3               543730           631   \n",
              "1     1               3        1               770616           715   \n",
              "2     1               1        3               737572           706   \n",
              "3     1               1        3               441056           719   \n",
              "4     1               1        0                71566           722   \n",
              "\n",
              "   Annual_Income  Years_in_current_job  Monthly_Debt  Years_of_Credit_History  \\\n",
              "0        1408755                     4      18196.49                     15.0   \n",
              "1        1616292                     8      40407.30                     18.4   \n",
              "2        2906430                     1      12497.63                     12.6   \n",
              "3        1195784                    10      24015.43                     17.9   \n",
              "4        1769109                     6      19460.37                     24.0   \n",
              "\n",
              "   Number_of_Open_Accounts  Number_of_Credit_Problems  Current_Credit_Balance  \\\n",
              "0                       15                          0                  120821   \n",
              "1                       11                          0                  263891   \n",
              "2                        7                          0                  191919   \n",
              "3                       12                          0                  643568   \n",
              "4                        5                          0                  178809   \n",
              "\n",
              "   Maximum_Open_Credit  Bankruptcies  Tax_Liens  Loan_Status  \n",
              "0               178420             0          0            0  \n",
              "1               350020             0          0            0  \n",
              "2               428186             0          0            0  \n",
              "3               852588             0          0            0  \n",
              "4               212344             0          0            0  "
            ],
            "text/html": [
              "\n",
              "  <div id=\"df-804e60c8-f5ad-41c0-9903-227c1e076a02\">\n",
              "    <div class=\"colab-df-container\">\n",
              "      <div>\n",
              "<style scoped>\n",
              "    .dataframe tbody tr th:only-of-type {\n",
              "        vertical-align: middle;\n",
              "    }\n",
              "\n",
              "    .dataframe tbody tr th {\n",
              "        vertical-align: top;\n",
              "    }\n",
              "\n",
              "    .dataframe thead th {\n",
              "        text-align: right;\n",
              "    }\n",
              "</style>\n",
              "<table border=\"1\" class=\"dataframe\">\n",
              "  <thead>\n",
              "    <tr style=\"text-align: right;\">\n",
              "      <th></th>\n",
              "      <th>Term</th>\n",
              "      <th>Home_Ownership</th>\n",
              "      <th>Purpose</th>\n",
              "      <th>Current_Loan_Amount</th>\n",
              "      <th>Credit_Score</th>\n",
              "      <th>Annual_Income</th>\n",
              "      <th>Years_in_current_job</th>\n",
              "      <th>Monthly_Debt</th>\n",
              "      <th>Years_of_Credit_History</th>\n",
              "      <th>Number_of_Open_Accounts</th>\n",
              "      <th>Number_of_Credit_Problems</th>\n",
              "      <th>Current_Credit_Balance</th>\n",
              "      <th>Maximum_Open_Credit</th>\n",
              "      <th>Bankruptcies</th>\n",
              "      <th>Tax_Liens</th>\n",
              "      <th>Loan_Status</th>\n",
              "    </tr>\n",
              "  </thead>\n",
              "  <tbody>\n",
              "    <tr>\n",
              "      <th>0</th>\n",
              "      <td>0</td>\n",
              "      <td>3</td>\n",
              "      <td>3</td>\n",
              "      <td>543730</td>\n",
              "      <td>631</td>\n",
              "      <td>1408755</td>\n",
              "      <td>4</td>\n",
              "      <td>18196.49</td>\n",
              "      <td>15.0</td>\n",
              "      <td>15</td>\n",
              "      <td>0</td>\n",
              "      <td>120821</td>\n",
              "      <td>178420</td>\n",
              "      <td>0</td>\n",
              "      <td>0</td>\n",
              "      <td>0</td>\n",
              "    </tr>\n",
              "    <tr>\n",
              "      <th>1</th>\n",
              "      <td>1</td>\n",
              "      <td>3</td>\n",
              "      <td>1</td>\n",
              "      <td>770616</td>\n",
              "      <td>715</td>\n",
              "      <td>1616292</td>\n",
              "      <td>8</td>\n",
              "      <td>40407.30</td>\n",
              "      <td>18.4</td>\n",
              "      <td>11</td>\n",
              "      <td>0</td>\n",
              "      <td>263891</td>\n",
              "      <td>350020</td>\n",
              "      <td>0</td>\n",
              "      <td>0</td>\n",
              "      <td>0</td>\n",
              "    </tr>\n",
              "    <tr>\n",
              "      <th>2</th>\n",
              "      <td>1</td>\n",
              "      <td>1</td>\n",
              "      <td>3</td>\n",
              "      <td>737572</td>\n",
              "      <td>706</td>\n",
              "      <td>2906430</td>\n",
              "      <td>1</td>\n",
              "      <td>12497.63</td>\n",
              "      <td>12.6</td>\n",
              "      <td>7</td>\n",
              "      <td>0</td>\n",
              "      <td>191919</td>\n",
              "      <td>428186</td>\n",
              "      <td>0</td>\n",
              "      <td>0</td>\n",
              "      <td>0</td>\n",
              "    </tr>\n",
              "    <tr>\n",
              "      <th>3</th>\n",
              "      <td>1</td>\n",
              "      <td>1</td>\n",
              "      <td>3</td>\n",
              "      <td>441056</td>\n",
              "      <td>719</td>\n",
              "      <td>1195784</td>\n",
              "      <td>10</td>\n",
              "      <td>24015.43</td>\n",
              "      <td>17.9</td>\n",
              "      <td>12</td>\n",
              "      <td>0</td>\n",
              "      <td>643568</td>\n",
              "      <td>852588</td>\n",
              "      <td>0</td>\n",
              "      <td>0</td>\n",
              "      <td>0</td>\n",
              "    </tr>\n",
              "    <tr>\n",
              "      <th>4</th>\n",
              "      <td>1</td>\n",
              "      <td>1</td>\n",
              "      <td>0</td>\n",
              "      <td>71566</td>\n",
              "      <td>722</td>\n",
              "      <td>1769109</td>\n",
              "      <td>6</td>\n",
              "      <td>19460.37</td>\n",
              "      <td>24.0</td>\n",
              "      <td>5</td>\n",
              "      <td>0</td>\n",
              "      <td>178809</td>\n",
              "      <td>212344</td>\n",
              "      <td>0</td>\n",
              "      <td>0</td>\n",
              "      <td>0</td>\n",
              "    </tr>\n",
              "  </tbody>\n",
              "</table>\n",
              "</div>\n",
              "      <button class=\"colab-df-convert\" onclick=\"convertToInteractive('df-804e60c8-f5ad-41c0-9903-227c1e076a02')\"\n",
              "              title=\"Convert this dataframe to an interactive table.\"\n",
              "              style=\"display:none;\">\n",
              "        \n",
              "  <svg xmlns=\"http://www.w3.org/2000/svg\" height=\"24px\"viewBox=\"0 0 24 24\"\n",
              "       width=\"24px\">\n",
              "    <path d=\"M0 0h24v24H0V0z\" fill=\"none\"/>\n",
              "    <path d=\"M18.56 5.44l.94 2.06.94-2.06 2.06-.94-2.06-.94-.94-2.06-.94 2.06-2.06.94zm-11 1L8.5 8.5l.94-2.06 2.06-.94-2.06-.94L8.5 2.5l-.94 2.06-2.06.94zm10 10l.94 2.06.94-2.06 2.06-.94-2.06-.94-.94-2.06-.94 2.06-2.06.94z\"/><path d=\"M17.41 7.96l-1.37-1.37c-.4-.4-.92-.59-1.43-.59-.52 0-1.04.2-1.43.59L10.3 9.45l-7.72 7.72c-.78.78-.78 2.05 0 2.83L4 21.41c.39.39.9.59 1.41.59.51 0 1.02-.2 1.41-.59l7.78-7.78 2.81-2.81c.8-.78.8-2.07 0-2.86zM5.41 20L4 18.59l7.72-7.72 1.47 1.35L5.41 20z\"/>\n",
              "  </svg>\n",
              "      </button>\n",
              "      \n",
              "  <style>\n",
              "    .colab-df-container {\n",
              "      display:flex;\n",
              "      flex-wrap:wrap;\n",
              "      gap: 12px;\n",
              "    }\n",
              "\n",
              "    .colab-df-convert {\n",
              "      background-color: #E8F0FE;\n",
              "      border: none;\n",
              "      border-radius: 50%;\n",
              "      cursor: pointer;\n",
              "      display: none;\n",
              "      fill: #1967D2;\n",
              "      height: 32px;\n",
              "      padding: 0 0 0 0;\n",
              "      width: 32px;\n",
              "    }\n",
              "\n",
              "    .colab-df-convert:hover {\n",
              "      background-color: #E2EBFA;\n",
              "      box-shadow: 0px 1px 2px rgba(60, 64, 67, 0.3), 0px 1px 3px 1px rgba(60, 64, 67, 0.15);\n",
              "      fill: #174EA6;\n",
              "    }\n",
              "\n",
              "    [theme=dark] .colab-df-convert {\n",
              "      background-color: #3B4455;\n",
              "      fill: #D2E3FC;\n",
              "    }\n",
              "\n",
              "    [theme=dark] .colab-df-convert:hover {\n",
              "      background-color: #434B5C;\n",
              "      box-shadow: 0px 1px 3px 1px rgba(0, 0, 0, 0.15);\n",
              "      filter: drop-shadow(0px 1px 2px rgba(0, 0, 0, 0.3));\n",
              "      fill: #FFFFFF;\n",
              "    }\n",
              "  </style>\n",
              "\n",
              "      <script>\n",
              "        const buttonEl =\n",
              "          document.querySelector('#df-804e60c8-f5ad-41c0-9903-227c1e076a02 button.colab-df-convert');\n",
              "        buttonEl.style.display =\n",
              "          google.colab.kernel.accessAllowed ? 'block' : 'none';\n",
              "\n",
              "        async function convertToInteractive(key) {\n",
              "          const element = document.querySelector('#df-804e60c8-f5ad-41c0-9903-227c1e076a02');\n",
              "          const dataTable =\n",
              "            await google.colab.kernel.invokeFunction('convertToInteractive',\n",
              "                                                     [key], {});\n",
              "          if (!dataTable) return;\n",
              "\n",
              "          const docLinkHtml = 'Like what you see? Visit the ' +\n",
              "            '<a target=\"_blank\" href=https://colab.research.google.com/notebooks/data_table.ipynb>data table notebook</a>'\n",
              "            + ' to learn more about interactive tables.';\n",
              "          element.innerHTML = '';\n",
              "          dataTable['output_type'] = 'display_data';\n",
              "          await google.colab.output.renderOutput(dataTable, element);\n",
              "          const docLink = document.createElement('div');\n",
              "          docLink.innerHTML = docLinkHtml;\n",
              "          element.appendChild(docLink);\n",
              "        }\n",
              "      </script>\n",
              "    </div>\n",
              "  </div>\n",
              "  "
            ]
          },
          "metadata": {},
          "execution_count": 21
        }
      ]
    },
    {
      "cell_type": "code",
      "source": [
        "bal_df.Loan_Status.value_counts(normalize=True)"
      ],
      "metadata": {
        "colab": {
          "base_uri": "https://localhost:8080/"
        },
        "id": "2iAZBAwYpsWD",
        "outputId": "7bcce42b-a088-4f4b-86af-a81a7475321d"
      },
      "execution_count": null,
      "outputs": [
        {
          "output_type": "execute_result",
          "data": {
            "text/plain": [
              "0    0.557078\n",
              "1    0.442922\n",
              "Name: Loan_Status, dtype: float64"
            ]
          },
          "metadata": {},
          "execution_count": 22
        }
      ]
    },
    {
      "cell_type": "code",
      "source": [
        "y_bal_df=bal_df[['Loan_Status']]"
      ],
      "metadata": {
        "id": "Q-2p5JfMrwd6"
      },
      "execution_count": null,
      "outputs": []
    },
    {
      "cell_type": "code",
      "source": [
        "x_bal_df=bal_df.drop(['Loan_Status'],axis=1)"
      ],
      "metadata": {
        "id": "I2SqNqfrr79n"
      },
      "execution_count": null,
      "outputs": []
    },
    {
      "cell_type": "code",
      "source": [
        "from sklearn.preprocessing import RobustScaler"
      ],
      "metadata": {
        "id": "ixMSvmBrq257"
      },
      "execution_count": null,
      "outputs": []
    },
    {
      "cell_type": "code",
      "source": [
        "scaler = RobustScaler()"
      ],
      "metadata": {
        "id": "Tj-4qYcwriSl"
      },
      "execution_count": null,
      "outputs": []
    },
    {
      "cell_type": "code",
      "source": [
        "x_train_scaled=scaler.fit_transform(x_bal_df)"
      ],
      "metadata": {
        "id": "huKwle7zrlk1"
      },
      "execution_count": null,
      "outputs": []
    },
    {
      "cell_type": "code",
      "source": [
        "x_test_scaled=scaler.transform(df_x_test)"
      ],
      "metadata": {
        "id": "TVskE59wsL7Z"
      },
      "execution_count": null,
      "outputs": []
    },
    {
      "cell_type": "code",
      "source": [
        "y_bal_df.value_counts()"
      ],
      "metadata": {
        "colab": {
          "base_uri": "https://localhost:8080/"
        },
        "id": "aOg011Dlwk82",
        "outputId": "03f0dd9f-0c2d-4545-b366-3c330869d1c0"
      },
      "execution_count": null,
      "outputs": [
        {
          "output_type": "execute_result",
          "data": {
            "text/plain": [
              "Loan_Status\n",
              "0              53558\n",
              "1              42583\n",
              "dtype: int64"
            ]
          },
          "metadata": {},
          "execution_count": 142
        }
      ]
    },
    {
      "cell_type": "code",
      "source": [
        "y=y_bal_df.to_numpy().ravel()"
      ],
      "metadata": {
        "id": "1WrL_XDjsQIF"
      },
      "execution_count": null,
      "outputs": []
    },
    {
      "cell_type": "code",
      "source": [
        "from sklearn.metrics import roc_curve, precision_recall_curve, auc, make_scorer, recall_score, accuracy_score, precision_score, confusion_matrix"
      ],
      "metadata": {
        "id": "lBGyVSzRuUEo"
      },
      "execution_count": null,
      "outputs": []
    },
    {
      "cell_type": "code",
      "source": [
        "a=make_scorer(recall_score)"
      ],
      "metadata": {
        "id": "mfExU4kjuVay"
      },
      "execution_count": null,
      "outputs": []
    },
    {
      "cell_type": "code",
      "source": [
        "solver='lbfgs',class_weight='balanced', max_iter=10000"
      ],
      "metadata": {
        "id": "5scBl8Kuue7v"
      },
      "execution_count": null,
      "outputs": []
    },
    {
      "cell_type": "code",
      "source": [
        "from sklearn.linear_model import LogisticRegression "
      ],
      "metadata": {
        "id": "-91tEySxvgYx"
      },
      "execution_count": null,
      "outputs": []
    },
    {
      "cell_type": "code",
      "source": [
        "from sklearn.model_selection import GridSearchCV\n",
        "\n",
        "params = {\"C\": np.logspace(-4, 4, 20),\n",
        "          \"solver\": [\"lbfgs\"],\n",
        "          \"class_weight\":[\"balanced\"],\n",
        "          \"max_iter\":[10000]}\n",
        "\n",
        "lr_clf = LogisticRegression()\n",
        "\n",
        "lr_cv = GridSearchCV(lr_clf, params, scoring='recall', n_jobs=-1, verbose=1, cv=5)\n",
        "lr_cv.fit(x_train_scaled, y)\n",
        "best_params = lr_cv.best_params_\n",
        "print(f\"Best parameters: {best_params}\")\n",
        "lr_clf = LogisticRegression(**best_params)\n",
        "\n",
        "lr_clf.fit(x_train_scaled, y)"
      ],
      "metadata": {
        "colab": {
          "base_uri": "https://localhost:8080/"
        },
        "id": "mYthSmy1t2ss",
        "outputId": "2b93ea6c-25df-4db5-b00e-09d7ced024cd"
      },
      "execution_count": null,
      "outputs": [
        {
          "output_type": "stream",
          "name": "stdout",
          "text": [
            "Fitting 5 folds for each of 20 candidates, totalling 100 fits\n",
            "Best parameters: {'C': 0.0001, 'class_weight': 'balanced', 'max_iter': 10000, 'solver': 'lbfgs'}\n"
          ]
        },
        {
          "output_type": "execute_result",
          "data": {
            "text/plain": [
              "LogisticRegression(C=0.0001, class_weight='balanced', max_iter=10000)"
            ]
          },
          "metadata": {},
          "execution_count": 43
        }
      ]
    },
    {
      "cell_type": "code",
      "source": [
        "from sklearn.metrics import classification_report"
      ],
      "metadata": {
        "id": "4Gxi-6pht2vG"
      },
      "execution_count": null,
      "outputs": []
    },
    {
      "cell_type": "code",
      "source": [
        "predict=lr_clf.predict(x_test_scaled)"
      ],
      "metadata": {
        "id": "8c0GsqP7t2xt"
      },
      "execution_count": null,
      "outputs": []
    },
    {
      "cell_type": "code",
      "source": [
        "report=classification_report(df_y_test,predict)\n",
        "print(report)"
      ],
      "metadata": {
        "colab": {
          "base_uri": "https://localhost:8080/"
        },
        "id": "bfSzQkY1zOs9",
        "outputId": "e8931109-a566-4f61-a479-76d94336672e"
      },
      "execution_count": null,
      "outputs": [
        {
          "output_type": "stream",
          "name": "stdout",
          "text": [
            "              precision    recall  f1-score   support\n",
            "\n",
            "           0       0.82      0.58      0.68     13448\n",
            "           1       0.33      0.62      0.43      4471\n",
            "\n",
            "    accuracy                           0.59     17919\n",
            "   macro avg       0.58      0.60      0.56     17919\n",
            "weighted avg       0.70      0.59      0.62     17919\n",
            "\n"
          ]
        }
      ]
    },
    {
      "cell_type": "code",
      "source": [],
      "metadata": {
        "id": "7H2g7Wy70Rpl"
      },
      "execution_count": null,
      "outputs": []
    },
    {
      "cell_type": "code",
      "source": [
        "predict=lr_clf.predict(x_test_scaled)"
      ],
      "metadata": {
        "id": "QirWKei10NKC"
      },
      "execution_count": null,
      "outputs": []
    },
    {
      "cell_type": "code",
      "source": [
        "report=classification_report(df_y_test,predict)\n",
        "print(report)"
      ],
      "metadata": {
        "colab": {
          "base_uri": "https://localhost:8080/"
        },
        "id": "vUPbVBoI0Scs",
        "outputId": "395c5f4d-4478-47c9-80dc-b6796ab8a36b"
      },
      "execution_count": null,
      "outputs": [
        {
          "output_type": "stream",
          "name": "stdout",
          "text": [
            "              precision    recall  f1-score   support\n",
            "\n",
            "           0       0.82      0.58      0.68     13448\n",
            "           1       0.33      0.62      0.43      4471\n",
            "\n",
            "    accuracy                           0.59     17919\n",
            "   macro avg       0.58      0.60      0.56     17919\n",
            "weighted avg       0.70      0.59      0.62     17919\n",
            "\n"
          ]
        }
      ]
    },
    {
      "cell_type": "code",
      "source": [
        "b=a=make_scorer(recall_score,pos_label=1)"
      ],
      "metadata": {
        "id": "VaPF4i195Vwd"
      },
      "execution_count": null,
      "outputs": []
    },
    {
      "cell_type": "code",
      "source": [
        "b=make_scorer(recall_score,pos_label=1)"
      ],
      "metadata": {
        "id": "FFGXTIgz51Sd"
      },
      "execution_count": null,
      "outputs": []
    },
    {
      "cell_type": "code",
      "source": [
        "from sklearn.ensemble import RandomForestClassifier"
      ],
      "metadata": {
        "id": "dmORETbo1XHH"
      },
      "execution_count": null,
      "outputs": []
    },
    {
      "cell_type": "code",
      "source": [
        "from sklearn.model_selection import GridSearchCV\n",
        "n_estimators = [20,60,100, 120]\n",
        "max_features = ['auto', 'sqrt']\n",
        "max_depth = [2, 3, 5, 10, 15, None]\n",
        "min_samples_split = [2, 5, 10]\n",
        "min_samples_leaf = [1, 2, 4]\n",
        "\n",
        "params_grid = {\n",
        "    'n_estimators': n_estimators, \n",
        "    'max_features': max_features,\n",
        "    'max_depth': max_depth, \n",
        "    'min_samples_split': min_samples_split,\n",
        "    'min_samples_leaf': min_samples_leaf\n",
        "              }\n",
        "\n",
        "rf_clf = RandomForestClassifier(random_state=42)\n",
        "rf_cv = GridSearchCV(rf_clf, params_grid, scoring='recall', cv=3, verbose=1, n_jobs=-1)\n",
        "rf_cv.fit(x_train_scaled, y)\n",
        "best_params = rf_cv.best_params_\n",
        "print(f\"Best parameters: {best_params}\")\n",
        "\n",
        "rf_clf = RandomForestClassifier(**best_params)\n",
        "rf_clf.fit(x_train_scaled, y)"
      ],
      "metadata": {
        "colab": {
          "base_uri": "https://localhost:8080/"
        },
        "id": "Gt4qKyLW0tEY",
        "outputId": "5b7919ee-4b07-4430-b1ed-707757f8940e"
      },
      "execution_count": null,
      "outputs": [
        {
          "output_type": "stream",
          "name": "stdout",
          "text": [
            "Fitting 3 folds for each of 432 candidates, totalling 1296 fits\n"
          ]
        },
        {
          "output_type": "stream",
          "name": "stderr",
          "text": [
            "/usr/local/lib/python3.8/dist-packages/joblib/externals/loky/process_executor.py:700: UserWarning: A worker stopped while some jobs were given to the executor. This can be caused by a too short worker timeout or by a memory leak.\n",
            "  warnings.warn(\n"
          ]
        },
        {
          "output_type": "stream",
          "name": "stdout",
          "text": [
            "Best parameters: {'max_depth': None, 'max_features': 'auto', 'min_samples_leaf': 1, 'min_samples_split': 2, 'n_estimators': 60}\n"
          ]
        },
        {
          "output_type": "execute_result",
          "data": {
            "text/plain": [
              "RandomForestClassifier(n_estimators=60)"
            ]
          },
          "metadata": {},
          "execution_count": 34
        }
      ]
    },
    {
      "cell_type": "code",
      "source": [
        "from sklearn.model_selection import GridSearchCV\n",
        "n_estimators = [20,60,100, 120]\n",
        "max_features = ['auto', 'sqrt']\n",
        "max_depth = [2, 3, 5, 10, 15, None]\n",
        "min_samples_split = [2, 5, 10]\n",
        "min_samples_leaf = [1, 2, 4]\n",
        " \n",
        "bootstrap = [True, False] \n",
        "params_grid = {\n",
        "    'n_estimators': n_estimators, \n",
        "    'max_features': max_features,\n",
        "    'max_depth': max_depth, \n",
        "    'min_samples_split': min_samples_split,\n",
        "    'min_samples_leaf': min_samples_leaf,\n",
        "      'bootstrap':bootstrap    }\n",
        "\n",
        "rf_clf = RandomForestClassifier(random_state=42)\n",
        "rf_cv = GridSearchCV(rf_clf, params_grid, scoring=b, cv=3, verbose=1, n_jobs=-1)\n",
        "rf_cv.fit(x_train_scaled, y)\n",
        "best_params = rf_cv.best_params_\n",
        "print(f\"Best parameters: {best_params}\")\n",
        "\n",
        "rf_clf = RandomForestClassifier(**best_params)\n",
        "rf_clf.fit(x_train_scaled, y)"
      ],
      "metadata": {
        "colab": {
          "base_uri": "https://localhost:8080/"
        },
        "id": "PFLT1dBhrHWs",
        "outputId": "ed7669bd-ba66-449c-d903-8df2cadfa3ad"
      },
      "execution_count": null,
      "outputs": [
        {
          "metadata": {
            "tags": null
          },
          "name": "stdout",
          "output_type": "stream",
          "text": [
            "Fitting 3 folds for each of 864 candidates, totalling 2592 fits\n"
          ]
        },
        {
          "metadata": {
            "tags": null
          },
          "name": "stderr",
          "output_type": "stream",
          "text": [
            "/usr/local/lib/python3.8/dist-packages/joblib/externals/loky/process_executor.py:700: UserWarning: A worker stopped while some jobs were given to the executor. This can be caused by a too short worker timeout or by a memory leak.\n",
            "  warnings.warn(\n"
          ]
        },
        {
          "output_type": "stream",
          "name": "stdout",
          "text": [
            "Best parameters: {'bootstrap': False, 'max_depth': None, 'max_features': 'auto', 'min_samples_leaf': 1, 'min_samples_split': 5, 'n_estimators': 20}\n"
          ]
        },
        {
          "output_type": "execute_result",
          "data": {
            "text/plain": [
              "RandomForestClassifier(bootstrap=False, min_samples_split=5, n_estimators=20)"
            ]
          },
          "metadata": {},
          "execution_count": 61
        }
      ]
    },
    {
      "cell_type": "code",
      "source": [
        "predict=rf_clf.predict(x_test_scaled)"
      ],
      "metadata": {
        "id": "s3UlmMId7amg"
      },
      "execution_count": null,
      "outputs": []
    },
    {
      "cell_type": "code",
      "source": [
        "report=classification_report(df_y_test,predict)\n",
        "print(report)"
      ],
      "metadata": {
        "colab": {
          "base_uri": "https://localhost:8080/"
        },
        "id": "sY9t0c6-7fUp",
        "outputId": "0951b161-6237-4296-f14f-9c08de590c03"
      },
      "execution_count": null,
      "outputs": [
        {
          "output_type": "stream",
          "name": "stdout",
          "text": [
            "              precision    recall  f1-score   support\n",
            "\n",
            "           0       0.77      0.92      0.84     13448\n",
            "           1       0.41      0.17      0.24      4471\n",
            "\n",
            "    accuracy                           0.73     17919\n",
            "   macro avg       0.59      0.55      0.54     17919\n",
            "weighted avg       0.68      0.73      0.69     17919\n",
            "\n"
          ]
        }
      ]
    },
    {
      "cell_type": "code",
      "source": [
        "rf_clf2 = RandomForestClassifier(n_estimators=50)"
      ],
      "metadata": {
        "id": "PPfuh0c573Aq"
      },
      "execution_count": null,
      "outputs": []
    },
    {
      "cell_type": "code",
      "source": [],
      "metadata": {
        "id": "zLnwSD14ndcc"
      },
      "execution_count": null,
      "outputs": []
    },
    {
      "cell_type": "code",
      "source": [
        "rf_clf2.fit(x_bal_df, y)"
      ],
      "metadata": {
        "colab": {
          "base_uri": "https://localhost:8080/"
        },
        "id": "TCEIuCEZ8HLy",
        "outputId": "56167f03-85e6-457b-ee10-01a3fbbda22e"
      },
      "execution_count": null,
      "outputs": [
        {
          "output_type": "execute_result",
          "data": {
            "text/plain": [
              "RandomForestClassifier(n_estimators=50)"
            ]
          },
          "metadata": {},
          "execution_count": 127
        }
      ]
    },
    {
      "cell_type": "code",
      "source": [],
      "metadata": {
        "id": "Q9TB9Hih8PPs"
      },
      "execution_count": null,
      "outputs": []
    },
    {
      "cell_type": "code",
      "source": [
        "predict=rf_clf2.predict(df_x_test)"
      ],
      "metadata": {
        "id": "bQvvlGbb8AwV"
      },
      "execution_count": null,
      "outputs": []
    },
    {
      "cell_type": "code",
      "source": [
        "report=classification_report(df_y_test,predict)\n",
        "print(report)"
      ],
      "metadata": {
        "colab": {
          "base_uri": "https://localhost:8080/"
        },
        "id": "xNjAgFs8qy4C",
        "outputId": "669e8780-cc00-4158-c1f5-703d8cfac110"
      },
      "execution_count": null,
      "outputs": [
        {
          "output_type": "stream",
          "name": "stdout",
          "text": [
            "              precision    recall  f1-score   support\n",
            "\n",
            "           0       0.78      0.90      0.84     13448\n",
            "           1       0.45      0.25      0.32      4471\n",
            "\n",
            "    accuracy                           0.74     17919\n",
            "   macro avg       0.61      0.57      0.58     17919\n",
            "weighted avg       0.70      0.74      0.71     17919\n",
            "\n"
          ]
        }
      ]
    },
    {
      "cell_type": "code",
      "source": [],
      "metadata": {
        "id": "GfaFBUgv0v0-"
      },
      "execution_count": null,
      "outputs": []
    },
    {
      "cell_type": "code",
      "source": [],
      "metadata": {
        "id": "62YUez3k0sAj"
      },
      "execution_count": null,
      "outputs": []
    },
    {
      "cell_type": "code",
      "source": [
        "# Number of trees in random forest\n",
        "n_estimators = [20,60,100,120]\n",
        "# Number of features to consider at every split\n",
        "max_features = ['auto', 'sqrt']\n",
        "# Maximum number of levels in tree\n",
        "max_depth = [2,3,4,5]\n",
        "# Minimum number of samples required to split a node\n",
        "min_samples_split = [2,3,4, 5]\n",
        "# Minimum number of samples required at each leaf node\n",
        "min_samples_leaf = [1, 2]\n",
        "# Method of selecting samples for training each tree\n",
        "bootstrap = [True, False]"
      ],
      "metadata": {
        "id": "Dx20Lrh81Nkx"
      },
      "execution_count": null,
      "outputs": []
    },
    {
      "cell_type": "code",
      "source": [
        "from sklearn.metrics import roc_curve, precision_recall_curve, auc, make_scorer, recall_score, accuracy_score, precision_score, confusion_matrix"
      ],
      "metadata": {
        "id": "dSzfSBQK1bak"
      },
      "execution_count": null,
      "outputs": []
    },
    {
      "cell_type": "code",
      "source": [
        "a=make_scorer(recall_score)"
      ],
      "metadata": {
        "id": "V3bQJh0H1bho"
      },
      "execution_count": null,
      "outputs": []
    },
    {
      "cell_type": "code",
      "source": [
        "# Create the param grid\n",
        "param_grid = {'n_estimators': n_estimators,\n",
        "               'max_features': max_features,\n",
        "               'max_depth': max_depth,\n",
        "               'min_samples_split': min_samples_split,\n",
        "               'min_samples_leaf': min_samples_leaf,\n",
        "               'bootstrap': bootstrap}\n",
        "print(param_grid)"
      ],
      "metadata": {
        "colab": {
          "base_uri": "https://localhost:8080/"
        },
        "id": "qRDaTtn71bkT",
        "outputId": "32cbe57d-c696-455e-faa6-abb3d280fdcb"
      },
      "execution_count": null,
      "outputs": [
        {
          "output_type": "stream",
          "name": "stdout",
          "text": [
            "{'n_estimators': [20, 60, 100, 120], 'max_features': ['auto', 'sqrt'], 'max_depth': [2, 3, 4, 5], 'min_samples_split': [2, 3, 4, 5], 'min_samples_leaf': [1, 2], 'bootstrap': [True, False]}\n"
          ]
        }
      ]
    },
    {
      "cell_type": "code",
      "source": [
        "from sklearn.model_selection import GridSearchCV"
      ],
      "metadata": {
        "id": "ZiilYVi71bsQ"
      },
      "execution_count": null,
      "outputs": []
    },
    {
      "cell_type": "code",
      "source": [
        "rfc=RandomForestClassifier()"
      ],
      "metadata": {
        "id": "MJ11i_kL2Dya"
      },
      "execution_count": null,
      "outputs": []
    },
    {
      "cell_type": "code",
      "source": [
        "rf_Grid = GridSearchCV(estimator = rfc, param_grid = param_grid,scoring=a, cv = 3, verbose=2, n_jobs = 4)"
      ],
      "metadata": {
        "id": "TUsKMF0o16xF"
      },
      "execution_count": null,
      "outputs": []
    },
    {
      "cell_type": "code",
      "source": [
        "rf_Grid.fit(x_train_scaled,y)"
      ],
      "metadata": {
        "colab": {
          "base_uri": "https://localhost:8080/"
        },
        "id": "E_HzPbQq2kSt",
        "outputId": "0d671901-e427-4991-8ca1-b85e300ea097"
      },
      "execution_count": null,
      "outputs": [
        {
          "output_type": "stream",
          "name": "stdout",
          "text": [
            "Fitting 3 folds for each of 512 candidates, totalling 1536 fits\n"
          ]
        },
        {
          "output_type": "execute_result",
          "data": {
            "text/plain": [
              "GridSearchCV(cv=3, estimator=RandomForestClassifier(), n_jobs=4,\n",
              "             param_grid={'bootstrap': [True, False], 'max_depth': [2, 3, 4, 5],\n",
              "                         'max_features': ['auto', 'sqrt'],\n",
              "                         'min_samples_leaf': [1, 2],\n",
              "                         'min_samples_split': [2, 3, 4, 5],\n",
              "                         'n_estimators': [20, 60, 100, 120]},\n",
              "             scoring=make_scorer(recall_score), verbose=2)"
            ]
          },
          "metadata": {},
          "execution_count": 70
        }
      ]
    },
    {
      "cell_type": "code",
      "source": [
        "p=rf_Grid.best_params_"
      ],
      "metadata": {
        "id": "T2KCTyaR3Qep"
      },
      "execution_count": null,
      "outputs": []
    },
    {
      "cell_type": "code",
      "source": [
        "rfc2=RandomForestClassifier(**p)"
      ],
      "metadata": {
        "id": "ydJfVUIZUR42"
      },
      "execution_count": null,
      "outputs": []
    },
    {
      "cell_type": "code",
      "source": [
        "rfc2.fit(x_train_scaled,y)"
      ],
      "metadata": {
        "colab": {
          "base_uri": "https://localhost:8080/"
        },
        "id": "l3GUVI9U2TqY",
        "outputId": "203f0dc6-11e1-4543-d78a-255467399546"
      },
      "execution_count": null,
      "outputs": [
        {
          "output_type": "execute_result",
          "data": {
            "text/plain": [
              "RandomForestClassifier(bootstrap=False, max_depth=4, max_features='sqrt',\n",
              "                       min_samples_split=5, n_estimators=20)"
            ]
          },
          "metadata": {},
          "execution_count": 73
        }
      ]
    },
    {
      "cell_type": "code",
      "source": [
        "predict=rfc2.predict(x_test_scaled)"
      ],
      "metadata": {
        "id": "XjHXBXhxU2fp"
      },
      "execution_count": null,
      "outputs": []
    },
    {
      "cell_type": "code",
      "source": [
        "report=classification_report(df_y_test,predict)\n",
        "print(report)"
      ],
      "metadata": {
        "colab": {
          "base_uri": "https://localhost:8080/"
        },
        "id": "u4u_HEUg2Tsi",
        "outputId": "11224c25-5f61-436a-a62f-43556e12c12e"
      },
      "execution_count": null,
      "outputs": [
        {
          "output_type": "stream",
          "name": "stdout",
          "text": [
            "              precision    recall  f1-score   support\n",
            "\n",
            "           0       0.79      0.80      0.80     13448\n",
            "           1       0.38      0.38      0.38      4471\n",
            "\n",
            "    accuracy                           0.69     17919\n",
            "   macro avg       0.59      0.59      0.59     17919\n",
            "weighted avg       0.69      0.69      0.69     17919\n",
            "\n"
          ]
        }
      ]
    },
    {
      "cell_type": "code",
      "source": [],
      "metadata": {
        "id": "VOkrHPTG2Txv"
      },
      "execution_count": null,
      "outputs": []
    },
    {
      "cell_type": "code",
      "source": [],
      "metadata": {
        "id": "-EQeW5Xu2T0b"
      },
      "execution_count": null,
      "outputs": []
    },
    {
      "cell_type": "code",
      "source": [
        "y_pred=model.predict(x_test_scaled)"
      ],
      "metadata": {
        "id": "WimXoHe-slFt"
      },
      "execution_count": null,
      "outputs": []
    },
    {
      "cell_type": "code",
      "source": [
        "from sklearn.metrics import classification_report"
      ],
      "metadata": {
        "id": "WLkiLJe2urrE"
      },
      "execution_count": null,
      "outputs": []
    },
    {
      "cell_type": "code",
      "source": [
        "print(classification_report(df_y_test, y_pred))"
      ],
      "metadata": {
        "colab": {
          "base_uri": "https://localhost:8080/"
        },
        "id": "eFNIjmEdubba",
        "outputId": "1513510d-9674-4f59-8767-7c2d9cbaa2dd"
      },
      "execution_count": null,
      "outputs": [
        {
          "output_type": "stream",
          "name": "stdout",
          "text": [
            "              precision    recall  f1-score   support\n",
            "\n",
            "           0       0.78      0.90      0.84     13448\n",
            "           1       0.46      0.25      0.32      4471\n",
            "\n",
            "    accuracy                           0.74     17919\n",
            "   macro avg       0.62      0.57      0.58     17919\n",
            "weighted avg       0.70      0.74      0.71     17919\n",
            "\n"
          ]
        }
      ]
    },
    {
      "cell_type": "code",
      "source": [
        "from sklearn.linear_model import LogisticRegression "
      ],
      "metadata": {
        "id": "PjXshDL8wYWj"
      },
      "execution_count": null,
      "outputs": []
    },
    {
      "cell_type": "code",
      "source": [
        "log_reg = LogisticRegression(solver='lbfgs',class_weight='balanced', max_iter=10000)"
      ],
      "metadata": {
        "id": "i_5BWeIKvF3s"
      },
      "execution_count": null,
      "outputs": []
    },
    {
      "cell_type": "code",
      "source": [
        "log_reg.fit(x_train_scaled,y)"
      ],
      "metadata": {
        "colab": {
          "base_uri": "https://localhost:8080/"
        },
        "id": "Zqnk16x-waPz",
        "outputId": "ed74299f-f4c4-4f45-ba11-328f00a0cd0d"
      },
      "execution_count": null,
      "outputs": [
        {
          "output_type": "execute_result",
          "data": {
            "text/plain": [
              "LogisticRegression(class_weight='balanced', max_iter=10000)"
            ]
          },
          "metadata": {},
          "execution_count": 56
        }
      ]
    },
    {
      "cell_type": "code",
      "source": [
        "y_pred = log_reg.predict(x_test_scaled)"
      ],
      "metadata": {
        "id": "9fl6NoTpu4X5"
      },
      "execution_count": null,
      "outputs": []
    },
    {
      "cell_type": "code",
      "source": [
        "print(classification_report(df_y_test, y_pred))"
      ],
      "metadata": {
        "colab": {
          "base_uri": "https://localhost:8080/"
        },
        "id": "2TxFb0ClwjO_",
        "outputId": "5d2faa66-a8ab-4099-c1b1-e4e0428e3e31"
      },
      "execution_count": null,
      "outputs": [
        {
          "output_type": "stream",
          "name": "stdout",
          "text": [
            "              precision    recall  f1-score   support\n",
            "\n",
            "           0       0.81      0.72      0.76     13448\n",
            "           1       0.36      0.48      0.41      4471\n",
            "\n",
            "    accuracy                           0.66     17919\n",
            "   macro avg       0.58      0.60      0.59     17919\n",
            "weighted avg       0.69      0.66      0.67     17919\n",
            "\n"
          ]
        }
      ]
    },
    {
      "cell_type": "code",
      "source": [
        "from sklearn.tree import DecisionTreeClassifier"
      ],
      "metadata": {
        "id": "_zVeDCnhwz9n"
      },
      "execution_count": null,
      "outputs": []
    },
    {
      "cell_type": "code",
      "source": [
        "dtc=DecisionTreeClassifier()"
      ],
      "metadata": {
        "id": "iJ1cwzifw_5t"
      },
      "execution_count": null,
      "outputs": []
    },
    {
      "cell_type": "code",
      "source": [
        "dtc.fit(x_train_scaled,y)\n",
        "predict=dtc.predict(x_test_scaled)\n",
        "from sklearn.metrics import classification_report\n",
        "report=classification_report(df_y_test,predict)\n",
        "print(report)"
      ],
      "metadata": {
        "colab": {
          "base_uri": "https://localhost:8080/"
        },
        "id": "FLgn_ATown3h",
        "outputId": "962d5c99-d0e5-4229-d9d3-dd32d7ee4dd9"
      },
      "execution_count": null,
      "outputs": [
        {
          "output_type": "stream",
          "name": "stdout",
          "text": [
            "              precision    recall  f1-score   support\n",
            "\n",
            "           0       0.78      0.77      0.77     13448\n",
            "           1       0.33      0.35      0.34      4471\n",
            "\n",
            "    accuracy                           0.66     17919\n",
            "   macro avg       0.55      0.56      0.56     17919\n",
            "weighted avg       0.67      0.66      0.66     17919\n",
            "\n"
          ]
        }
      ]
    },
    {
      "cell_type": "code",
      "source": [
        "dtc.fit(x_bal_df,y)\n",
        "predict=dtc.predict(df_x_test)\n",
        "from sklearn.metrics import classification_report\n",
        "report=classification_report(df_y_test,predict)\n",
        "print(report)"
      ],
      "metadata": {
        "colab": {
          "base_uri": "https://localhost:8080/"
        },
        "id": "az8kgKN61Cy_",
        "outputId": "38ebfbe0-66ac-4795-a629-c40913355d12"
      },
      "execution_count": null,
      "outputs": [
        {
          "output_type": "stream",
          "name": "stdout",
          "text": [
            "              precision    recall  f1-score   support\n",
            "\n",
            "           0       0.78      0.76      0.77     13448\n",
            "           1       0.33      0.35      0.34      4471\n",
            "\n",
            "    accuracy                           0.66     17919\n",
            "   macro avg       0.55      0.56      0.56     17919\n",
            "weighted avg       0.67      0.66      0.66     17919\n",
            "\n"
          ]
        }
      ]
    },
    {
      "cell_type": "code",
      "source": [
        "params = {\"criterion\":(\"gini\", \"entropy\"), \n",
        "          \"splitter\":(\"best\", \"random\"), \n",
        "          \"max_depth\":(list(range(1, 20))), \n",
        "          \"min_samples_split\":[2, 3, 4], \n",
        "          \"min_samples_leaf\":list(range(1, 20))\n",
        "          }\n",
        "\n",
        "tree_clf = DecisionTreeClassifier(random_state=42)\n",
        "tree_cv = GridSearchCV(tree_clf, params, scoring='recall', n_jobs=-1, verbose=1, cv=3)\n",
        "tree_cv.fit(x_bal_df, y)\n",
        "best_params = tree_cv.best_params_\n",
        "print(f'Best_params: {best_params}')\n",
        "\n",
        "tree_clf = DecisionTreeClassifier(**best_params)\n",
        "tree_clf.fit(x_bal_df, y)"
      ],
      "metadata": {
        "colab": {
          "base_uri": "https://localhost:8080/"
        },
        "id": "tIi_36ASZaKe",
        "outputId": "9fce3eae-9790-40e2-d90f-62ee16b45224"
      },
      "execution_count": null,
      "outputs": [
        {
          "output_type": "stream",
          "name": "stdout",
          "text": [
            "Fitting 3 folds for each of 4332 candidates, totalling 12996 fits\n",
            "Best_params: {'criterion': 'gini', 'max_depth': 19, 'min_samples_leaf': 1, 'min_samples_split': 2, 'splitter': 'best'}\n"
          ]
        },
        {
          "output_type": "execute_result",
          "data": {
            "text/plain": [
              "DecisionTreeClassifier(max_depth=19)"
            ]
          },
          "metadata": {},
          "execution_count": 77
        }
      ]
    },
    {
      "cell_type": "code",
      "source": [
        "\n",
        "tree_clf = DecisionTreeClassifier(\n",
        "    criterion='gini',\n",
        "    max_depth=19,\n",
        "    min_samples_leaf=1,\n",
        "    min_samples_split=2,\n",
        "    splitter='best'\n",
        "    )"
      ],
      "metadata": {
        "id": "phmkx-JIsw66"
      },
      "execution_count": null,
      "outputs": []
    },
    {
      "cell_type": "code",
      "source": [
        "tree_clf.fit(x_bal_df, y)"
      ],
      "metadata": {
        "colab": {
          "base_uri": "https://localhost:8080/"
        },
        "id": "JaoiqJmGtUBo",
        "outputId": "0988d91a-b5b7-4a37-ba51-db6c7e823918"
      },
      "execution_count": null,
      "outputs": [
        {
          "output_type": "execute_result",
          "data": {
            "text/plain": [
              "DecisionTreeClassifier(max_depth=19)"
            ]
          },
          "metadata": {},
          "execution_count": 120
        }
      ]
    },
    {
      "cell_type": "code",
      "source": [
        "predict=tree_clf.predict(df_x_test)"
      ],
      "metadata": {
        "id": "XkqlwDIqtbM5"
      },
      "execution_count": null,
      "outputs": []
    },
    {
      "cell_type": "code",
      "source": [
        "report=classification_report(df_y_test,predict)\n",
        "print(report)"
      ],
      "metadata": {
        "colab": {
          "base_uri": "https://localhost:8080/"
        },
        "id": "V_y3YsvqvLN0",
        "outputId": "32b3d9f5-f25c-4294-ac6d-3dcfe133a9ac"
      },
      "execution_count": null,
      "outputs": [
        {
          "output_type": "stream",
          "name": "stdout",
          "text": [
            "              precision    recall  f1-score   support\n",
            "\n",
            "           0       0.80      0.74      0.77     13448\n",
            "           1       0.36      0.43      0.39      4471\n",
            "\n",
            "    accuracy                           0.66     17919\n",
            "   macro avg       0.58      0.59      0.58     17919\n",
            "weighted avg       0.69      0.66      0.67     17919\n",
            "\n"
          ]
        }
      ]
    },
    {
      "cell_type": "code",
      "source": [
        "rf_clf2 = RandomForestClassifier(n_estimators=50)"
      ],
      "metadata": {
        "id": "W80LienovUXx"
      },
      "execution_count": null,
      "outputs": []
    },
    {
      "cell_type": "code",
      "source": [
        "from sklearn.linear_model import LogisticRegression "
      ],
      "metadata": {
        "id": "eJ3PFtbdus8_"
      },
      "execution_count": null,
      "outputs": []
    },
    {
      "cell_type": "code",
      "source": [
        "lr=LogisticRegression(C=0.0001, class_weight='balanced', max_iter=10000,solver='lbfgs')"
      ],
      "metadata": {
        "id": "DtYKOsPFuQH-"
      },
      "execution_count": null,
      "outputs": []
    },
    {
      "cell_type": "code",
      "source": [
        "lr.fit(x_train_scaled,y)"
      ],
      "metadata": {
        "colab": {
          "base_uri": "https://localhost:8080/"
        },
        "id": "26t2sZwbuu91",
        "outputId": "bf96541e-1c0a-43b2-9b2a-f2cc652d8293"
      },
      "execution_count": null,
      "outputs": [
        {
          "output_type": "execute_result",
          "data": {
            "text/plain": [
              "LogisticRegression(C=0.0001, class_weight='balanced', max_iter=10000)"
            ]
          },
          "metadata": {},
          "execution_count": 134
        }
      ]
    },
    {
      "cell_type": "code",
      "source": [
        "predict=lr.predict(x_test_scaled)"
      ],
      "metadata": {
        "id": "4LDdByFBu1nB"
      },
      "execution_count": null,
      "outputs": []
    },
    {
      "cell_type": "code",
      "source": [
        "report=classification_report(df_y_test,predict)\n",
        "print(report)"
      ],
      "metadata": {
        "colab": {
          "base_uri": "https://localhost:8080/"
        },
        "id": "tzJJNNc5u-Zn",
        "outputId": "9bedce56-436a-419b-df54-0d153e3d07f3"
      },
      "execution_count": null,
      "outputs": [
        {
          "output_type": "stream",
          "name": "stdout",
          "text": [
            "              precision    recall  f1-score   support\n",
            "\n",
            "           0       0.82      0.58      0.68     13448\n",
            "           1       0.33      0.62      0.43      4471\n",
            "\n",
            "    accuracy                           0.59     17919\n",
            "   macro avg       0.58      0.60      0.56     17919\n",
            "weighted avg       0.70      0.59      0.62     17919\n",
            "\n"
          ]
        }
      ]
    },
    {
      "cell_type": "code",
      "source": [
        "from sklearn.metrics import roc_curve, roc_auc_score\n",
        "\n",
        "# Instantiate the classfiers and make a list\n",
        "classifiers = [LogisticRegression(C=0.0001, class_weight='balanced', max_iter=10000,solver='lbfgs'), \n",
        "               DecisionTreeClassifier(criterion='gini',\n",
        "    max_depth=19,\n",
        "    min_samples_leaf=1,\n",
        "    min_samples_split=2,\n",
        "    splitter='best'),\n",
        "               RandomForestClassifier(n_estimators=50)]\n",
        "\n",
        "# Define a result table as a DataFrame\n",
        "result_table = pd.DataFrame(columns=['classifiers', 'fpr','tpr','auc'])\n",
        "\n",
        "# Train the models and record the results\n",
        "for cls in classifiers:\n",
        "    model = cls.fit(x_train_scaled,y)\n",
        "    yproba = model.predict_proba(x_test_scaled)[::,1]\n",
        "    \n",
        "    fpr, tpr, _ = roc_curve(df_y_test,  yproba)\n",
        "    auc = roc_auc_score(df_y_test, yproba)\n",
        "    \n",
        "    result_table = result_table.append({'classifiers':cls.__class__.__name__,\n",
        "                                        'fpr':fpr, \n",
        "                                        'tpr':tpr, \n",
        "                                        'auc':auc}, ignore_index=True)\n",
        "\n",
        "# Set name of the classifiers as index labels\n",
        "result_table.set_index('classifiers', inplace=True)"
      ],
      "metadata": {
        "id": "GsJbmudlvN_f"
      },
      "execution_count": null,
      "outputs": []
    },
    {
      "cell_type": "code",
      "source": [],
      "metadata": {
        "id": "FlTO2KLew5Bo"
      },
      "execution_count": null,
      "outputs": []
    },
    {
      "cell_type": "code",
      "source": [
        "result_table"
      ],
      "metadata": {
        "colab": {
          "base_uri": "https://localhost:8080/",
          "height": 175
        },
        "id": "56u2fGjjwMtP",
        "outputId": "c3f0bfbb-8395-4bc6-e853-f0aee9e499b4"
      },
      "execution_count": null,
      "outputs": [
        {
          "output_type": "execute_result",
          "data": {
            "text/plain": [
              "                                                                      fpr  \\\n",
              "classifiers                                                                 \n",
              "LogisticRegression      [0.0, 0.0, 0.0, 7.4360499702558e-05, 7.4360499...   \n",
              "DecisionTreeClassifier  [0.0, 0.0655116002379536, 0.06558596073765616,...   \n",
              "RandomForestClassifier  [0.0, 0.000148720999405116, 0.0002230814991076...   \n",
              "\n",
              "                                                                      tpr  \\\n",
              "classifiers                                                                 \n",
              "LogisticRegression      [0.0, 0.00022366360993066427, 0.00044732721986...   \n",
              "DecisionTreeClassifier  [0.0, 0.093267725341087, 0.093267725341087, 0....   \n",
              "RandomForestClassifier  [0.0, 0.0, 0.0, 0.0008946544397226571, 0.00246...   \n",
              "\n",
              "                             auc  \n",
              "classifiers                       \n",
              "LogisticRegression      0.658125  \n",
              "DecisionTreeClassifier  0.626554  \n",
              "RandomForestClassifier  0.697514  "
            ],
            "text/html": [
              "\n",
              "  <div id=\"df-a72a0163-89ac-409b-b8ab-fcdeb2e18b32\">\n",
              "    <div class=\"colab-df-container\">\n",
              "      <div>\n",
              "<style scoped>\n",
              "    .dataframe tbody tr th:only-of-type {\n",
              "        vertical-align: middle;\n",
              "    }\n",
              "\n",
              "    .dataframe tbody tr th {\n",
              "        vertical-align: top;\n",
              "    }\n",
              "\n",
              "    .dataframe thead th {\n",
              "        text-align: right;\n",
              "    }\n",
              "</style>\n",
              "<table border=\"1\" class=\"dataframe\">\n",
              "  <thead>\n",
              "    <tr style=\"text-align: right;\">\n",
              "      <th></th>\n",
              "      <th>fpr</th>\n",
              "      <th>tpr</th>\n",
              "      <th>auc</th>\n",
              "    </tr>\n",
              "    <tr>\n",
              "      <th>classifiers</th>\n",
              "      <th></th>\n",
              "      <th></th>\n",
              "      <th></th>\n",
              "    </tr>\n",
              "  </thead>\n",
              "  <tbody>\n",
              "    <tr>\n",
              "      <th>LogisticRegression</th>\n",
              "      <td>[0.0, 0.0, 0.0, 7.4360499702558e-05, 7.4360499...</td>\n",
              "      <td>[0.0, 0.00022366360993066427, 0.00044732721986...</td>\n",
              "      <td>0.658125</td>\n",
              "    </tr>\n",
              "    <tr>\n",
              "      <th>DecisionTreeClassifier</th>\n",
              "      <td>[0.0, 0.0655116002379536, 0.06558596073765616,...</td>\n",
              "      <td>[0.0, 0.093267725341087, 0.093267725341087, 0....</td>\n",
              "      <td>0.626554</td>\n",
              "    </tr>\n",
              "    <tr>\n",
              "      <th>RandomForestClassifier</th>\n",
              "      <td>[0.0, 0.000148720999405116, 0.0002230814991076...</td>\n",
              "      <td>[0.0, 0.0, 0.0, 0.0008946544397226571, 0.00246...</td>\n",
              "      <td>0.697514</td>\n",
              "    </tr>\n",
              "  </tbody>\n",
              "</table>\n",
              "</div>\n",
              "      <button class=\"colab-df-convert\" onclick=\"convertToInteractive('df-a72a0163-89ac-409b-b8ab-fcdeb2e18b32')\"\n",
              "              title=\"Convert this dataframe to an interactive table.\"\n",
              "              style=\"display:none;\">\n",
              "        \n",
              "  <svg xmlns=\"http://www.w3.org/2000/svg\" height=\"24px\"viewBox=\"0 0 24 24\"\n",
              "       width=\"24px\">\n",
              "    <path d=\"M0 0h24v24H0V0z\" fill=\"none\"/>\n",
              "    <path d=\"M18.56 5.44l.94 2.06.94-2.06 2.06-.94-2.06-.94-.94-2.06-.94 2.06-2.06.94zm-11 1L8.5 8.5l.94-2.06 2.06-.94-2.06-.94L8.5 2.5l-.94 2.06-2.06.94zm10 10l.94 2.06.94-2.06 2.06-.94-2.06-.94-.94-2.06-.94 2.06-2.06.94z\"/><path d=\"M17.41 7.96l-1.37-1.37c-.4-.4-.92-.59-1.43-.59-.52 0-1.04.2-1.43.59L10.3 9.45l-7.72 7.72c-.78.78-.78 2.05 0 2.83L4 21.41c.39.39.9.59 1.41.59.51 0 1.02-.2 1.41-.59l7.78-7.78 2.81-2.81c.8-.78.8-2.07 0-2.86zM5.41 20L4 18.59l7.72-7.72 1.47 1.35L5.41 20z\"/>\n",
              "  </svg>\n",
              "      </button>\n",
              "      \n",
              "  <style>\n",
              "    .colab-df-container {\n",
              "      display:flex;\n",
              "      flex-wrap:wrap;\n",
              "      gap: 12px;\n",
              "    }\n",
              "\n",
              "    .colab-df-convert {\n",
              "      background-color: #E8F0FE;\n",
              "      border: none;\n",
              "      border-radius: 50%;\n",
              "      cursor: pointer;\n",
              "      display: none;\n",
              "      fill: #1967D2;\n",
              "      height: 32px;\n",
              "      padding: 0 0 0 0;\n",
              "      width: 32px;\n",
              "    }\n",
              "\n",
              "    .colab-df-convert:hover {\n",
              "      background-color: #E2EBFA;\n",
              "      box-shadow: 0px 1px 2px rgba(60, 64, 67, 0.3), 0px 1px 3px 1px rgba(60, 64, 67, 0.15);\n",
              "      fill: #174EA6;\n",
              "    }\n",
              "\n",
              "    [theme=dark] .colab-df-convert {\n",
              "      background-color: #3B4455;\n",
              "      fill: #D2E3FC;\n",
              "    }\n",
              "\n",
              "    [theme=dark] .colab-df-convert:hover {\n",
              "      background-color: #434B5C;\n",
              "      box-shadow: 0px 1px 3px 1px rgba(0, 0, 0, 0.15);\n",
              "      filter: drop-shadow(0px 1px 2px rgba(0, 0, 0, 0.3));\n",
              "      fill: #FFFFFF;\n",
              "    }\n",
              "  </style>\n",
              "\n",
              "      <script>\n",
              "        const buttonEl =\n",
              "          document.querySelector('#df-a72a0163-89ac-409b-b8ab-fcdeb2e18b32 button.colab-df-convert');\n",
              "        buttonEl.style.display =\n",
              "          google.colab.kernel.accessAllowed ? 'block' : 'none';\n",
              "\n",
              "        async function convertToInteractive(key) {\n",
              "          const element = document.querySelector('#df-a72a0163-89ac-409b-b8ab-fcdeb2e18b32');\n",
              "          const dataTable =\n",
              "            await google.colab.kernel.invokeFunction('convertToInteractive',\n",
              "                                                     [key], {});\n",
              "          if (!dataTable) return;\n",
              "\n",
              "          const docLinkHtml = 'Like what you see? Visit the ' +\n",
              "            '<a target=\"_blank\" href=https://colab.research.google.com/notebooks/data_table.ipynb>data table notebook</a>'\n",
              "            + ' to learn more about interactive tables.';\n",
              "          element.innerHTML = '';\n",
              "          dataTable['output_type'] = 'display_data';\n",
              "          await google.colab.output.renderOutput(dataTable, element);\n",
              "          const docLink = document.createElement('div');\n",
              "          docLink.innerHTML = docLinkHtml;\n",
              "          element.appendChild(docLink);\n",
              "        }\n",
              "      </script>\n",
              "    </div>\n",
              "  </div>\n",
              "  "
            ]
          },
          "metadata": {},
          "execution_count": 141
        }
      ]
    },
    {
      "cell_type": "code",
      "source": [
        "import matplotlib.pyplot as plt"
      ],
      "metadata": {
        "id": "ewhMR37Iv2xi"
      },
      "execution_count": null,
      "outputs": []
    },
    {
      "cell_type": "code",
      "source": [
        "fig = plt.figure(figsize=(8,6))\n",
        "\n",
        "for i in result_table.index:\n",
        "    plt.plot(result_table.loc[i]['fpr'], \n",
        "             result_table.loc[i]['tpr'], \n",
        "             label=\"{}, AUC={:.2f}\".format(i, result_table.loc[i]['auc']))\n",
        "    \n",
        "##plt.plot([0,1], [0,1], color='orange', linestyle='--')\n",
        "\n",
        "plt.xticks(np.arange(0.0, 1.1, step=0.1))\n",
        "plt.xlabel(\"False Positive Rate\", fontsize=15)\n",
        "\n",
        "plt.yticks(np.arange(0.0, 1.1, step=0.1))\n",
        "plt.ylabel(\"True Positive Rate\", fontsize=15)\n",
        "\n",
        "plt.title('ROC Curve Analysis', fontweight='bold', fontsize=15)\n",
        "plt.legend(prop={'size':13}, loc='lower right')\n",
        "\n",
        "plt.show()"
      ],
      "metadata": {
        "colab": {
          "base_uri": "https://localhost:8080/",
          "height": 411
        },
        "id": "mAHdnZf4v7P2",
        "outputId": "b34dab71-fb54-416e-cf0d-b2153e91260b"
      },
      "execution_count": null,
      "outputs": [
        {
          "output_type": "display_data",
          "data": {
            "text/plain": [
              "<Figure size 576x432 with 1 Axes>"
            ],
            "image/png": "[encoded data removed]"
          },
          "metadata": {
            "needs_background": "light"
          }
        }
      ]
    },
    {
      "cell_type": "code",
      "source": [
        "fig.savefig('multiple_roc_curve_2.png',dpi=400)"
      ],
      "metadata": {
        "id": "mE_wXs1Jw6ap"
      },
      "execution_count": null,
      "outputs": []
    }
  ]
}